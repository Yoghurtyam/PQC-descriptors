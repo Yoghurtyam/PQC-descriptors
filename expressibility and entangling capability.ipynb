{
 "cells": [
  {
   "cell_type": "markdown",
   "metadata": {},
   "source": [
    "# Comparing Expressibility and Entangling Capacity for various PQCs"
   ]
  },
  {
   "cell_type": "markdown",
   "metadata": {},
   "source": [
    "## Calculating Expressibilty\n",
    "\n",
    "**Step 1:** Choose the _parameterized circuit_    \n",
    "**Step 2:** Create two sets of random parameters extracted from a uniform distribution and find the corresponding _two random states_   \n",
    "**Step 3:** Find the fidelity of these two states    \n",
    "**Step 4:** Repeat the whole process 5000 times (varies with change in width and type of PQC)    \n",
    "**Step 5:** Discretize this continuous distribution of fidelities    \n",
    "**Step 6:** Find the KL divergence between this distribution and the distribution of Haar states. This value of KL divergence is the required *Expressibility*"
   ]
  },
  {
   "cell_type": "markdown",
   "metadata": {},
   "source": [
    "### Creating the Parameterised Quantum Circuit"
   ]
  },
  {
   "cell_type": "code",
   "execution_count": 12,
   "metadata": {},
   "outputs": [],
   "source": [
    "import time\n",
    "from qiskit.circuit.library import ZZFeatureMap, ZFeatureMap, PauliFeatureMap, RealAmplitudes, EfficientSU2\n",
    "from qiskit.aqua.utils import split_dataset_to_data_and_labels, map_label_to_class_name\n",
    "from qiskit.aqua import QuantumInstance\n",
    "from qiskit.aqua.algorithms import VQC\n",
    "from qiskit.aqua.components.optimizers import COBYLA\n",
    "\n",
    "from qiskit import *\n",
    "from qiskit.aqua import QuantumInstance\n",
    "from qiskit.aqua.algorithms import VQC\n",
    "from qiskit.aqua.components.feature_maps import FeatureMap\n",
    "from qiskit.aqua.components.variational_forms import VariationalForm\n",
    "import numpy as np\n",
    "\n",
    "import pandas as pd\n",
    "import matplotlib.pyplot as plt\n",
    "%matplotlib inline\n",
    "\n",
    "from qiskit.circuit import Parameter, ParameterVector\n",
    "from qiskit.quantum_info import state_fidelity, random_statevector, hellinger_fidelity\n",
    "\n",
    "from IPython.display import clear_output\n",
    "from scipy.stats import entropy"
   ]
  },
  {
   "cell_type": "markdown",
   "metadata": {},
   "source": [
    "### Defining PQC1"
   ]
  },
  {
   "cell_type": "code",
   "execution_count": 13,
   "metadata": {},
   "outputs": [],
   "source": [
    "def pqc_1(num_qubits=3, reps=1):\n",
    "    num_qubits = num_qubits            \n",
    "    reps = reps             # number of times you'd want to repeat the circuit\n",
    "\n",
    "    num_params = int(reps*(num_qubits + 2*((num_qubits*(num_qubits - 1))/2)))\n",
    "    x = ParameterVector('x', length=num_params)  # creating a list of Parameters\n",
    "    variational_form = QuantumCircuit(num_qubits)\n",
    "\n",
    "    num = -1\n",
    "    # defining our parametric form\n",
    "    for _ in range(reps):\n",
    "        for i in range(num_qubits):\n",
    "            num = num + 1\n",
    "            variational_form.rx(x[num], i)\n",
    "\n",
    "        for i in range(num_qubits):\n",
    "            for j in range(i + 1, num_qubits):\n",
    "                variational_form.cx(i, j)\n",
    "                num = num + 1\n",
    "                variational_form.u1(x[num], i)\n",
    "                num = num + 1\n",
    "                variational_form.u1(x[num], j)\n",
    "                variational_form.cx(i, j)\n",
    "    return variational_form"
   ]
  },
  {
   "cell_type": "code",
   "execution_count": 14,
   "metadata": {},
   "outputs": [
    {
     "data": {
      "image/png": "[encoded data removed]",
      "text/plain": [
       "<Figure size 688.597x204.68 with 1 Axes>"
      ]
     },
     "execution_count": 14,
     "metadata": {},
     "output_type": "execute_result"
    }
   ],
   "source": [
    "a = pqc_1()\n",
    "a.draw(output=\"mpl\")"
   ]
  },
  {
   "cell_type": "markdown",
   "metadata": {},
   "source": [
    "### Defining PQC2 "
   ]
  },
  {
   "cell_type": "code",
   "execution_count": 15,
   "metadata": {},
   "outputs": [],
   "source": [
    "def pqc_2(num_qubits=3, reps=1):\n",
    "    num_qubits = num_qubits            \n",
    "    reps = reps\n",
    "    num_params = int(reps*(num_qubits + 3*((num_qubits*(num_qubits - 1))/2)))\n",
    "    x = ParameterVector('y', length=num_params)  # creating a list of Parameters\n",
    "    variational_form = QuantumCircuit(num_qubits)\n",
    "\n",
    "    num = -1\n",
    "    # defining our parametric form\n",
    "    for _ in range(reps):\n",
    "        for i in range(num_qubits):\n",
    "            num = num + 1\n",
    "            variational_form.rx(x[num], i)\n",
    "\n",
    "        for i in range(num_qubits):\n",
    "            for j in range(i + 1, num_qubits):\n",
    "                num = num + 1\n",
    "                variational_form.u1(x[num], j)\n",
    "                variational_form.cx(i, j)\n",
    "                num = num + 1\n",
    "                variational_form.u1(x[num], i)\n",
    "                variational_form.cx(i, j)\n",
    "                num = num + 1\n",
    "                variational_form.u1(x[num], j)\n",
    "    return variational_form"
   ]
  },
  {
   "cell_type": "code",
   "execution_count": 16,
   "metadata": {},
   "outputs": [
    {
     "data": {
      "image/png": "[encoded data removed]",
      "text/plain": [
       "<Figure size 989.597x204.68 with 1 Axes>"
      ]
     },
     "execution_count": 16,
     "metadata": {},
     "output_type": "execute_result"
    }
   ],
   "source": [
    "b = pqc_2()\n",
    "b.draw(output='mpl')"
   ]
  },
  {
   "cell_type": "markdown",
   "metadata": {},
   "source": [
    "### Function to create Circuit B from the paper"
   ]
  },
  {
   "cell_type": "code",
   "execution_count": 17,
   "metadata": {},
   "outputs": [],
   "source": [
    "def pqc_test(num_qubits=4, reps=1):\n",
    "    num_qubits = num_qubits            \n",
    "    reps = reps\n",
    "    num_params = int(2*num_qubits*reps)\n",
    "    x = ParameterVector('z', length=num_params)  # creating a list of Parameters\n",
    "    variational_form = QuantumCircuit(num_qubits)\n",
    "\n",
    "    num = -1\n",
    "    # defining our parametric form\n",
    "    for _ in range(reps):\n",
    "        for i in range(num_qubits):\n",
    "            num = num + 1\n",
    "            variational_form.h(i)\n",
    "            variational_form.rz(x[num], i)\n",
    "        \n",
    "        for i in range(num_qubits):\n",
    "            num = num + 1\n",
    "            variational_form.rx(x[num], i)\n",
    "    return variational_form"
   ]
  },
  {
   "cell_type": "code",
   "execution_count": 18,
   "metadata": {},
   "outputs": [
    {
     "data": {
      "image/png": "[encoded data removed]",
      "text/plain": [
       "<Figure size 628.397x204.68 with 1 Axes>"
      ]
     },
     "execution_count": 18,
     "metadata": {},
     "output_type": "execute_result"
    }
   ],
   "source": [
    "test = pqc_test(num_qubits=3, reps = 3)\n",
    "test.draw(output='mpl')"
   ]
  },
  {
   "cell_type": "markdown",
   "metadata": {},
   "source": [
    "## RX RZ"
   ]
  },
  {
   "cell_type": "code",
   "execution_count": 19,
   "metadata": {},
   "outputs": [],
   "source": [
    "def rx_rz(num_qubits=4, reps=1):\n",
    "    num_qubits = num_qubits            \n",
    "    reps = reps\n",
    "    num_params = int(2*num_qubits*reps)\n",
    "    x = ParameterVector('a', length=num_params)  # creating a list of Parameters\n",
    "    variational_form = QuantumCircuit(num_qubits)\n",
    "\n",
    "    num = -1\n",
    "    # defining our parametric form\n",
    "    for _ in range(reps):\n",
    "        for i in range(num_qubits):\n",
    "            num = num + 1\n",
    "            variational_form.rx(x[num], i)\n",
    "        \n",
    "        for i in range(num_qubits):\n",
    "            num = num + 1\n",
    "            variational_form.rz(x[num], i)\n",
    "    return variational_form"
   ]
  },
  {
   "cell_type": "code",
   "execution_count": 20,
   "metadata": {},
   "outputs": [
    {
     "data": {
      "image/png": "[encoded data removed]",
      "text/plain": [
       "<Figure size 447.797x204.68 with 1 Axes>"
      ]
     },
     "execution_count": 20,
     "metadata": {},
     "output_type": "execute_result"
    }
   ],
   "source": [
    "test = rx_rz(num_qubits=3, reps = 3)\n",
    "test.draw(output='mpl')"
   ]
  },
  {
   "cell_type": "code",
   "execution_count": 21,
   "metadata": {},
   "outputs": [],
   "source": [
    "def c3(num_qubits=4, reps=1):\n",
    "    num_qubits = num_qubits            \n",
    "    reps = reps\n",
    "    num_params = int(((2*num_qubits) + num_qubits-1)*reps)\n",
    "    x = ParameterVector('b', length=num_params)  # creating a list of Parameters\n",
    "    variational_form = QuantumCircuit(num_qubits)\n",
    "\n",
    "    num = -1\n",
    "    # defining our parametric form\n",
    "    for _ in range(reps):\n",
    "        for i in range(num_qubits):\n",
    "            num = num + 1\n",
    "            variational_form.rx(x[num], i)\n",
    "        \n",
    "        for i in range(num_qubits):\n",
    "            num = num + 1\n",
    "            variational_form.rz(x[num], i)\n",
    "            \n",
    "        for i in range(num_qubits-1):\n",
    "            num = num + 1\n",
    "            variational_form.crz(x[num], num_qubits-i-1, num_qubits-i-2)\n",
    "            \n",
    "    return variational_form"
   ]
  },
  {
   "cell_type": "code",
   "execution_count": 22,
   "metadata": {},
   "outputs": [
    {
     "data": {
      "text/html": [
       "<pre style=\"word-wrap: normal;white-space: pre;background: #fff0;line-height: 1.1;font-family: &quot;Courier New&quot;,Courier,monospace\">     ┌──────────┐┌──────────┐                        ┌───────────┐\n",
       "q_0: ┤ RX(b[0]) ├┤ RZ(b[4]) ├────────────────────────┤ RZ(b[10]) ├\n",
       "     ├──────────┤├──────────┤            ┌──────────┐└─────┬─────┘\n",
       "q_1: ┤ RX(b[1]) ├┤ RZ(b[5]) ├────────────┤ RZ(b[9]) ├──────■──────\n",
       "     ├──────────┤├──────────┤┌──────────┐└────┬─────┘             \n",
       "q_2: ┤ RX(b[2]) ├┤ RZ(b[6]) ├┤ RZ(b[8]) ├─────■───────────────────\n",
       "     ├──────────┤├──────────┤└────┬─────┘                         \n",
       "q_3: ┤ RX(b[3]) ├┤ RZ(b[7]) ├─────■───────────────────────────────\n",
       "     └──────────┘└──────────┘                                     </pre>"
      ],
      "text/plain": [
       "     ┌──────────┐┌──────────┐                        ┌───────────┐\n",
       "q_0: ┤ RX(b[0]) ├┤ RZ(b[4]) ├────────────────────────┤ RZ(b[10]) ├\n",
       "     ├──────────┤├──────────┤            ┌──────────┐└─────┬─────┘\n",
       "q_1: ┤ RX(b[1]) ├┤ RZ(b[5]) ├────────────┤ RZ(b[9]) ├──────■──────\n",
       "     ├──────────┤├──────────┤┌──────────┐└────┬─────┘             \n",
       "q_2: ┤ RX(b[2]) ├┤ RZ(b[6]) ├┤ RZ(b[8]) ├─────■───────────────────\n",
       "     ├──────────┤├──────────┤└────┬─────┘                         \n",
       "q_3: ┤ RX(b[3]) ├┤ RZ(b[7]) ├─────■───────────────────────────────\n",
       "     └──────────┘└──────────┘                                     "
      ]
     },
     "execution_count": 22,
     "metadata": {},
     "output_type": "execute_result"
    }
   ],
   "source": [
    "c3().draw()"
   ]
  },
  {
   "cell_type": "code",
   "execution_count": 37,
   "metadata": {},
   "outputs": [
    {
     "data": {
      "image/png": "[encoded data removed]",
      "text/plain": [
       "<Figure size 387.597x204.68 with 1 Axes>"
      ]
     },
     "execution_count": 37,
     "metadata": {},
     "output_type": "execute_result"
    }
   ],
   "source": [
    "qc_real_ = RealAmplitudes(num_qubits=3, reps=1)\n",
    "qc_real_.draw(output=\"mpl\")"
   ]
  },
  {
   "cell_type": "code",
   "execution_count": 42,
   "metadata": {},
   "outputs": [
    {
     "data": {
      "image/png": "[encoded data removed]",
      "text/plain": [
       "<Figure size 206.997x204.68 with 1 Axes>"
      ]
     },
     "execution_count": 42,
     "metadata": {},
     "output_type": "execute_result"
    }
   ],
   "source": [
    "qc5 = ZFeatureMap(feature_dimension=3, reps=1)\n",
    "qc5.draw(output=\"mpl\")"
   ]
  },
  {
   "cell_type": "code",
   "execution_count": 43,
   "metadata": {},
   "outputs": [
    {
     "data": {
      "image/png": "[encoded data removed]",
      "text/plain": [
       "<Figure size 1110x204.68 with 1 Axes>"
      ]
     },
     "execution_count": 43,
     "metadata": {},
     "output_type": "execute_result"
    }
   ],
   "source": [
    "qc5 = ZZFeatureMap(feature_dimension=3, reps=1)\n",
    "qc5.draw(output=\"mpl\")"
   ]
  },
  {
   "cell_type": "markdown",
   "metadata": {},
   "source": [
    "## Defining expressibility "
   ]
  },
  {
   "cell_type": "code",
   "execution_count": 23,
   "metadata": {},
   "outputs": [
    {
     "data": {
      "text/plain": [
       "5"
      ]
     },
     "execution_count": 23,
     "metadata": {},
     "output_type": "execute_result"
    }
   ],
   "source": [
    "a1 = np.array([1, 2,3, 4, 5])\n",
    "a1.size"
   ]
  },
  {
   "cell_type": "code",
   "execution_count": 24,
   "metadata": {},
   "outputs": [
    {
     "name": "stdout",
     "output_type": "stream",
     "text": [
      "[0.   0.25 0.5  0.75 1.  ]\n"
     ]
    }
   ],
   "source": [
    "print(np.linspace(0,1, 5))"
   ]
  },
  {
   "cell_type": "code",
   "execution_count": 25,
   "metadata": {},
   "outputs": [],
   "source": [
    "def prob_dist_haar(num_qubits, bin_num):\n",
    "    points = np.linspace(0, 1, bin_num + 1) # we are taking one more number than the number of bins so that we can take the average number at each instance for the vvalue at that specific bin \n",
    "    haar = []\n",
    "    const = (2**num_qubits) - 1\n",
    "    power = const - 1\n",
    "    for i in range(bin_num):\n",
    "        haar.append(const*((1 - ((points[i] +points[i+1])/2))**power))\n",
    "    haar_prob = haar/sum(haar)\n",
    "#     print(haar_prob)\n",
    "    return haar_prob"
   ]
  },
  {
   "cell_type": "code",
   "execution_count": 26,
   "metadata": {},
   "outputs": [
    {
     "data": {
      "image/png": "[encoded data removed]",
      "text/plain": [
       "<Figure size 432x288 with 1 Axes>"
      ]
     },
     "metadata": {
      "needs_background": "light"
     },
     "output_type": "display_data"
    }
   ],
   "source": [
    "# testing haar prob\n",
    "dist = prob_dist_haar(4, 75)\n",
    "plt.hist(dist)\n",
    "plt.show()"
   ]
  },
  {
   "cell_type": "code",
   "execution_count": 27,
   "metadata": {},
   "outputs": [],
   "source": [
    "def kl_divergence(a, b):\n",
    "    \"\"\" Compute KL divergence of a || b\"\"\"\n",
    "    a = np.array(a)\n",
    "    b = np.array(b)\n",
    "    divergence = 0\n",
    "    if a.size != b.size:\n",
    "        print(\"num of bins of both discrete probability distributions must be same. Size of a is {} and b is {}\". format(a.size, b.size))\n",
    "    else:\n",
    "        for i in range(a.size):\n",
    "            divergence = divergence + a[i]*np.log(a[i]/b[i])\n",
    "    return divergence"
   ]
  },
  {
   "cell_type": "code",
   "execution_count": 28,
   "metadata": {},
   "outputs": [],
   "source": [
    "def hellinger(dist_a, dist_b):\n",
    "    fid = 0\n",
    "    if len(dist_a) != len(dist_b):\n",
    "        print(\"Both the distributions must be of same length\");\n",
    "    else:\n",
    "        dict_a = {}\n",
    "        dict_b = {}\n",
    "        for i in range(len(dist_a)):\n",
    "            dict_a[i] = dist_a[i]\n",
    "            dict_b[i] = dist_b[i]\n",
    "        fid = hellinger_fidelity(dict_a, dict_b)\n",
    "    return(fid)"
   ]
  },
  {
   "cell_type": "code",
   "execution_count": 29,
   "metadata": {},
   "outputs": [],
   "source": [
    "def expressibility(pqc, trials=5000, bin_num=75, draw=False):\n",
    "    num_params = pqc.num_parameters\n",
    "    set_ = pqc.parameters\n",
    "    num_qubits = pqc.num_qubits\n",
    "    r1 = {}\n",
    "    r2 = {}\n",
    "    fidelities = []\n",
    "    bins = []\n",
    "    trials_by_10 = int(trials/10)\n",
    "    for j in range(trials):\n",
    "        if j%trials_by_10==0:\n",
    "            print(\"{}% completed\".format(int((j/trials_by_10)*10)))\n",
    "        # for each trial form two arrays of random variables \n",
    "        for k in set_:\n",
    "            r1[k] = 2*np.pi*np.random.rand()\n",
    "            r2[k] = 2*np.pi*np.random.rand()\n",
    "        circ_1 = pqc.bind_parameters(r1)\n",
    "        circ_2 = pqc.bind_parameters(r2)\n",
    "        backend = Aer.get_backend('statevector_simulator')\n",
    "        job1 = execute(circ_1, backend)\n",
    "        job2 = execute(circ_2, backend)\n",
    "        v1 = job1.result().get_statevector()\n",
    "        v2 = job2.result().get_statevector()\n",
    "        fidelity = np.abs(np.dot(np.conjugate(v1), v2))**2\n",
    "#         fidelity = state_fidelity(v1, v2)\n",
    "        fidelities.append(fidelity)\n",
    "    print(\"Fidelity calculations have been completed.\")\n",
    "    fidelities = np.array(fidelities)\n",
    "    \n",
    "    # calculating the probability distribution of haar random state fidelities. \n",
    "    # Note: haar_fid is a probability distribution however fidelities is a frequency distribution\n",
    "    haar_fid = prob_dist_haar(num_qubits=num_qubits, bin_num=bin_num)\n",
    "    \n",
    "    # drawing the fidelities \n",
    "#     plt.bar(np.linspace(0,1, bin_num), haar_fid)\n",
    "#     fig, ax = plt.subplots()\n",
    "    \n",
    "    n, bins, _ = plt.hist(fidelities, bins=np.linspace(0,1, bin_num+1), alpha = 0.5)\n",
    "    if draw:  \n",
    "        plt.plot()\n",
    "#         plt.axhline(y = trials*(1/bin_num), ls = '--')\n",
    "        plt.xlabel(\"Fidelities\")\n",
    "        plt.ylabel(\"Counts\")\n",
    "        plt.show()\n",
    "    \n",
    "#     if num_qubits == 1:\n",
    "#     # creating fidelities of Haar distribution \n",
    "#         haar_fid = np.ones(bin_num)/(bin_num)\n",
    "#     else:\n",
    "#         haar_fid = []\n",
    "#         for i in range(trials):\n",
    "#             haar1 = random_statevector(2**num_qubits)\n",
    "#             haar2 = random_statevector(2**num_qubits)\n",
    "#             haar_fid.append(state_fidelity(haar1, haar2))\n",
    "#         haar_fid = np.array(haar_fid)\n",
    "    \n",
    "    pqc_fidelity_probs = n/trials\n",
    "#     expressibility = kl_divergence(pqc_fidelity_probs, haar_fid)  # this implementation is unstable \n",
    "    expressibility = entropy(pqc_fidelity_probs, haar_fid)\n",
    "    print(\"Hellinger fidelity: {}\".format(hellinger(pqc_fidelity_probs, haar_fid)))\n",
    "    print(\"KL divergence: {}\".format(expressibility))\n",
    "#     clear_output()\n",
    "    print(\"Expressibility of the pqc is {}\".format(expressibility))\n",
    "    return expressibility, fidelities, r1, r2"
   ]
  },
  {
   "cell_type": "code",
   "execution_count": 30,
   "metadata": {},
   "outputs": [
    {
     "name": "stdout",
     "output_type": "stream",
     "text": [
      "0% completed\n",
      "10% completed\n",
      "20% completed\n",
      "30% completed\n",
      "40% completed\n",
      "50% completed\n",
      "60% completed\n",
      "70% completed\n",
      "80% completed\n",
      "90% completed\n",
      "Fidelity calculations have been completed.\n"
     ]
    },
    {
     "data": {
      "image/png": "[encoded data removed]",
      "text/plain": [
       "<Figure size 432x288 with 1 Axes>"
      ]
     },
     "metadata": {
      "needs_background": "light"
     },
     "output_type": "display_data"
    },
    {
     "name": "stdout",
     "output_type": "stream",
     "text": [
      "Hellinger fidelity: 0.9361124586609884\n",
      "KL divergence: 0.15602948884216372\n",
      "Expressibility of the pqc is 0.15602948884216372\n"
     ]
    }
   ],
   "source": [
    "expressibility_test, results_pqc_test_2, pqc_test_r1_2, pqc_test_r2_2 = expressibility(pqc_1(num_qubits=3,reps=1), draw=True)\n"
   ]
  },
  {
   "cell_type": "code",
   "execution_count": 31,
   "metadata": {},
   "outputs": [
    {
     "name": "stdout",
     "output_type": "stream",
     "text": [
      "0% completed\n",
      "10% completed\n",
      "20% completed\n",
      "30% completed\n",
      "40% completed\n",
      "50% completed\n",
      "60% completed\n",
      "70% completed\n",
      "80% completed\n",
      "90% completed\n",
      "Fidelity calculations have been completed.\n"
     ]
    },
    {
     "data": {
      "image/png": "[encoded data removed]",
      "text/plain": [
       "<Figure size 432x288 with 1 Axes>"
      ]
     },
     "metadata": {
      "needs_background": "light"
     },
     "output_type": "display_data"
    },
    {
     "name": "stdout",
     "output_type": "stream",
     "text": [
      "Hellinger fidelity: 0.9171396159629125\n",
      "KL divergence: 0.2103084232078138\n",
      "Expressibility of the pqc is 0.2103084232078138\n"
     ]
    }
   ],
   "source": [
    "expressibility_test, results_pqc_test_2, pqc_test_r1_2, pqc_test_r2_2 = expressibility(pqc_2(num_qubits=3,reps=1), draw=True)\n"
   ]
  },
  {
   "cell_type": "code",
   "execution_count": 32,
   "metadata": {},
   "outputs": [
    {
     "name": "stdout",
     "output_type": "stream",
     "text": [
      "0% completed\n",
      "10% completed\n",
      "20% completed\n",
      "30% completed\n",
      "40% completed\n",
      "50% completed\n",
      "60% completed\n",
      "70% completed\n",
      "80% completed\n",
      "90% completed\n",
      "Fidelity calculations have been completed.\n"
     ]
    },
    {
     "data": {
      "image/png": "[encoded data removed]",
      "text/plain": [
       "<Figure size 432x288 with 1 Axes>"
      ]
     },
     "metadata": {
      "needs_background": "light"
     },
     "output_type": "display_data"
    },
    {
     "name": "stdout",
     "output_type": "stream",
     "text": [
      "Hellinger fidelity: 0.9121939247378033\n",
      "KL divergence: 0.2183213719761844\n",
      "Expressibility of the pqc is 0.2183213719761844\n"
     ]
    }
   ],
   "source": [
    "expressibility_test, results_pqc_test_2, pqc_test_r1_2, pqc_test_r2_2 = expressibility(RealAmplitudes(num_qubits=3,reps=1), draw=True)\n"
   ]
  },
  {
   "cell_type": "code",
   "execution_count": 33,
   "metadata": {},
   "outputs": [
    {
     "name": "stdout",
     "output_type": "stream",
     "text": [
      "0% completed\n",
      "10% completed\n",
      "20% completed\n",
      "30% completed\n",
      "40% completed\n",
      "50% completed\n",
      "60% completed\n",
      "70% completed\n",
      "80% completed\n",
      "90% completed\n",
      "Fidelity calculations have been completed.\n"
     ]
    },
    {
     "data": {
      "image/png": "[encoded data removed]",
      "text/plain": [
       "<Figure size 432x288 with 1 Axes>"
      ]
     },
     "metadata": {
      "needs_background": "light"
     },
     "output_type": "display_data"
    },
    {
     "name": "stdout",
     "output_type": "stream",
     "text": [
      "Hellinger fidelity: 0.9905140141167678\n",
      "KL divergence: 0.02184617123212812\n",
      "Expressibility of the pqc is 0.02184617123212812\n"
     ]
    }
   ],
   "source": [
    "expressibility_test, results_pqc_test_2, pqc_test_r1_2, pqc_test_r2_2 = expressibility(pqc_1(num_qubits=3,reps=2), draw=True)\n"
   ]
  },
  {
   "cell_type": "code",
   "execution_count": 34,
   "metadata": {},
   "outputs": [
    {
     "name": "stdout",
     "output_type": "stream",
     "text": [
      "0% completed\n",
      "10% completed\n",
      "20% completed\n",
      "30% completed\n",
      "40% completed\n",
      "50% completed\n",
      "60% completed\n",
      "70% completed\n",
      "80% completed\n",
      "90% completed\n",
      "Fidelity calculations have been completed.\n"
     ]
    },
    {
     "data": {
      "image/png": "[encoded data removed]",
      "text/plain": [
       "<Figure size 432x288 with 1 Axes>"
      ]
     },
     "metadata": {
      "needs_background": "light"
     },
     "output_type": "display_data"
    },
    {
     "name": "stdout",
     "output_type": "stream",
     "text": [
      "Hellinger fidelity: 0.9558648228583988\n",
      "KL divergence: 0.1057056931649509\n",
      "Expressibility of the pqc is 0.1057056931649509\n"
     ]
    }
   ],
   "source": [
    "expressibility_test, results_pqc_test_2, pqc_test_r1_2, pqc_test_r2_2 = expressibility(pqc_2(num_qubits=3,reps=2), draw=True)\n"
   ]
  },
  {
   "cell_type": "code",
   "execution_count": 35,
   "metadata": {},
   "outputs": [
    {
     "name": "stdout",
     "output_type": "stream",
     "text": [
      "0% completed\n",
      "10% completed\n",
      "20% completed\n",
      "30% completed\n",
      "40% completed\n",
      "50% completed\n",
      "60% completed\n",
      "70% completed\n",
      "80% completed\n",
      "90% completed\n",
      "Fidelity calculations have been completed.\n"
     ]
    },
    {
     "data": {
      "image/png": "[encoded data removed]",
      "text/plain": [
       "<Figure size 432x288 with 1 Axes>"
      ]
     },
     "metadata": {
      "needs_background": "light"
     },
     "output_type": "display_data"
    },
    {
     "name": "stdout",
     "output_type": "stream",
     "text": [
      "Hellinger fidelity: 0.9282081028161155\n",
      "KL divergence: 0.1774962271052642\n",
      "Expressibility of the pqc is 0.1774962271052642\n"
     ]
    }
   ],
   "source": [
    "expressibility_test, results_pqc_test_2, pqc_test_r1_2, pqc_test_r2_2 = expressibility(RealAmplitudes(num_qubits=3,reps=2), draw=True)\n"
   ]
  },
  {
   "cell_type": "code",
   "execution_count": 38,
   "metadata": {},
   "outputs": [
    {
     "name": "stdout",
     "output_type": "stream",
     "text": [
      "0% completed\n",
      "10% completed\n",
      "20% completed\n",
      "30% completed\n",
      "40% completed\n",
      "50% completed\n",
      "60% completed\n",
      "70% completed\n",
      "80% completed\n",
      "90% completed\n",
      "Fidelity calculations have been completed.\n"
     ]
    },
    {
     "data": {
      "image/png": "[encoded data removed]",
      "text/plain": [
       "<Figure size 432x288 with 1 Axes>"
      ]
     },
     "metadata": {
      "needs_background": "light"
     },
     "output_type": "display_data"
    },
    {
     "name": "stdout",
     "output_type": "stream",
     "text": [
      "Hellinger fidelity: 0.9943656058890997\n",
      "KL divergence: 0.012152312825065754\n",
      "Expressibility of the pqc is 0.012152312825065754\n"
     ]
    }
   ],
   "source": [
    "expressibility_test, results_pqc_test_2, pqc_test_r1_2, pqc_test_r2_2 = expressibility(pqc_1(num_qubits=3,reps=3), draw=True)\n"
   ]
  },
  {
   "cell_type": "code",
   "execution_count": 39,
   "metadata": {},
   "outputs": [
    {
     "name": "stdout",
     "output_type": "stream",
     "text": [
      "0% completed\n",
      "10% completed\n",
      "20% completed\n",
      "30% completed\n",
      "40% completed\n",
      "50% completed\n",
      "60% completed\n",
      "70% completed\n",
      "80% completed\n",
      "90% completed\n",
      "Fidelity calculations have been completed.\n"
     ]
    },
    {
     "data": {
      "image/png": "[encoded data removed]",
      "text/plain": [
       "<Figure size 432x288 with 1 Axes>"
      ]
     },
     "metadata": {
      "needs_background": "light"
     },
     "output_type": "display_data"
    },
    {
     "name": "stdout",
     "output_type": "stream",
     "text": [
      "Hellinger fidelity: 0.9499800618907424\n",
      "KL divergence: 0.12398878269876012\n",
      "Expressibility of the pqc is 0.12398878269876012\n"
     ]
    }
   ],
   "source": [
    "expressibility_test, results_pqc_test_2, pqc_test_r1_2, pqc_test_r2_2 = expressibility(pqc_2(num_qubits=3,reps=3), draw=True)\n"
   ]
  },
  {
   "cell_type": "code",
   "execution_count": 40,
   "metadata": {},
   "outputs": [
    {
     "name": "stdout",
     "output_type": "stream",
     "text": [
      "0% completed\n",
      "10% completed\n",
      "20% completed\n",
      "30% completed\n",
      "40% completed\n",
      "50% completed\n",
      "60% completed\n",
      "70% completed\n",
      "80% completed\n",
      "90% completed\n",
      "Fidelity calculations have been completed.\n"
     ]
    },
    {
     "data": {
      "image/png": "[encoded data removed]",
      "text/plain": [
       "<Figure size 432x288 with 1 Axes>"
      ]
     },
     "metadata": {
      "needs_background": "light"
     },
     "output_type": "display_data"
    },
    {
     "name": "stdout",
     "output_type": "stream",
     "text": [
      "Hellinger fidelity: 0.935317448240912\n",
      "KL divergence: 0.1548245891194036\n",
      "Expressibility of the pqc is 0.1548245891194036\n"
     ]
    }
   ],
   "source": [
    "expressibility_test, results_pqc_test_2, pqc_test_r1_2, pqc_test_r2_2 = expressibility(RealAmplitudes(num_qubits=3,reps=3), draw=True)\n"
   ]
  },
  {
   "cell_type": "markdown",
   "metadata": {},
   "source": [
    "## Expressibility of Test PQC"
   ]
  },
  {
   "cell_type": "code",
   "execution_count": 172,
   "metadata": {},
   "outputs": [
    {
     "data": {
      "text/html": [
       "<pre style=\"word-wrap: normal;white-space: pre;background: #fff0;line-height: 1.1;font-family: &quot;Courier New&quot;,Courier,monospace\">     ┌───┐┌──────────┐┌──────────┐\n",
       "q_0: ┤ H ├┤ RZ(z[0]) ├┤ RX(z[1]) ├\n",
       "     └───┘└──────────┘└──────────┘</pre>"
      ],
      "text/plain": [
       "     ┌───┐┌──────────┐┌──────────┐\n",
       "q_0: ┤ H ├┤ RZ(z[0]) ├┤ RX(z[1]) ├\n",
       "     └───┘└──────────┘└──────────┘"
      ]
     },
     "execution_count": 172,
     "metadata": {},
     "output_type": "execute_result"
    }
   ],
   "source": [
    "pqc_test(num_qubits=1, reps=1).draw()"
   ]
  },
  {
   "cell_type": "code",
   "execution_count": 173,
   "metadata": {},
   "outputs": [
    {
     "name": "stdout",
     "output_type": "stream",
     "text": [
      "0% completed\n",
      "10% completed\n",
      "20% completed\n",
      "30% completed\n",
      "40% completed\n",
      "50% completed\n",
      "60% completed\n",
      "70% completed\n",
      "80% completed\n",
      "90% completed\n",
      "Fidelity calculations have been completed.\n",
      "[0.01333333 0.01333333 0.01333333 0.01333333 0.01333333 0.01333333\n",
      " 0.01333333 0.01333333 0.01333333 0.01333333 0.01333333 0.01333333\n",
      " 0.01333333 0.01333333 0.01333333 0.01333333 0.01333333 0.01333333\n",
      " 0.01333333 0.01333333 0.01333333 0.01333333 0.01333333 0.01333333\n",
      " 0.01333333 0.01333333 0.01333333 0.01333333 0.01333333 0.01333333\n",
      " 0.01333333 0.01333333 0.01333333 0.01333333 0.01333333 0.01333333\n",
      " 0.01333333 0.01333333 0.01333333 0.01333333 0.01333333 0.01333333\n",
      " 0.01333333 0.01333333 0.01333333 0.01333333 0.01333333 0.01333333\n",
      " 0.01333333 0.01333333 0.01333333 0.01333333 0.01333333 0.01333333\n",
      " 0.01333333 0.01333333 0.01333333 0.01333333 0.01333333 0.01333333\n",
      " 0.01333333 0.01333333 0.01333333 0.01333333 0.01333333 0.01333333\n",
      " 0.01333333 0.01333333 0.01333333 0.01333333 0.01333333 0.01333333\n",
      " 0.01333333 0.01333333 0.01333333]\n"
     ]
    },
    {
     "data": {
      "image/png": "[encoded data removed]",
      "text/plain": [
       "<Figure size 432x288 with 1 Axes>"
      ]
     },
     "metadata": {
      "needs_background": "light"
     },
     "output_type": "display_data"
    },
    {
     "name": "stdout",
     "output_type": "stream",
     "text": [
      "Hellinger fidelity: 0.9377383944486029\n",
      "KL divergence: 0.015764199359780278\n",
      "Expressibility of the pqc is 0.015764199359780278\n"
     ]
    }
   ],
   "source": [
    "expressibility_test, results_pqc_test_2, pqc_test_r1_2, pqc_test_r2_2 = expressibility(pqc_test(num_qubits=1,reps=1), draw=True)\n"
   ]
  },
  {
   "cell_type": "code",
   "execution_count": 174,
   "metadata": {},
   "outputs": [
    {
     "name": "stdout",
     "output_type": "stream",
     "text": [
      "0% completed\n",
      "10% completed\n",
      "20% completed\n",
      "30% completed\n",
      "40% completed\n",
      "50% completed\n",
      "60% completed\n",
      "70% completed\n",
      "80% completed\n",
      "90% completed\n",
      "Fidelity calculations have been completed.\n",
      "[0.01333333 0.01333333 0.01333333 0.01333333 0.01333333 0.01333333\n",
      " 0.01333333 0.01333333 0.01333333 0.01333333 0.01333333 0.01333333\n",
      " 0.01333333 0.01333333 0.01333333 0.01333333 0.01333333 0.01333333\n",
      " 0.01333333 0.01333333 0.01333333 0.01333333 0.01333333 0.01333333\n",
      " 0.01333333 0.01333333 0.01333333 0.01333333 0.01333333 0.01333333\n",
      " 0.01333333 0.01333333 0.01333333 0.01333333 0.01333333 0.01333333\n",
      " 0.01333333 0.01333333 0.01333333 0.01333333 0.01333333 0.01333333\n",
      " 0.01333333 0.01333333 0.01333333 0.01333333 0.01333333 0.01333333\n",
      " 0.01333333 0.01333333 0.01333333 0.01333333 0.01333333 0.01333333\n",
      " 0.01333333 0.01333333 0.01333333 0.01333333 0.01333333 0.01333333\n",
      " 0.01333333 0.01333333 0.01333333 0.01333333 0.01333333 0.01333333\n",
      " 0.01333333 0.01333333 0.01333333 0.01333333 0.01333333 0.01333333\n",
      " 0.01333333 0.01333333 0.01333333]\n"
     ]
    },
    {
     "data": {
      "image/png": "[encoded data removed]",
      "text/plain": [
       "<Figure size 432x288 with 1 Axes>"
      ]
     },
     "metadata": {
      "needs_background": "light"
     },
     "output_type": "display_data"
    },
    {
     "name": "stdout",
     "output_type": "stream",
     "text": [
      "Hellinger fidelity: 0.9590149678581171\n",
      "KL divergence: 0.006686066092611309\n",
      "Expressibility of the pqc is 0.006686066092611309\n"
     ]
    }
   ],
   "source": [
    "expressibility_test, results_pqc_test_2, pqc_test_r1_2, pqc_test_r2_2 = expressibility(pqc_test(num_qubits=1,reps=2), draw=True)\n"
   ]
  },
  {
   "cell_type": "code",
   "execution_count": 175,
   "metadata": {},
   "outputs": [
    {
     "name": "stdout",
     "output_type": "stream",
     "text": [
      "0% completed\n",
      "10% completed\n",
      "20% completed\n",
      "30% completed\n",
      "40% completed\n",
      "50% completed\n",
      "60% completed\n",
      "70% completed\n",
      "80% completed\n",
      "90% completed\n",
      "Fidelity calculations have been completed.\n",
      "[0.01333333 0.01333333 0.01333333 0.01333333 0.01333333 0.01333333\n",
      " 0.01333333 0.01333333 0.01333333 0.01333333 0.01333333 0.01333333\n",
      " 0.01333333 0.01333333 0.01333333 0.01333333 0.01333333 0.01333333\n",
      " 0.01333333 0.01333333 0.01333333 0.01333333 0.01333333 0.01333333\n",
      " 0.01333333 0.01333333 0.01333333 0.01333333 0.01333333 0.01333333\n",
      " 0.01333333 0.01333333 0.01333333 0.01333333 0.01333333 0.01333333\n",
      " 0.01333333 0.01333333 0.01333333 0.01333333 0.01333333 0.01333333\n",
      " 0.01333333 0.01333333 0.01333333 0.01333333 0.01333333 0.01333333\n",
      " 0.01333333 0.01333333 0.01333333 0.01333333 0.01333333 0.01333333\n",
      " 0.01333333 0.01333333 0.01333333 0.01333333 0.01333333 0.01333333\n",
      " 0.01333333 0.01333333 0.01333333 0.01333333 0.01333333 0.01333333\n",
      " 0.01333333 0.01333333 0.01333333 0.01333333 0.01333333 0.01333333\n",
      " 0.01333333 0.01333333 0.01333333]\n"
     ]
    },
    {
     "data": {
      "image/png": "[encoded data removed]",
      "text/plain": [
       "<Figure size 432x288 with 1 Axes>"
      ]
     },
     "metadata": {
      "needs_background": "light"
     },
     "output_type": "display_data"
    },
    {
     "name": "stdout",
     "output_type": "stream",
     "text": [
      "Hellinger fidelity: 0.9591702294348122\n",
      "KL divergence: 0.006568884447327385\n",
      "Expressibility of the pqc is 0.006568884447327385\n"
     ]
    }
   ],
   "source": [
    "expressibility_test, results_pqc_test_2, pqc_test_r1_2, pqc_test_r2_2 = expressibility(pqc_test(num_qubits=1,reps=3), draw=True)\n",
    "\n"
   ]
  },
  {
   "cell_type": "code",
   "execution_count": 176,
   "metadata": {},
   "outputs": [
    {
     "name": "stdout",
     "output_type": "stream",
     "text": [
      "0% completed\n",
      "10% completed\n",
      "20% completed\n",
      "30% completed\n",
      "40% completed\n",
      "50% completed\n",
      "60% completed\n",
      "70% completed\n",
      "80% completed\n",
      "90% completed\n",
      "Fidelity calculations have been completed.\n",
      "[0.01333333 0.01333333 0.01333333 0.01333333 0.01333333 0.01333333\n",
      " 0.01333333 0.01333333 0.01333333 0.01333333 0.01333333 0.01333333\n",
      " 0.01333333 0.01333333 0.01333333 0.01333333 0.01333333 0.01333333\n",
      " 0.01333333 0.01333333 0.01333333 0.01333333 0.01333333 0.01333333\n",
      " 0.01333333 0.01333333 0.01333333 0.01333333 0.01333333 0.01333333\n",
      " 0.01333333 0.01333333 0.01333333 0.01333333 0.01333333 0.01333333\n",
      " 0.01333333 0.01333333 0.01333333 0.01333333 0.01333333 0.01333333\n",
      " 0.01333333 0.01333333 0.01333333 0.01333333 0.01333333 0.01333333\n",
      " 0.01333333 0.01333333 0.01333333 0.01333333 0.01333333 0.01333333\n",
      " 0.01333333 0.01333333 0.01333333 0.01333333 0.01333333 0.01333333\n",
      " 0.01333333 0.01333333 0.01333333 0.01333333 0.01333333 0.01333333\n",
      " 0.01333333 0.01333333 0.01333333 0.01333333 0.01333333 0.01333333\n",
      " 0.01333333 0.01333333 0.01333333]\n"
     ]
    },
    {
     "data": {
      "image/png": "[encoded data removed]",
      "text/plain": [
       "<Figure size 432x288 with 1 Axes>"
      ]
     },
     "metadata": {
      "needs_background": "light"
     },
     "output_type": "display_data"
    },
    {
     "name": "stdout",
     "output_type": "stream",
     "text": [
      "Hellinger fidelity: 0.9560780254594997\n",
      "KL divergence: 0.007675176205526253\n",
      "Expressibility of the pqc is 0.007675176205526253\n"
     ]
    }
   ],
   "source": [
    "expressibility_test, results_pqc_test_2, pqc_test_r1_2, pqc_test_r2_2 = expressibility(pqc_test(num_qubits=1,reps=4), draw=True)\n",
    "\n"
   ]
  },
  {
   "cell_type": "code",
   "execution_count": 177,
   "metadata": {},
   "outputs": [
    {
     "data": {
      "text/plain": [
       "{1: 5, 2: 10, 3: 15, 4: 16}"
      ]
     },
     "execution_count": 177,
     "metadata": {},
     "output_type": "execute_result"
    }
   ],
   "source": [
    "dict_what = {1:5, 2:10, 3:15}\n",
    "sum(dict_what.values())\n",
    "dict_what[4] = 16\n",
    "dict_what"
   ]
  },
  {
   "cell_type": "markdown",
   "metadata": {},
   "source": [
    "**Comparing with the same calcuation in the paper:**\n",
    "\n",
    "<img src=\"./img/result-pqc-test.png\">"
   ]
  },
  {
   "cell_type": "markdown",
   "metadata": {},
   "source": [
    "## Unit testing with Circuit 3"
   ]
  },
  {
   "cell_type": "code",
   "execution_count": 82,
   "metadata": {},
   "outputs": [
    {
     "name": "stdout",
     "output_type": "stream",
     "text": [
      "0% completed\n",
      "10% completed\n",
      "20% completed\n",
      "30% completed\n",
      "40% completed\n",
      "50% completed\n",
      "60% completed\n",
      "70% completed\n",
      "80% completed\n",
      "90% completed\n",
      "Fidelity calculations have been completed.\n",
      "[1.82404553e-01 1.50963030e-01 1.24617762e-01 1.02596475e-01\n",
      " 8.42355652e-02 6.89660131e-02 5.63009674e-02 4.58248103e-02\n",
      " 3.71835534e-02 3.00764141e-02 2.42484432e-02 1.94840848e-02\n",
      " 1.56015626e-02 1.24479971e-02 9.89516639e-03 7.83583670e-03\n",
      " 6.18059066e-03 4.85509444e-03 3.79774784e-03 2.95766934e-03\n",
      " 2.29297272e-03 1.76929726e-03 1.35855775e-03 1.03788459e-03\n",
      " 7.88727803e-04 5.96102086e-04 4.47952739e-04 3.34625005e-04\n",
      " 2.48421510e-04 1.83234568e-04 1.34241875e-04 9.76556677e-05\n",
      " 7.05168456e-05 5.05267321e-05 3.59102296e-05 2.53050497e-05\n",
      " 1.76725032e-05 1.22260341e-05 8.37428927e-06 5.67603153e-06\n",
      " 3.80465417e-06 2.52043299e-06 1.64897818e-06 1.06462242e-06\n",
      " 6.77712673e-07 4.24967854e-07 2.62226088e-07 1.59039708e-07\n",
      " 9.46869421e-08 5.52599366e-08 3.15626193e-08 1.76115641e-08\n",
      " 9.58082946e-09 5.06974710e-09 2.60256695e-09 1.29220797e-09\n",
      " 6.18375186e-10 2.84040676e-10 1.24630138e-10 5.19387664e-11\n",
      " 2.04173742e-11 7.50793692e-12 2.55616002e-12 7.95458673e-13\n",
      " 2.22586102e-13 5.48249609e-14 1.15534800e-14 2.00311344e-15\n",
      " 2.70168586e-16 2.60570658e-17 1.56972310e-18 4.65372244e-20\n",
      " 4.18801258e-22 3.28190105e-25 6.86163981e-32]\n"
     ]
    },
    {
     "data": {
      "image/png": "[encoded data removed]",
      "text/plain": [
       "<Figure size 432x288 with 1 Axes>"
      ]
     },
     "metadata": {
      "needs_background": "light"
     },
     "output_type": "display_data"
    },
    {
     "name": "stdout",
     "output_type": "stream",
     "text": [
      "Hellinger fidelity: 0.7748987477946533\n",
      "KL divergence: 0.2568284467840807\n",
      "Expressibility of the pqc is 0.2568284467840807\n"
     ]
    }
   ],
   "source": [
    "exp_rxrz_2, results_rxrz_2, prxrz_r1_2, rxrz_r2_2 = expressibility(c3(num_qubits=4,reps=1), draw=True)"
   ]
  },
  {
   "cell_type": "code",
   "execution_count": 83,
   "metadata": {},
   "outputs": [
    {
     "name": "stdout",
     "output_type": "stream",
     "text": [
      "0% completed\n",
      "10% completed\n",
      "20% completed\n",
      "30% completed\n",
      "40% completed\n",
      "50% completed\n",
      "60% completed\n",
      "70% completed\n",
      "80% completed\n",
      "90% completed\n",
      "Fidelity calculations have been completed.\n",
      "[1.82404553e-01 1.50963030e-01 1.24617762e-01 1.02596475e-01\n",
      " 8.42355652e-02 6.89660131e-02 5.63009674e-02 4.58248103e-02\n",
      " 3.71835534e-02 3.00764141e-02 2.42484432e-02 1.94840848e-02\n",
      " 1.56015626e-02 1.24479971e-02 9.89516639e-03 7.83583670e-03\n",
      " 6.18059066e-03 4.85509444e-03 3.79774784e-03 2.95766934e-03\n",
      " 2.29297272e-03 1.76929726e-03 1.35855775e-03 1.03788459e-03\n",
      " 7.88727803e-04 5.96102086e-04 4.47952739e-04 3.34625005e-04\n",
      " 2.48421510e-04 1.83234568e-04 1.34241875e-04 9.76556677e-05\n",
      " 7.05168456e-05 5.05267321e-05 3.59102296e-05 2.53050497e-05\n",
      " 1.76725032e-05 1.22260341e-05 8.37428927e-06 5.67603153e-06\n",
      " 3.80465417e-06 2.52043299e-06 1.64897818e-06 1.06462242e-06\n",
      " 6.77712673e-07 4.24967854e-07 2.62226088e-07 1.59039708e-07\n",
      " 9.46869421e-08 5.52599366e-08 3.15626193e-08 1.76115641e-08\n",
      " 9.58082946e-09 5.06974710e-09 2.60256695e-09 1.29220797e-09\n",
      " 6.18375186e-10 2.84040676e-10 1.24630138e-10 5.19387664e-11\n",
      " 2.04173742e-11 7.50793692e-12 2.55616002e-12 7.95458673e-13\n",
      " 2.22586102e-13 5.48249609e-14 1.15534800e-14 2.00311344e-15\n",
      " 2.70168586e-16 2.60570658e-17 1.56972310e-18 4.65372244e-20\n",
      " 4.18801258e-22 3.28190105e-25 6.86163981e-32]\n"
     ]
    },
    {
     "data": {
      "image/png": "[encoded data removed]",
      "text/plain": [
       "<Figure size 432x288 with 1 Axes>"
      ]
     },
     "metadata": {
      "needs_background": "light"
     },
     "output_type": "display_data"
    },
    {
     "name": "stdout",
     "output_type": "stream",
     "text": [
      "Hellinger fidelity: 0.8721019115385086\n",
      "KL divergence: 0.08109461893813047\n",
      "Expressibility of the pqc is 0.08109461893813047\n"
     ]
    }
   ],
   "source": [
    "exp_rxrz_2, results_rxrz_2, prxrz_r1_2, rxrz_r2_2 = expressibility(c3(num_qubits=4,reps=2), draw=True)"
   ]
  },
  {
   "cell_type": "code",
   "execution_count": 84,
   "metadata": {},
   "outputs": [
    {
     "name": "stdout",
     "output_type": "stream",
     "text": [
      "0% completed\n",
      "10% completed\n",
      "20% completed\n",
      "30% completed\n",
      "40% completed\n",
      "50% completed\n",
      "60% completed\n",
      "70% completed\n",
      "80% completed\n",
      "90% completed\n",
      "Fidelity calculations have been completed.\n",
      "[1.82404553e-01 1.50963030e-01 1.24617762e-01 1.02596475e-01\n",
      " 8.42355652e-02 6.89660131e-02 5.63009674e-02 4.58248103e-02\n",
      " 3.71835534e-02 3.00764141e-02 2.42484432e-02 1.94840848e-02\n",
      " 1.56015626e-02 1.24479971e-02 9.89516639e-03 7.83583670e-03\n",
      " 6.18059066e-03 4.85509444e-03 3.79774784e-03 2.95766934e-03\n",
      " 2.29297272e-03 1.76929726e-03 1.35855775e-03 1.03788459e-03\n",
      " 7.88727803e-04 5.96102086e-04 4.47952739e-04 3.34625005e-04\n",
      " 2.48421510e-04 1.83234568e-04 1.34241875e-04 9.76556677e-05\n",
      " 7.05168456e-05 5.05267321e-05 3.59102296e-05 2.53050497e-05\n",
      " 1.76725032e-05 1.22260341e-05 8.37428927e-06 5.67603153e-06\n",
      " 3.80465417e-06 2.52043299e-06 1.64897818e-06 1.06462242e-06\n",
      " 6.77712673e-07 4.24967854e-07 2.62226088e-07 1.59039708e-07\n",
      " 9.46869421e-08 5.52599366e-08 3.15626193e-08 1.76115641e-08\n",
      " 9.58082946e-09 5.06974710e-09 2.60256695e-09 1.29220797e-09\n",
      " 6.18375186e-10 2.84040676e-10 1.24630138e-10 5.19387664e-11\n",
      " 2.04173742e-11 7.50793692e-12 2.55616002e-12 7.95458673e-13\n",
      " 2.22586102e-13 5.48249609e-14 1.15534800e-14 2.00311344e-15\n",
      " 2.70168586e-16 2.60570658e-17 1.56972310e-18 4.65372244e-20\n",
      " 4.18801258e-22 3.28190105e-25 6.86163981e-32]\n"
     ]
    },
    {
     "data": {
      "image/png": "[encoded data removed]",
      "text/plain": [
       "<Figure size 432x288 with 1 Axes>"
      ]
     },
     "metadata": {
      "needs_background": "light"
     },
     "output_type": "display_data"
    },
    {
     "name": "stdout",
     "output_type": "stream",
     "text": [
      "Hellinger fidelity: 0.9098717725492063\n",
      "KL divergence: 0.03662769932244678\n",
      "Expressibility of the pqc is 0.03662769932244678\n"
     ]
    }
   ],
   "source": [
    "exp_rxrz_2, results_rxrz_2, prxrz_r1_2, rxrz_r2_2 = expressibility(c3(num_qubits=4,reps=3), draw=True)"
   ]
  },
  {
   "cell_type": "code",
   "execution_count": 85,
   "metadata": {},
   "outputs": [
    {
     "name": "stdout",
     "output_type": "stream",
     "text": [
      "0% completed\n",
      "10% completed\n",
      "20% completed\n",
      "30% completed\n",
      "40% completed\n",
      "50% completed\n",
      "60% completed\n",
      "70% completed\n",
      "80% completed\n",
      "90% completed\n",
      "Fidelity calculations have been completed.\n",
      "[1.82404553e-01 1.50963030e-01 1.24617762e-01 1.02596475e-01\n",
      " 8.42355652e-02 6.89660131e-02 5.63009674e-02 4.58248103e-02\n",
      " 3.71835534e-02 3.00764141e-02 2.42484432e-02 1.94840848e-02\n",
      " 1.56015626e-02 1.24479971e-02 9.89516639e-03 7.83583670e-03\n",
      " 6.18059066e-03 4.85509444e-03 3.79774784e-03 2.95766934e-03\n",
      " 2.29297272e-03 1.76929726e-03 1.35855775e-03 1.03788459e-03\n",
      " 7.88727803e-04 5.96102086e-04 4.47952739e-04 3.34625005e-04\n",
      " 2.48421510e-04 1.83234568e-04 1.34241875e-04 9.76556677e-05\n",
      " 7.05168456e-05 5.05267321e-05 3.59102296e-05 2.53050497e-05\n",
      " 1.76725032e-05 1.22260341e-05 8.37428927e-06 5.67603153e-06\n",
      " 3.80465417e-06 2.52043299e-06 1.64897818e-06 1.06462242e-06\n",
      " 6.77712673e-07 4.24967854e-07 2.62226088e-07 1.59039708e-07\n",
      " 9.46869421e-08 5.52599366e-08 3.15626193e-08 1.76115641e-08\n",
      " 9.58082946e-09 5.06974710e-09 2.60256695e-09 1.29220797e-09\n",
      " 6.18375186e-10 2.84040676e-10 1.24630138e-10 5.19387664e-11\n",
      " 2.04173742e-11 7.50793692e-12 2.55616002e-12 7.95458673e-13\n",
      " 2.22586102e-13 5.48249609e-14 1.15534800e-14 2.00311344e-15\n",
      " 2.70168586e-16 2.60570658e-17 1.56972310e-18 4.65372244e-20\n",
      " 4.18801258e-22 3.28190105e-25 6.86163981e-32]\n"
     ]
    },
    {
     "data": {
      "image/png": "[encoded data removed]",
      "text/plain": [
       "<Figure size 432x288 with 1 Axes>"
      ]
     },
     "metadata": {
      "needs_background": "light"
     },
     "output_type": "display_data"
    },
    {
     "name": "stdout",
     "output_type": "stream",
     "text": [
      "Hellinger fidelity: 0.9504475313701182\n",
      "KL divergence: 0.01092147362314373\n",
      "Expressibility of the pqc is 0.01092147362314373\n"
     ]
    }
   ],
   "source": [
    "exp_rxrz_2, results_rxrz_2, prxrz_r1_2, rxrz_r2_2 = expressibility(c3(num_qubits=4,reps=6), draw=True)"
   ]
  },
  {
   "cell_type": "markdown",
   "metadata": {},
   "source": [
    "# Noise testing"
   ]
  },
  {
   "cell_type": "code",
   "execution_count": 178,
   "metadata": {},
   "outputs": [],
   "source": [
    "from qiskit import IBMQ"
   ]
  },
  {
   "cell_type": "code",
   "execution_count": 106,
   "metadata": {},
   "outputs": [],
   "source": [
    "IBMQ.save_account('cbfd3b5352ef56ccbe1027324024d95f2ddc458776706e66816161ce159921783233f1ddf9dc2da74f35c42dbc910da209a451c3d79c9ec42346c8f12cc592d5', overwrite=True)\n"
   ]
  },
  {
   "cell_type": "code",
   "execution_count": 179,
   "metadata": {},
   "outputs": [
    {
     "name": "stderr",
     "output_type": "stream",
     "text": [
      "ibmqfactory.load_account:WARNING:2020-12-08 21:16:46,812: Credentials are already in use. The existing account in the session will be replaced.\n",
      "/Library/Frameworks/Python.framework/Versions/3.8/lib/python3.8/site-packages/qiskit/providers/aer/noise/device/basic_device_model.py:111: DeprecationWarning: This function is been deprecated and moved to a method of the`NoiseModel` class. For equivalent functionality use `NoiseModel.from_backend(properties, **kwargs).\n",
      "  warnings.warn(\n"
     ]
    },
    {
     "name": "stdout",
     "output_type": "stream",
     "text": [
      "Backend Noise Model of Bogota being used\n"
     ]
    }
   ],
   "source": [
    "from qiskit.providers.aer import noise\n",
    "IBMQ.load_account()\n",
    "provider = IBMQ.get_provider(hub='ibm-q-internal', group='deployed', project='default')\n",
    "noisy_backend = provider.get_backend('ibmq_bogota')\n",
    "backend_noise = noise.device.basic_device_noise_model(noisy_backend.properties())\n",
    "print (\"Backend Noise Model of Bogota being used\")"
   ]
  },
  {
   "cell_type": "code",
   "execution_count": 222,
   "metadata": {},
   "outputs": [],
   "source": [
    "shots = 5000\n",
    "backend = Aer.get_backend('qasm_simulator')\n",
    "quantum_instance = QuantumInstance(backend=backend, shots=shots, \n",
    "                                   skip_qobj_validation=False,optimization_level=0,\n",
    "                                   noise_model=backend_noise)"
   ]
  },
  {
   "cell_type": "markdown",
   "metadata": {},
   "source": [
    "### Testing the circuit "
   ]
  },
  {
   "cell_type": "code",
   "execution_count": 219,
   "metadata": {},
   "outputs": [],
   "source": [
    "import time "
   ]
  },
  {
   "cell_type": "code",
   "execution_count": 237,
   "metadata": {},
   "outputs": [
    {
     "data": {
      "text/html": [
       "<pre style=\"word-wrap: normal;white-space: pre;background: #fff0;line-height: 1.1;font-family: &quot;Courier New&quot;,Courier,monospace\">       ┌───┐\n",
       "q13_0: ┤ H ├\n",
       "       └───┘</pre>"
      ],
      "text/plain": [
       "       ┌───┐\n",
       "q13_0: ┤ H ├\n",
       "       └───┘"
      ]
     },
     "execution_count": 237,
     "metadata": {},
     "output_type": "execute_result"
    }
   ],
   "source": [
    "qr1 = QuantumRegister(1)\n",
    "qc1 = QuantumCircuit(qr1)\n",
    "for i in range(1):\n",
    "    qc1.h(qr1[0])\n",
    "#     qc1.h(1)\n",
    "#     qc1.h(2)\n",
    "qc1.draw()"
   ]
  },
  {
   "cell_type": "code",
   "execution_count": 207,
   "metadata": {},
   "outputs": [
    {
     "data": {
      "text/plain": [
       "QuantumRegister(1, 'q')"
      ]
     },
     "execution_count": 207,
     "metadata": {},
     "output_type": "execute_result"
    }
   ],
   "source": [
    "qr1"
   ]
  },
  {
   "cell_type": "code",
   "execution_count": 183,
   "metadata": {},
   "outputs": [],
   "source": [
    "something = quantum_instance.execute(qc1)"
   ]
  },
  {
   "cell_type": "code",
   "execution_count": 184,
   "metadata": {},
   "outputs": [
    {
     "data": {
      "text/plain": [
       "qiskit.result.result.Result"
      ]
     },
     "execution_count": 184,
     "metadata": {},
     "output_type": "execute_result"
    }
   ],
   "source": [
    "type(results)"
   ]
  },
  {
   "cell_type": "code",
   "execution_count": 185,
   "metadata": {},
   "outputs": [],
   "source": [
    "job = execute(qc1, Aer.get_backend('qasm_simulator'), shots = 5000)"
   ]
  },
  {
   "cell_type": "code",
   "execution_count": 186,
   "metadata": {
    "scrolled": true
   },
   "outputs": [
    {
     "data": {
      "text/plain": [
       "qiskit.result.result.Result"
      ]
     },
     "execution_count": 186,
     "metadata": {},
     "output_type": "execute_result"
    }
   ],
   "source": [
    "type(job.result())"
   ]
  },
  {
   "cell_type": "code",
   "execution_count": 238,
   "metadata": {},
   "outputs": [],
   "source": [
    "from qiskit.ignis.verification.tomography import state_tomography_circuits, StateTomographyFitter\n",
    "from qiskit.ignis.verification.tomography import process_tomography_circuits, ProcessTomographyFitter\n",
    "from qiskit.ignis.verification.tomography import gateset_tomography_circuits, GatesetTomographyFitter\n",
    "import qiskit.ignis.mitigation.measurement as mc"
   ]
  },
  {
   "cell_type": "code",
   "execution_count": 239,
   "metadata": {},
   "outputs": [
    {
     "data": {
      "text/html": [
       "<pre style=\"word-wrap: normal;white-space: pre;background: #fff0;line-height: 1.1;font-family: &quot;Courier New&quot;,Courier,monospace\">       ┌───┐ ░ ┌─┐\n",
       "q13_0: ┤ H ├─░─┤M├\n",
       "       └───┘ ░ └╥┘\n",
       "c24_0: ═════════╩═\n",
       "                  </pre>"
      ],
      "text/plain": [
       "       ┌───┐ ░ ┌─┐\n",
       "q13_0: ┤ H ├─░─┤M├\n",
       "       └───┘ ░ └╥┘\n",
       "c24_0: ═════════╩═\n",
       "                  "
      ]
     },
     "execution_count": 239,
     "metadata": {},
     "output_type": "execute_result"
    }
   ],
   "source": [
    "qc_tomo = state_tomography_circuits(qc1, qr1)\n",
    "qc_tomo[2].draw()"
   ]
  },
  {
   "cell_type": "code",
   "execution_count": 240,
   "metadata": {},
   "outputs": [
    {
     "name": "stdout",
     "output_type": "stream",
     "text": [
      "Time taken: 7.7845470905303955\n"
     ]
    }
   ],
   "source": [
    "t = time.time()\n",
    "tomo_results = quantum_instance.execute(qc_tomo)\n",
    "print('Time taken:', time.time() - t)"
   ]
  },
  {
   "cell_type": "code",
   "execution_count": 245,
   "metadata": {},
   "outputs": [],
   "source": [
    "qc_state_density_matrix_noise = StateTomographyFitter(tomo_results, qc_tomo)"
   ]
  },
  {
   "cell_type": "code",
   "execution_count": 230,
   "metadata": {},
   "outputs": [
    {
     "name": "stdout",
     "output_type": "stream",
     "text": [
      "Time taken: 9.360129117965698\n"
     ]
    }
   ],
   "source": [
    "# Generate circuits and run on simulator\n",
    "t = time.time()\n",
    "\n",
    "# Generate the state tomography circuits.\n",
    "qst_bell = state_tomography_circuits(bell, [q2[3], q2[5]])\n",
    "\n",
    "# Execute\n",
    "job = qiskit.execute(qst_bell, Aer.get_backend('qasm_simulator'), shots=5000)\n",
    "print('Time taken:', time.time() - t)\n",
    "\n",
    "# Fit result\n",
    "tomo_fitter_bell = StateTomographyFitter(job.result(), qst_bell)"
   ]
  },
  {
   "cell_type": "code",
   "execution_count": 234,
   "metadata": {},
   "outputs": [],
   "source": [
    "from qiskit import quantum_info as qi\n",
    "# Perform the tomography fit\n",
    "# which outputs a density matrix\n",
    "rho_fit_bell = tomo_fitter_bell.fit(method='lstsq')\n",
    "# F_bell = qi.state_fidelity(rho_fit_bell, target_state_bell)\n",
    "# print('State Fidelity: F = {:.5f}'.format(F_bell))"
   ]
  },
  {
   "cell_type": "code",
   "execution_count": 235,
   "metadata": {},
   "outputs": [
    {
     "data": {
      "text/plain": [
       "array([[ 5.02190817e-01+0.j        ,  9.59877749e-04+0.00556854j,\n",
       "         1.20658989e-03+0.00253076j,  4.97734400e-01-0.00091392j],\n",
       "       [ 9.59877749e-04-0.00556854j,  1.13483240e-03+0.j        ,\n",
       "         1.04625204e-04-0.00109148j, -1.97340443e-04-0.00447071j],\n",
       "       [ 1.20658989e-03-0.00253076j,  1.04625204e-04+0.00109148j,\n",
       "         1.11555902e-03+0.j        ,  5.07327125e-05-0.00358869j],\n",
       "       [ 4.97734400e-01+0.00091392j, -1.97340443e-04+0.00447071j,\n",
       "         5.07327125e-05+0.00358869j,  4.95558791e-01+0.j        ]])"
      ]
     },
     "execution_count": 235,
     "metadata": {},
     "output_type": "execute_result"
    }
   ],
   "source": [
    "rho_fit_bell"
   ]
  },
  {
   "cell_type": "code",
   "execution_count": null,
   "metadata": {},
   "outputs": [],
   "source": []
  },
  {
   "cell_type": "markdown",
   "metadata": {},
   "source": [
    "### Expressibility with Noise"
   ]
  },
  {
   "cell_type": "code",
   "execution_count": null,
   "metadata": {},
   "outputs": [],
   "source": [
    "def expressibility(pqc, trials=5000, bin_num=75, verbose=False, draw=False, quantum_instance=None):\n",
    "    \"\"\" Function that takes in a parameterised quantum circuit and computes its expressibility based on the \n",
    "        number of trials and bin number \n",
    "        \n",
    "        Number of trials is set to 5000 by default and number of bins to 75 based on the values given in the \n",
    "        paper for 4 qubit PQCs \"\"\"\n",
    "    \n",
    "    # Initialisation \n",
    "    r1 = {}\n",
    "    r2 = {}\n",
    "    fidelities = []\n",
    "    bins = []\n",
    "    \n",
    "    # Step 1 - Choosing and extracting information about the PQC\n",
    "    num_params = pqc.num_parameters\n",
    "    set_ = pqc.parameters\n",
    "    num_qubits = pqc.num_qubits\n",
    "    \n",
    "    # Loop for Steps 2, 3, and 4 \n",
    "    for j in range(trials):\n",
    "        if verbose:\n",
    "            if j%(trials/10)==0:\n",
    "                print(\"{}% completed\".format(int((j/trials)*100)))\n",
    "            \n",
    "        # Step 2 - forming two sets of random parameters for the PQC.\n",
    "        for k in set_:\n",
    "            # Creating two sets of random parameter values, each value ranging from 0 to 2*pi. \n",
    "            r1[k] = 2*np.pi*np.random.rand()\n",
    "            r2[k] = 2*np.pi*np.random.rand()\n",
    "        # Finding the states after applying these quantum circuits to a ground state\n",
    "        circ_1 = pqc.bind_parameters(r1)\n",
    "        circ_2 = pqc.bind_parameters(r2)\n",
    "        backend = Aer.get_backend('statevector_simulator')\n",
    "        if quantum_instance==None:\n",
    "            job1 = execute(circ_1, backend)\n",
    "            job2 = execute(circ_2, backend)\n",
    "            v1 = job1.result().get_statevector()\n",
    "            v2 = job2.result().get_statevector()\n",
    "        else:\n",
    "            job1 = quantum_instance.execute(circ_1)\n",
    "            job2 = quantum_instance.execute(circ_2)\n",
    "            counts1 = job1.get_counts()\n",
    "            counts2 = job2.get_counts()\n",
    "            \n",
    "        \n",
    "        # Step 3 - Calculate the Fidelity of these two states and store it\n",
    "        fidelity = state_fidelity(v1, v2)\n",
    "        fidelities.append(fidelity)\n",
    "        \n",
    "    print(\"Fidelity calculations have been completed.\")\n",
    "    clear_output()\n",
    "    fidelities = np.array(fidelities)\n",
    "    \n",
    "    # Calculating the probability distribution of haar random state fidelities. \n",
    "    # Note: haar_fid is a probability distribution however fidelities is a frequency distribution\n",
    "    haar_fid = prob_dist_haar(num_qubits=num_qubits, bin_num=bin_num)\n",
    "    \n",
    "    # Step 5 - plt.hist() automatically discretizes the fidelities frequency distribution and creates bins\n",
    "    n, bins, _ = plt.hist(fidelities, bins=np.linspace(0,1, bin_num+1), alpha = 0.5)\n",
    "    if draw:  \n",
    "        plt.xlabel(\"Fidelities\")\n",
    "        plt.ylabel(\"Probability\")\n",
    "        plt.show()\n",
    "    \n",
    "    # Step 6 - Find the fidelity between both the states \n",
    "    pqc_fidelity_probs = n/trials\n",
    "    expressibility = entropy(pqc_fidelity_probs, haar_fid)\n",
    "    print(\"Expressibility of the pqc using Hellinger fidelity: {}\".format(hellinger(pqc_fidelity_probs, haar_fid)))\n",
    "    print(\"Expressibility of the pqc using KL divergence: {}\".format(expressibility))\n",
    "    return expressibility, fidelities, r1, r2"
   ]
  },
  {
   "cell_type": "code",
   "execution_count": null,
   "metadata": {},
   "outputs": [],
   "source": []
  },
  {
   "cell_type": "markdown",
   "metadata": {},
   "source": [
    "# Random Testing"
   ]
  },
  {
   "cell_type": "code",
   "execution_count": 141,
   "metadata": {},
   "outputs": [],
   "source": [
    "x = np.random.rand(5000)"
   ]
  },
  {
   "cell_type": "code",
   "execution_count": 142,
   "metadata": {},
   "outputs": [
    {
     "data": {
      "text/plain": [
       "(array([472., 502., 513., 485., 494., 508., 498., 497., 511., 520.]),\n",
       " array([3.09069253e-04, 1.00266208e-01, 2.00223347e-01, 3.00180486e-01,\n",
       "        4.00137625e-01, 5.00094764e-01, 6.00051902e-01, 7.00009041e-01,\n",
       "        7.99966180e-01, 8.99923319e-01, 9.99880458e-01]),\n",
       " <BarContainer object of 10 artists>)"
      ]
     },
     "execution_count": 142,
     "metadata": {},
     "output_type": "execute_result"
    },
    {
     "data": {
      "image/png": "[encoded data removed]",
      "text/plain": [
       "<Figure size 432x288 with 1 Axes>"
      ]
     },
     "metadata": {
      "needs_background": "light"
     },
     "output_type": "display_data"
    }
   ],
   "source": [
    "plt.hist(x)"
   ]
  },
  {
   "cell_type": "code",
   "execution_count": 60,
   "metadata": {},
   "outputs": [
    {
     "data": {
      "text/plain": [
       "16"
      ]
     },
     "execution_count": 60,
     "metadata": {},
     "output_type": "execute_result"
    }
   ],
   "source": [
    "a.num_parameters"
   ]
  },
  {
   "cell_type": "code",
   "execution_count": 403,
   "metadata": {},
   "outputs": [
    {
     "data": {
      "text/plain": [
       "{Parameter(x[2]): 4.381316257931672,\n",
       " Parameter(x[7]): 2.5573736500624715,\n",
       " Parameter(x[1]): 0.32961223114224675,\n",
       " Parameter(x[5]): 0.8426419066868058,\n",
       " Parameter(x[0]): 3.2750455569056527,\n",
       " Parameter(x[14]): 2.477483724992164,\n",
       " Parameter(x[9]): 3.306156017840818,\n",
       " Parameter(x[4]): 0.9443658792518793,\n",
       " Parameter(x[8]): 2.3357177837643164,\n",
       " Parameter(x[10]): 2.596014805832239,\n",
       " Parameter(x[11]): 6.219212760210585,\n",
       " Parameter(x[6]): 0.01764764053682423,\n",
       " Parameter(x[3]): 0.5987498961627724,\n",
       " Parameter(x[15]): 1.7933886489679198,\n",
       " Parameter(x[12]): 4.714912904512288,\n",
       " Parameter(x[13]): 5.20497153495563}"
      ]
     },
     "execution_count": 403,
     "metadata": {},
     "output_type": "execute_result"
    }
   ],
   "source": [
    "hello = a.parameters\n",
    "r1 = {}\n",
    "r2 = {}\n",
    "for k in hello:\n",
    "    r1[k] = 2*np.pi*np.random.rand()\n",
    "    r2[k] = 2*np.pi*np.random.rand()\n",
    "r1        "
   ]
  },
  {
   "cell_type": "code",
   "execution_count": 404,
   "metadata": {},
   "outputs": [
    {
     "data": {
      "text/plain": [
       "{Parameter(x[2]): 5.988016042924695,\n",
       " Parameter(x[7]): 6.0438516812187295,\n",
       " Parameter(x[1]): 5.657779113316203,\n",
       " Parameter(x[5]): 0.30666187520621313,\n",
       " Parameter(x[0]): 1.6982585039199911,\n",
       " Parameter(x[14]): 1.6844783020288632,\n",
       " Parameter(x[9]): 3.34774650944817,\n",
       " Parameter(x[4]): 2.20999089002728,\n",
       " Parameter(x[8]): 2.177557447058975,\n",
       " Parameter(x[10]): 4.916301616027501,\n",
       " Parameter(x[11]): 1.191937441919063,\n",
       " Parameter(x[6]): 4.333356714863685,\n",
       " Parameter(x[3]): 2.6929293336277307,\n",
       " Parameter(x[15]): 0.9742286168720141,\n",
       " Parameter(x[12]): 1.4507685793444574,\n",
       " Parameter(x[13]): 2.2181805656104077}"
      ]
     },
     "execution_count": 404,
     "metadata": {},
     "output_type": "execute_result"
    }
   ],
   "source": [
    "r2"
   ]
  },
  {
   "cell_type": "code",
   "execution_count": 405,
   "metadata": {},
   "outputs": [
    {
     "data": {
      "text/html": [
       "<pre style=\"word-wrap: normal;white-space: pre;background: #fff0;line-height: 1.1;font-family: &quot;Courier New&quot;,Courier,monospace\">     ┌────────────┐       ┌──────────┐           ┌────────────┐          »\n",
       "q_0: ┤ RX(1.6983) ├──■────┤ U1(2.21) ├───■────■──┤ U1(4.3334) ├──■────■──»\n",
       "     ├────────────┤┌─┴─┐┌─┴──────────┴┐┌─┴─┐  │  └────────────┘  │    │  »\n",
       "q_1: ┤ RX(5.6578) ├┤ X ├┤ U1(0.30666) ├┤ X ├──┼──────────────────┼────┼──»\n",
       "     ├───────────┬┘└───┘└─────────────┘└───┘┌─┴─┐┌────────────┐┌─┴─┐  │  »\n",
       "q_2: ┤ RX(5.988) ├──────────────────────────┤ X ├┤ U1(6.0439) ├┤ X ├──┼──»\n",
       "     ├───────────┴┐                         └───┘└────────────┘└───┘┌─┴─┐»\n",
       "q_3: ┤ RX(2.6929) ├─────────────────────────────────────────────────┤ X ├»\n",
       "     └────────────┘                                                 └───┘»\n",
       "«     ┌────────────┐                                                     »\n",
       "«q_0: ┤ U1(2.1776) ├────────────────■────────────────────────────────────»\n",
       "«     └────────────┘┌────────────┐  │            ┌────────────┐          »\n",
       "«q_1: ──────■───────┤ U1(4.9163) ├──┼────■────■──┤ U1(1.4508) ├──■───────»\n",
       "«         ┌─┴─┐     ├────────────┤  │  ┌─┴─┐  │  └────────────┘  │       »\n",
       "«q_2: ────┤ X ├─────┤ U1(1.1919) ├──┼──┤ X ├──┼──────────────────┼────■──»\n",
       "«     ┌───┴───┴────┐└────────────┘┌─┴─┐└───┘┌─┴─┐┌────────────┐┌─┴─┐┌─┴─┐»\n",
       "«q_3: ┤ U1(3.3477) ├──────────────┤ X ├─────┤ X ├┤ U1(2.2182) ├┤ X ├┤ X ├»\n",
       "«     └────────────┘              └───┘     └───┘└────────────┘└───┘└───┘»\n",
       "«                         \n",
       "«q_0: ────────────────────\n",
       "«                         \n",
       "«q_1: ────────────────────\n",
       "«      ┌────────────┐     \n",
       "«q_2: ─┤ U1(1.6845) ├──■──\n",
       "«     ┌┴────────────┤┌─┴─┐\n",
       "«q_3: ┤ U1(0.97423) ├┤ X ├\n",
       "«     └─────────────┘└───┘</pre>"
      ],
      "text/plain": [
       "     ┌────────────┐       ┌──────────┐           ┌────────────┐          »\n",
       "q_0: ┤ RX(1.6983) ├──■────┤ U1(2.21) ├───■────■──┤ U1(4.3334) ├──■────■──»\n",
       "     ├────────────┤┌─┴─┐┌─┴──────────┴┐┌─┴─┐  │  └────────────┘  │    │  »\n",
       "q_1: ┤ RX(5.6578) ├┤ X ├┤ U1(0.30666) ├┤ X ├──┼──────────────────┼────┼──»\n",
       "     ├───────────┬┘└───┘└─────────────┘└───┘┌─┴─┐┌────────────┐┌─┴─┐  │  »\n",
       "q_2: ┤ RX(5.988) ├──────────────────────────┤ X ├┤ U1(6.0439) ├┤ X ├──┼──»\n",
       "     ├───────────┴┐                         └───┘└────────────┘└───┘┌─┴─┐»\n",
       "q_3: ┤ RX(2.6929) ├─────────────────────────────────────────────────┤ X ├»\n",
       "     └────────────┘                                                 └───┘»\n",
       "«     ┌────────────┐                                                     »\n",
       "«q_0: ┤ U1(2.1776) ├────────────────■────────────────────────────────────»\n",
       "«     └────────────┘┌────────────┐  │            ┌────────────┐          »\n",
       "«q_1: ──────■───────┤ U1(4.9163) ├──┼────■────■──┤ U1(1.4508) ├──■───────»\n",
       "«         ┌─┴─┐     ├────────────┤  │  ┌─┴─┐  │  └────────────┘  │       »\n",
       "«q_2: ────┤ X ├─────┤ U1(1.1919) ├──┼──┤ X ├──┼──────────────────┼────■──»\n",
       "«     ┌───┴───┴────┐└────────────┘┌─┴─┐└───┘┌─┴─┐┌────────────┐┌─┴─┐┌─┴─┐»\n",
       "«q_3: ┤ U1(3.3477) ├──────────────┤ X ├─────┤ X ├┤ U1(2.2182) ├┤ X ├┤ X ├»\n",
       "«     └────────────┘              └───┘     └───┘└────────────┘└───┘└───┘»\n",
       "«                         \n",
       "«q_0: ────────────────────\n",
       "«                         \n",
       "«q_1: ────────────────────\n",
       "«      ┌────────────┐     \n",
       "«q_2: ─┤ U1(1.6845) ├──■──\n",
       "«     ┌┴────────────┤┌─┴─┐\n",
       "«q_3: ┤ U1(0.97423) ├┤ X ├\n",
       "«     └─────────────┘└───┘"
      ]
     },
     "execution_count": 405,
     "metadata": {},
     "output_type": "execute_result"
    }
   ],
   "source": [
    "m = a.bind_parameters(r2)\n",
    "m.draw()"
   ]
  },
  {
   "cell_type": "code",
   "execution_count": 406,
   "metadata": {},
   "outputs": [
    {
     "data": {
      "text/html": [
       "<pre style=\"word-wrap: normal;white-space: pre;background: #fff0;line-height: 1.1;font-family: &quot;Courier New&quot;,Courier,monospace\">      ┌───────────┐      ┌─────────────┐          ┌──────────────┐          »\n",
       "q_0: ─┤ RX(3.275) ├───■──┤ U1(0.94437) ├──■────■──┤ U1(0.017648) ├──■────■──»\n",
       "     ┌┴───────────┴┐┌─┴─┐├─────────────┤┌─┴─┐  │  └──────────────┘  │    │  »\n",
       "q_1: ┤ RX(0.32961) ├┤ X ├┤ U1(0.84264) ├┤ X ├──┼────────────────────┼────┼──»\n",
       "     └┬────────────┤└───┘└─────────────┘└───┘┌─┴─┐ ┌────────────┐ ┌─┴─┐  │  »\n",
       "q_2: ─┤ RX(4.3813) ├─────────────────────────┤ X ├─┤ U1(2.5574) ├─┤ X ├──┼──»\n",
       "     ┌┴────────────┤                         └───┘ └────────────┘ └───┘┌─┴─┐»\n",
       "q_3: ┤ RX(0.59875) ├───────────────────────────────────────────────────┤ X ├»\n",
       "     └─────────────┘                                                   └───┘»\n",
       "«     ┌────────────┐                                                     »\n",
       "«q_0: ┤ U1(2.3357) ├────────────────■────────────────────────────────────»\n",
       "«     └────────────┘┌───────────┐   │            ┌────────────┐          »\n",
       "«q_1: ──────■───────┤ U1(2.596) ├───┼────■────■──┤ U1(4.7149) ├──■───────»\n",
       "«         ┌─┴─┐     ├───────────┴┐  │  ┌─┴─┐  │  └────────────┘  │       »\n",
       "«q_2: ────┤ X ├─────┤ U1(6.2192) ├──┼──┤ X ├──┼──────────────────┼────■──»\n",
       "«     ┌───┴───┴────┐└────────────┘┌─┴─┐└───┘┌─┴─┐┌───────────┐ ┌─┴─┐┌─┴─┐»\n",
       "«q_3: ┤ U1(3.3062) ├──────────────┤ X ├─────┤ X ├┤ U1(5.205) ├─┤ X ├┤ X ├»\n",
       "«     └────────────┘              └───┘     └───┘└───────────┘ └───┘└───┘»\n",
       "«                        \n",
       "«q_0: ───────────────────\n",
       "«                        \n",
       "«q_1: ───────────────────\n",
       "«     ┌────────────┐     \n",
       "«q_2: ┤ U1(2.4775) ├──■──\n",
       "«     ├────────────┤┌─┴─┐\n",
       "«q_3: ┤ U1(1.7934) ├┤ X ├\n",
       "«     └────────────┘└───┘</pre>"
      ],
      "text/plain": [
       "      ┌───────────┐      ┌─────────────┐          ┌──────────────┐          »\n",
       "q_0: ─┤ RX(3.275) ├───■──┤ U1(0.94437) ├──■────■──┤ U1(0.017648) ├──■────■──»\n",
       "     ┌┴───────────┴┐┌─┴─┐├─────────────┤┌─┴─┐  │  └──────────────┘  │    │  »\n",
       "q_1: ┤ RX(0.32961) ├┤ X ├┤ U1(0.84264) ├┤ X ├──┼────────────────────┼────┼──»\n",
       "     └┬────────────┤└───┘└─────────────┘└───┘┌─┴─┐ ┌────────────┐ ┌─┴─┐  │  »\n",
       "q_2: ─┤ RX(4.3813) ├─────────────────────────┤ X ├─┤ U1(2.5574) ├─┤ X ├──┼──»\n",
       "     ┌┴────────────┤                         └───┘ └────────────┘ └───┘┌─┴─┐»\n",
       "q_3: ┤ RX(0.59875) ├───────────────────────────────────────────────────┤ X ├»\n",
       "     └─────────────┘                                                   └───┘»\n",
       "«     ┌────────────┐                                                     »\n",
       "«q_0: ┤ U1(2.3357) ├────────────────■────────────────────────────────────»\n",
       "«     └────────────┘┌───────────┐   │            ┌────────────┐          »\n",
       "«q_1: ──────■───────┤ U1(2.596) ├───┼────■────■──┤ U1(4.7149) ├──■───────»\n",
       "«         ┌─┴─┐     ├───────────┴┐  │  ┌─┴─┐  │  └────────────┘  │       »\n",
       "«q_2: ────┤ X ├─────┤ U1(6.2192) ├──┼──┤ X ├──┼──────────────────┼────■──»\n",
       "«     ┌───┴───┴────┐└────────────┘┌─┴─┐└───┘┌─┴─┐┌───────────┐ ┌─┴─┐┌─┴─┐»\n",
       "«q_3: ┤ U1(3.3062) ├──────────────┤ X ├─────┤ X ├┤ U1(5.205) ├─┤ X ├┤ X ├»\n",
       "«     └────────────┘              └───┘     └───┘└───────────┘ └───┘└───┘»\n",
       "«                        \n",
       "«q_0: ───────────────────\n",
       "«                        \n",
       "«q_1: ───────────────────\n",
       "«     ┌────────────┐     \n",
       "«q_2: ┤ U1(2.4775) ├──■──\n",
       "«     ├────────────┤┌─┴─┐\n",
       "«q_3: ┤ U1(1.7934) ├┤ X ├\n",
       "«     └────────────┘└───┘"
      ]
     },
     "execution_count": 406,
     "metadata": {},
     "output_type": "execute_result"
    }
   ],
   "source": [
    "l = a.bind_parameters(r1)\n",
    "l.draw()"
   ]
  },
  {
   "cell_type": "code",
   "execution_count": 407,
   "metadata": {},
   "outputs": [
    {
     "data": {
      "text/plain": [
       "array([ 0.0365098 +0.j        ,  0.29900957-0.45725819j,\n",
       "        0.00404115-0.00453207j, -0.08445165+0.03353155j,\n",
       "       -0.02367197+0.04534906j, -0.46804801+0.60575155j,\n",
       "        0.00196914+0.00827692j,  0.12545223-0.02170085j,\n",
       "       -0.00868343+0.00718221j,  0.0719878 +0.15249198j,\n",
       "       -0.00152232-0.00109318j,  0.02036164+0.01928627j,\n",
       "        0.00962011+0.01252016j,  0.17072589+0.16333639j,\n",
       "       -0.00185912+0.00185458j,  0.03410633+0.01951766j])"
      ]
     },
     "execution_count": 407,
     "metadata": {},
     "output_type": "execute_result"
    }
   ],
   "source": [
    "backend = Aer.get_backend('statevector_simulator')\n",
    "job = execute(l, backend)\n",
    "v1 = job.result().get_statevector()\n",
    "v1"
   ]
  },
  {
   "cell_type": "code",
   "execution_count": 408,
   "metadata": {},
   "outputs": [
    {
     "data": {
      "text/plain": [
       "array([ 0.13831493+0.j        , -0.06557632-0.14283851j,\n",
       "        0.02738498-0.03535283j, -0.04710248+0.01906736j,\n",
       "        0.00930738-0.01833565j, -0.02030079-0.01156946j,\n",
       "       -0.0020642 +0.00631955j,  0.00732089-0.00186415j,\n",
       "        0.15406333-0.58628227j, -0.57401015+0.38079046j,\n",
       "        0.18209828-0.0724635j , -0.21499343+0.05810361j,\n",
       "       -0.03081931+0.08468544j,  0.10239403-0.0015364j ,\n",
       "        0.02596329+0.01322274j, -0.01605611-0.02895503j])"
      ]
     },
     "execution_count": 408,
     "metadata": {},
     "output_type": "execute_result"
    }
   ],
   "source": [
    "job_ = execute(m, backend)\n",
    "v2 = job_.result().get_statevector()\n",
    "v2"
   ]
  },
  {
   "cell_type": "code",
   "execution_count": 412,
   "metadata": {},
   "outputs": [
    {
     "data": {
      "text/plain": [
       "numpy.float64"
      ]
     },
     "execution_count": 412,
     "metadata": {},
     "output_type": "execute_result"
    }
   ],
   "source": [
    "fidelity = np.abs(np.dot(np.conjugate(v1), v2))**2\n",
    "type(fidelity)"
   ]
  },
  {
   "cell_type": "code",
   "execution_count": 411,
   "metadata": {},
   "outputs": [
    {
     "data": {
      "text/plain": [
       "float"
      ]
     },
     "execution_count": 411,
     "metadata": {},
     "output_type": "execute_result"
    }
   ],
   "source": [
    "fidelity = state_fidelity(v1, v2)\n",
    "type(fidelity)"
   ]
  },
  {
   "cell_type": "code",
   "execution_count": 103,
   "metadata": {},
   "outputs": [
    {
     "data": {
      "text/plain": [
       "5.0"
      ]
     },
     "execution_count": 103,
     "metadata": {},
     "output_type": "execute_result"
    }
   ],
   "source": [
    "np.abs(4 + 3J)"
   ]
  },
  {
   "cell_type": "code",
   "execution_count": 112,
   "metadata": {},
   "outputs": [
    {
     "data": {
      "text/plain": [
       "0.0022192300473964036"
      ]
     },
     "execution_count": 112,
     "metadata": {},
     "output_type": "execute_result"
    }
   ],
   "source": [
    "np.abs(np.dot(y,v))**2"
   ]
  },
  {
   "cell_type": "code",
   "execution_count": null,
   "metadata": {},
   "outputs": [],
   "source": [
    "y = v"
   ]
  },
  {
   "cell_type": "code",
   "execution_count": null,
   "metadata": {},
   "outputs": [],
   "source": []
  }
 ],
 "metadata": {
  "kernelspec": {
   "display_name": "Python 3",
   "language": "python",
   "name": "python3"
  },
  "language_info": {
   "codemirror_mode": {
    "name": "ipython",
    "version": 3
   },
   "file_extension": ".py",
   "mimetype": "text/x-python",
   "name": "python",
   "nbconvert_exporter": "python",
   "pygments_lexer": "ipython3",
   "version": "3.8.2"
  }
 },
 "nbformat": 4,
 "nbformat_minor": 4
}
