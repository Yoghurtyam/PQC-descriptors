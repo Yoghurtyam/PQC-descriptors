{
 "cells": [
  {
   "cell_type": "markdown",
   "metadata": {},
   "source": [
    "# Variational Quantum Classifier"
   ]
  },
  {
   "cell_type": "markdown",
   "metadata": {},
   "source": [
    "## Contents\n",
    "\n",
    "1. [Introduction](#intro)    \n",
    "    1.1  [Data Pre-Processing](#pre-process)\n",
    "2. [Classification on a Quantum Computer](#vqc)    \n",
    "    2.1 [Loading Data onto the Quantum Computer](#feature-maps)    \n",
    "    2.2 [Building the Circuit that Classifies](#var-forms)     \n",
    "    2.3 [Classical optimization loop](#classical-optimization)    \n",
    "    2.4 [Boolean Map](#validate)    \n",
    "    2.5 [Classifying Digits 0 and 1](#full)\n",
    "3. [Testing the participant submission - Grading](#grading) "
   ]
  },
  {
   "cell_type": "markdown",
   "metadata": {},
   "source": [
    "## 1. Introduction <a id=\"intro\"></a>"
   ]
  },
  {
   "cell_type": "markdown",
   "metadata": {},
   "source": [
    "### 1.2 Data Pre-Processing <a id=\"pre-process\"></a>"
   ]
  },
  {
   "cell_type": "markdown",
   "metadata": {},
   "source": [
    "Similar to classical machine learning we employ various pre-processing techniques on the classical dataset before its fed into the quantum computer. This helps us work with larger and more complex datasets with the quantum computers we have today. The dataset we're going to work with today will be a subset of the popular handwritten digits dataset, the [MNIST](http://yann.lecun.com/exdb/mnist/) dataset. You can read more about it [here](https://en.wikipedia.org/wiki/MNIST_database).\n",
    "\n",
    "Lets start by importing the dataset which one can download [here](http://yann.lecun.com/exdb/mnist/)."
   ]
  },
  {
   "cell_type": "code",
   "execution_count": 6,
   "metadata": {},
   "outputs": [],
   "source": [
    "import numpy as np\n",
    "%matplotlib inline\n",
    "import matplotlib.pyplot as plt\n",
    "\n",
    "image_size = 28 # width and length\n",
    "no_of_different_labels = 10 #  i.e. 0, 1, 2, 3, ..., 9\n",
    "image_pixels = image_size * image_size\n",
    "data_path = \"../dataset/\"\n",
    "train_data = np.loadtxt(data_path + \"mnist_train.csv\", \n",
    "                        delimiter=\",\")\n",
    "test_data = np.loadtxt(data_path + \"mnist_test.csv\", \n",
    "                       delimiter=\",\") "
   ]
  },
  {
   "cell_type": "code",
   "execution_count": 19,
   "metadata": {
    "scrolled": true
   },
   "outputs": [
    {
     "name": "stdout",
     "output_type": "stream",
     "text": [
      "Shape of the training dataset: (60000, 785)\n",
      "Shape of the testing dataset: (10000, 785)\n"
     ]
    }
   ],
   "source": [
    "print(\"Shape of the training dataset: {}\".format(train_data.shape))\n",
    "print(\"Shape of the testing dataset: {}\".format(test_data.shape))"
   ]
  },
  {
   "cell_type": "markdown",
   "metadata": {},
   "source": [
    "Before we move forward lets take a closer look at the structure of the training dataset:\n",
    "\n",
    "* Total of **60,000 datapoints** (rows in the matrix) corresponding to digits ranging from `0` to `9`\n",
    "* The first column has the label of the datapoint ranging from `0` to `9`\n",
    "* The next 784 columns/features are each a 28 $\\times$ 28 grayscale image collapsed into a row. Therefore, the **dimension of the data is 784**. Each of these values range from 0 to 275 where **0 corresponds to white** and **255 corresponds to black**\n",
    "\n",
    "Here's an example of a datapoint with label `0`. "
   ]
  },
  {
   "cell_type": "code",
   "execution_count": 16,
   "metadata": {},
   "outputs": [
    {
     "ename": "ValueError",
     "evalue": "cannot reshape array of size 785 into shape (28,28)",
     "output_type": "error",
     "traceback": [
      "\u001b[0;31m---------------------------------------------------------------------------\u001b[0m",
      "\u001b[0;31mValueError\u001b[0m                                Traceback (most recent call last)",
      "\u001b[0;32m<ipython-input-16-538cd0ac21d3>\u001b[0m in \u001b[0;36m<module>\u001b[0;34m\u001b[0m\n\u001b[0;32m----> 1\u001b[0;31m \u001b[0mimg\u001b[0m \u001b[0;34m=\u001b[0m \u001b[0mtrain_data\u001b[0m\u001b[0;34m[\u001b[0m\u001b[0;36m1\u001b[0m\u001b[0;34m:\u001b[0m\u001b[0;34m,\u001b[0m\u001b[0;34m:\u001b[0m\u001b[0;34m]\u001b[0m\u001b[0;34m[\u001b[0m\u001b[0;36m2\u001b[0m\u001b[0;34m]\u001b[0m\u001b[0;34m.\u001b[0m\u001b[0mreshape\u001b[0m\u001b[0;34m(\u001b[0m\u001b[0;34m(\u001b[0m\u001b[0;36m28\u001b[0m\u001b[0;34m,\u001b[0m \u001b[0;36m28\u001b[0m\u001b[0;34m)\u001b[0m\u001b[0;34m)\u001b[0m\u001b[0;34m\u001b[0m\u001b[0;34m\u001b[0m\u001b[0m\n\u001b[0m\u001b[1;32m      2\u001b[0m \u001b[0mplt\u001b[0m\u001b[0;34m.\u001b[0m\u001b[0mimshow\u001b[0m\u001b[0;34m(\u001b[0m\u001b[0mimg\u001b[0m\u001b[0;34m,\u001b[0m \u001b[0mcmap\u001b[0m\u001b[0;34m=\u001b[0m\u001b[0;34m\"Greys\"\u001b[0m\u001b[0;34m)\u001b[0m\u001b[0;34m\u001b[0m\u001b[0;34m\u001b[0m\u001b[0m\n\u001b[1;32m      3\u001b[0m \u001b[0mplt\u001b[0m\u001b[0;34m.\u001b[0m\u001b[0mshow\u001b[0m\u001b[0;34m(\u001b[0m\u001b[0;34m)\u001b[0m\u001b[0;34m\u001b[0m\u001b[0;34m\u001b[0m\u001b[0m\n",
      "\u001b[0;31mValueError\u001b[0m: cannot reshape array of size 785 into shape (28,28)"
     ]
    }
   ],
   "source": [
    "img = train_zeros[2].reshape((28, 28))\n",
    "plt.imshow(img, cmap=\"Greys\")\n",
    "plt.show()"
   ]
  },
  {
   "cell_type": "markdown",
   "metadata": {},
   "source": [
    "As we will learn in the next section, dimension of the data is equal to the number of qubits we require to encode the data using the encoding schemes we will use. Thus, encoding data with dimension 784 is not possible on quantum computers or simulators we have access to. Hence, we resort to **classically dimensionality reduction techniques**. Precisely, we apply truncated SVD and t-SNE methods from sklearn successively to reduce the dimension down to 2 for the sake of this example. Knowledge of SVD and t-SNE is not required going forwards and these reduction methods are given only for your reference. \n",
    "\n",
    "As the number of training and testing samples we require will be very less, we only work with the training dataset going forward and extract training, testing and validation datasets from it when required. As t-SNE is computationally expensive we will only apply it on the first 10,000 datapoints."
   ]
  },
  {
   "cell_type": "code",
   "execution_count": 25,
   "metadata": {},
   "outputs": [],
   "source": [
    "# Extracting the features and labels from the dataset and shortening the dataset to 10,000 datapoints\n",
    "train_data_features = train_data[:10000, 1:]\n",
    "train_data_labels = train_data[:10000, :1].reshape(10000,)"
   ]
  },
  {
   "cell_type": "code",
   "execution_count": 26,
   "metadata": {},
   "outputs": [],
   "source": [
    "from sklearn.decomposition import TruncatedSVD\n",
    "from sklearn.manifold import TSNE\n",
    "\n",
    "# Using SVD to bring down the dimension to 10\n",
    "tsvd = TruncatedSVD(n_components=10)\n",
    "X_SVD = tsvd.fit_transform(train_data_features)\n",
    "\n",
    "# Further using t-SNE to bring the dimension down to 2\n",
    "np.random.seed(0)\n",
    "tsne = TSNE(n_components=2)\n",
    "train_data_features_reduced = tsne.fit_transform(X_SVD)"
   ]
  },
  {
   "cell_type": "code",
   "execution_count": 27,
   "metadata": {},
   "outputs": [
    {
     "name": "stdout",
     "output_type": "stream",
     "text": [
      "Dimension of the reduced dataset: 2\n"
     ]
    }
   ],
   "source": [
    "print(\"Dimension of the reduced dataset: {}\".format(train_data_features_reduced.shape[1]))"
   ]
  },
  {
   "cell_type": "markdown",
   "metadata": {},
   "source": [
    "Lets plot out the dataset to see if the labels are interpretable, i.e show some sort of clustering in the reduced dataset."
   ]
  },
  {
   "cell_type": "code",
   "execution_count": 28,
   "metadata": {},
   "outputs": [],
   "source": [
    "import seaborn as sns\n",
    "import pandas as pd\n",
    "\n",
    "def plot2d(X, Y, c1, c2, N):\n",
    "    lbl1 = f'Component {c1}'\n",
    "    lbl2 = f'Component {c2}'    \n",
    "    df = pd.DataFrame({lbl1:X[:N,c1], lbl2:X[:N,c2], 'label':Y[:N]})\n",
    "    sns.lmplot(data=df, x=lbl1, y=lbl2, fit_reg=False, hue='label', scatter_kws={'alpha':0.5})   "
   ]
  },
  {
   "cell_type": "code",
   "execution_count": 29,
   "metadata": {},
   "outputs": [
    {
     "data": {
      "image/png": "[encoded data removed]",
      "text/plain": [
       "<Figure size 411.875x360 with 1 Axes>"
      ]
     },
     "metadata": {
      "needs_background": "light"
     },
     "output_type": "display_data"
    }
   ],
   "source": [
    "plot2d(train_data_features_reduced, train_data_labels, 0, 1, N=2000)"
   ]
  },
  {
   "cell_type": "markdown",
   "metadata": {},
   "source": [
    "As we can see, datapoints corresponding to labels such as `0` and `1` are well separated, however, ambiguous datapoints such as those corresponding to `4` and `9` are overlapping.\n",
    "\n",
    "Though there are methods to convert SVMs into multiclass classifiers they are inherently binary classifiers. Thus, we will start by extracting datapoints corresponsing to the digits `0` and `1` from the reduced dataset and normalize them to be between 0 and 2.  **Doubt: This is working, but usually what is the noramlisation range used?**"
   ]
  },
  {
   "cell_type": "code",
   "execution_count": 30,
   "metadata": {},
   "outputs": [],
   "source": [
    "zero_datapoints = []\n",
    "one_datapoints = []\n",
    "for i in range(10000):\n",
    "    if train_data_labels[i] == 0:\n",
    "        zero_datapoints.append(train_data_features_reduced[i])\n",
    "\n",
    "for i in range(10000):\n",
    "    if train_data_labels[i] == 1:\n",
    "        one_datapoints.append(train_data_features_reduced[i])\n",
    "        \n",
    "zero_datapoints = np.array(zero_datapoints)\n",
    "one_datapoints = np.array(one_datapoints)\n",
    "\n",
    "def normalise(arr, max_val, n):\n",
    "    a = np.divide(arr, max_val)\n",
    "    return a + n\n",
    "\n",
    "zero_datapoints_normalized = normalise(zero_datapoints, 100, 1)\n",
    "one_datapoints_normalized = normalise(one_datapoints, 100, 1)"
   ]
  },
  {
   "cell_type": "markdown",
   "metadata": {},
   "source": [
    "## 2. Classification on a Quantum Computer <a id=\"vqc\"></a>\n",
    "\n",
    "There are multiple methods for classifying using a quantum computer, however, today we will concentrate on a method called the **Variational Quantum Classifier (VQC)** as proposed in the paper [Havlicek et.al](https://arxiv.org/abs/1804.11326) [1] (and as the **explicit method** in the paper [Maria Schuld et. al.](https://arxiv.org/abs/1803.07128)) [2] -> Should we include this?.\n",
    "\n",
    "Similar to classical machine learning the VQC algorithm has a **training stage** (where datapoints with labels are provided and learning takes place) and a **testing stage** (where new datapoints without labels are provided which are then classified). Each of these stages is majorly a four step process: \n",
    "\n",
    "* Encoding using the quantum feature map\n",
    "* Variational optimization \n",
    "* Measurement\n",
    "* Assign the binary label\n",
    "\n",
    "![vqc](./images/vqc.png)"
   ]
  },
  {
   "cell_type": "markdown",
   "metadata": {},
   "source": [
    "### 2.1 Loading Data onto the Quantum Computer <a id=\"feature-maps\"></a>\n",
    "\n",
    "Note: This section has been adapted from [here](https://github.com/qiskit-community/qiskit-community-tutorials/blob/master/machine_learning/custom_feature_map.ipynb).\n",
    "\n",
    "The idea of quantum feature maps comes from the theory of kernels in classical machine learning where a dataset is mapped non-linearly onto a higher dimensional space where a hyperplane can be found that classifies it. \n",
    "\n",
    "As the name suggests, a **quantum feature map $\\phi(\\vec{x})$** is a map from the classical feature vector $\\vec{x}$ to the quantum state $|\\Phi(\\vec{x})\\rangle\\langle\\Phi(\\vec{x})|$, a vector in Hilbert space. This is faciliated by applying the unitary operation $\\mathcal{U}_{\\Phi(\\vec{x})}$ on the initial state $|0\\rangle^{n}$ where _n_ is the number of qubits being used for encoding. By doing this process we have now blown up the dimension of our feature space and task of our classifier is to find a separating hyperlane in this new space.\n",
    "\n",
    "Constructing feature maps based on quantum circuits that are hard to simulate classically is an important step towards obtaining a quantum advantage over classical approaches. The authors of [1] proposed a family of feature maps that is conjectured to be hard to simulate classically and that can be implemented as short-depth circuits on near-term quantum devices. The quantum feature map of depth $d$ is implemented by the unitary operator \n",
    "\n",
    "$$ \\mathcal{U}_{\\Phi(\\mathbf{x})}=\\prod_d U_{\\Phi(\\mathbf{x})}H^{\\otimes n},\\ U_{\\Phi(\\mathbf{x})}=\\exp\\left(i\\sum_{S\\subseteq[n]}\\phi_S(\\mathbf{x})\\prod_{k\\in S} P_k\\right), $$\n",
    "\n",
    "which contains layers of Hadamard gates interleaved with entangling blocks encoding the classical data as shown in circuit diagram below for $d=2$.\n",
    "\n",
    "<img src=\"images/uphi.PNG\" width=\"400\" />\n",
    "\n",
    "The number of qubits $n$ in the quantum circuit is equal to the dimensionality of the classical data $\\mathbf{x}$, which are encoded through the coefficients $\\phi_S(\\mathbf{x})$, where $S \\subseteq[n] = \\{1, \\ldots, n \\}$. We call the $r$-th order expansion the feature map of this circuit family when $|S|\\leq r$. In Terra, the default is the second order expansion $|S|\\leq 2$ used in [1], which gives $n$ singeltons $S=\\{i\\}$ and, depending on the connectivity graph of the quantum device, up to $\\frac{n(n-1)}{2}$ couples to encode non-linear interactions. The greater the upper bound $r$, the more interactions will be taken into account.\n",
    "\n",
    "Only contributions from $Z$ and $ZZ$ gates in the entangling blocks are considered in [1]. In general, the blocks can be expressed in terms of the Pauli gates $P_k \\in \\{\\mathbb{1}_k, X_k, Y_k, Z_k \\}$.\n",
    "\n",
    "In the Terra circuit library, the circuit depth $d$, coefficients $\\phi_S$, expansion order $r$, and gates $P_k$ are mutable for Variational Quantum Classifier. As discussed in [1], the depth $d=1$ circuit can be efficiently simulated classically by uniform sampling, while the $d=2$ variant is conjectured to be hard to simulate classically."
   ]
  },
  {
   "cell_type": "markdown",
   "metadata": {},
   "source": [
    "### Using Feature Maps from the Terra Circuit Library\n",
    "\n",
    "We will now see how to configure quantum feature maps in Terra by modifing the `circuit depth` $d$, `data map function` $\\phi_S$, `expansion order` $r$, and gates $P_k$. Documentation on the quantum feature maps in Terra can be found at https://qiskit.org/documentation/apidoc/circuit_library.html. \n",
    "\n",
    "We'll see how to build quantum feature maps inbuilt in Qiskit and a method to build your own custom feature map. Qiskit Terra's circuit library has numerous variational circuits one could use for building their quantum feature map. However, the circuits specific to the data preparation step based on paper [[1]](https://arxiv.org/abs/1804.11326) are : \n",
    "\n",
    "* ZFeatureMap\n",
    "* ZZFeatureMap\n",
    "* PauliFeatureMap\n",
    "\n",
    "Lets start by importing the required components from Qiskit."
   ]
  },
  {
   "cell_type": "code",
   "execution_count": 31,
   "metadata": {},
   "outputs": [],
   "source": [
    "from qiskit import QuantumCircuit, QuantumRegister, ClassicalRegister\n",
    "from qiskit import BasicAer\n",
    "\n",
    "from qiskit import *\n",
    "import numpy as np\n",
    "from qiskit.visualization import plot_bloch_multivector, plot_histogram\n",
    "\n",
    "import time\n",
    "from qiskit.circuit.library import ZZFeatureMap, ZFeatureMap, PauliFeatureMap\n",
    "from qiskit.aqua.utils import split_dataset_to_data_and_labels, map_label_to_class_name\n",
    "from qiskit.aqua import QuantumInstance\n",
    "from qiskit.aqua.algorithms import VQC"
   ]
  },
  {
   "cell_type": "markdown",
   "metadata": {},
   "source": [
    "### ZFeatureMap"
   ]
  },
  {
   "cell_type": "markdown",
   "metadata": {},
   "source": [
    "A first order diagonal expansion is implemented using the `ZFeatureMap` feature map where $|S|=1$. The resulting circuit contains no interactions between features of the encoded data, and therefore no entanglement. The feature map can take the following inputs:\n",
    "\n",
    "- `feature_dimension`: dimensionality of the classical data (equal to the number of required qubits)\n",
    "- `reps`: number of times $d$ to repeat the feature map circuit \n",
    "- `data_map_func`: function $\\phi_S(\\mathbf{x})$ encoding the classical data.\n",
    "\n",
    "The default setting `data_map_func = self_product` for the `ZFeatureMap` has $S = \\{i\\}$ and is given by \n",
    "\n",
    "$$\\phi_S:x\\mapsto x_i.$$"
   ]
  },
  {
   "cell_type": "code",
   "execution_count": 32,
   "metadata": {},
   "outputs": [
    {
     "data": {
      "text/html": [
       "<pre style=\"word-wrap: normal;white-space: pre;background: #fff0;line-height: 1.1;font-family: &quot;Courier New&quot;,Courier,monospace\">     ┌───┐┌──────────────┐┌───┐┌──────────────┐┌───┐┌──────────────┐┌───┐»\n",
       "q_0: ┤ H ├┤ U1(2.0*x[0]) ├┤ H ├┤ U1(2.0*x[0]) ├┤ H ├┤ U1(2.0*x[0]) ├┤ H ├»\n",
       "     ├───┤├──────────────┤├───┤├──────────────┤├───┤├──────────────┤├───┤»\n",
       "q_1: ┤ H ├┤ U1(2.0*x[1]) ├┤ H ├┤ U1(2.0*x[1]) ├┤ H ├┤ U1(2.0*x[1]) ├┤ H ├»\n",
       "     ├───┤├──────────────┤├───┤├──────────────┤├───┤├──────────────┤├───┤»\n",
       "q_2: ┤ H ├┤ U1(2.0*x[2]) ├┤ H ├┤ U1(2.0*x[2]) ├┤ H ├┤ U1(2.0*x[2]) ├┤ H ├»\n",
       "     └───┘└──────────────┘└───┘└──────────────┘└───┘└──────────────┘└───┘»\n",
       "«     ┌──────────────┐\n",
       "«q_0: ┤ U1(2.0*x[0]) ├\n",
       "«     ├──────────────┤\n",
       "«q_1: ┤ U1(2.0*x[1]) ├\n",
       "«     ├──────────────┤\n",
       "«q_2: ┤ U1(2.0*x[2]) ├\n",
       "«     └──────────────┘</pre>"
      ],
      "text/plain": [
       "     ┌───┐┌──────────────┐┌───┐┌──────────────┐┌───┐┌──────────────┐┌───┐»\n",
       "q_0: ┤ H ├┤ U1(2.0*x[0]) ├┤ H ├┤ U1(2.0*x[0]) ├┤ H ├┤ U1(2.0*x[0]) ├┤ H ├»\n",
       "     ├───┤├──────────────┤├───┤├──────────────┤├───┤├──────────────┤├───┤»\n",
       "q_1: ┤ H ├┤ U1(2.0*x[1]) ├┤ H ├┤ U1(2.0*x[1]) ├┤ H ├┤ U1(2.0*x[1]) ├┤ H ├»\n",
       "     ├───┤├──────────────┤├───┤├──────────────┤├───┤├──────────────┤├───┤»\n",
       "q_2: ┤ H ├┤ U1(2.0*x[2]) ├┤ H ├┤ U1(2.0*x[2]) ├┤ H ├┤ U1(2.0*x[2]) ├┤ H ├»\n",
       "     └───┘└──────────────┘└───┘└──────────────┘└───┘└──────────────┘└───┘»\n",
       "«     ┌──────────────┐\n",
       "«q_0: ┤ U1(2.0*x[0]) ├\n",
       "«     ├──────────────┤\n",
       "«q_1: ┤ U1(2.0*x[1]) ├\n",
       "«     ├──────────────┤\n",
       "«q_2: ┤ U1(2.0*x[2]) ├\n",
       "«     └──────────────┘"
      ]
     },
     "execution_count": 32,
     "metadata": {},
     "output_type": "execute_result"
    }
   ],
   "source": [
    "feature_dim = 3 \n",
    "\n",
    "Z_feature_map = ZFeatureMap(feature_dimension=feature_dim, reps=4)\n",
    "Z_feature_map.draw()"
   ]
  },
  {
   "cell_type": "code",
   "execution_count": 33,
   "metadata": {},
   "outputs": [
    {
     "name": "stdout",
     "output_type": "stream",
     "text": [
      "parameters of the Z Feature Map are: {Parameter(x[1]), Parameter(x[0]), Parameter(x[2])}\n"
     ]
    }
   ],
   "source": [
    "print(\"parameters of the Z Feature Map are: {}\".format(Z_feature_map.parameters))"
   ]
  },
  {
   "cell_type": "markdown",
   "metadata": {},
   "source": [
    "On changing the `feature_dim`  on the `ZFeatureMap` we realize that for encoding data of dimension _d_ we require _d_ qubits. And this brings us to the reason why we applied dimension reduction techniques in the classical pre-processing step. Initially the data was of dimension 784 implying that we would require 784 qubits to encode it! Post the reduction, we would only require 2 qubits. \n",
    "\n",
    "The parameters $x[0], x[1]$ and $x[2]$ will be filled in with the feature values of our feature vector $\\vec{x}$. Thus, though we are using a variational form to construct the feature map, per input of data they are immutable circuits. Unlike variational circuits used in the variational optimization step."
   ]
  },
  {
   "cell_type": "markdown",
   "metadata": {},
   "source": [
    "### ZZFeatureMap"
   ]
  },
  {
   "cell_type": "markdown",
   "metadata": {},
   "source": [
    "The `ZZFeatureMap` feature map allows $|S|\\leq 2$, so interactions in the data will be encoded in the feature map according to the connectivity graph and the classical data map. `ZZFeatureMap` with default parameters is equivalent to the feature map described in [1] and can take the additional inputs:\n",
    "\n",
    "- `entangler_map`: encodes qubit connectivity (default `None` uses a precomputed connectivity graph according to `entanglement`) \n",
    "- `entanglement`: generates connectivity `'full'` or `'linear'` if `entangler_map` not provided (default value `'full'` indicates a complete connectivity graph of $\\frac{n(n-1)}{2}$ interactions)\n",
    "\n",
    "The default setting for `data_map_func` in `ZZFeatureMap` is given by\n",
    "\n",
    "$$\\phi_S:x\\mapsto \\Bigg\\{\\begin{array}{ll}\n",
    "    x_i & \\mbox{if}\\ S=\\{i\\} \\\\\n",
    "        (\\pi-x_i)(\\pi-x_j) & \\mbox{if}\\ S=\\{i,j\\}\n",
    "    \\end{array}$$."
   ]
  },
  {
   "cell_type": "code",
   "execution_count": 34,
   "metadata": {},
   "outputs": [
    {
     "data": {
      "text/html": [
       "<pre style=\"word-wrap: normal;white-space: pre;background: #fff0;line-height: 1.1;font-family: &quot;Courier New&quot;,Courier,monospace\">     ┌───┐┌──────────────┐     »\n",
       "q_0: ┤ H ├┤ U1(2.0*x[0]) ├──■──»\n",
       "     ├───┤├──────────────┤┌─┴─┐»\n",
       "q_1: ┤ H ├┤ U1(2.0*x[1]) ├┤ X ├»\n",
       "     └───┘└──────────────┘└───┘»\n",
       "«                                                                         ┌───┐»\n",
       "«q_0: ─────────────────────────────────────────────────────────────────■──┤ H ├»\n",
       "«     ┌─────────────────────────────────────────────────────────────┐┌─┴─┐├───┤»\n",
       "«q_1: ┤ U1(2.0*(3.14159265358979 - x[0])*(3.14159265358979 - x[1])) ├┤ X ├┤ H ├»\n",
       "«     └─────────────────────────────────────────────────────────────┘└───┘└───┘»\n",
       "«     ┌──────────────┐     »\n",
       "«q_0: ┤ U1(2.0*x[0]) ├──■──»\n",
       "«     ├──────────────┤┌─┴─┐»\n",
       "«q_1: ┤ U1(2.0*x[1]) ├┤ X ├»\n",
       "«     └──────────────┘└───┘»\n",
       "«                                                                         \n",
       "«q_0: ─────────────────────────────────────────────────────────────────■──\n",
       "«     ┌─────────────────────────────────────────────────────────────┐┌─┴─┐\n",
       "«q_1: ┤ U1(2.0*(3.14159265358979 - x[0])*(3.14159265358979 - x[1])) ├┤ X ├\n",
       "«     └─────────────────────────────────────────────────────────────┘└───┘</pre>"
      ],
      "text/plain": [
       "     ┌───┐┌──────────────┐     »\n",
       "q_0: ┤ H ├┤ U1(2.0*x[0]) ├──■──»\n",
       "     ├───┤├──────────────┤┌─┴─┐»\n",
       "q_1: ┤ H ├┤ U1(2.0*x[1]) ├┤ X ├»\n",
       "     └───┘└──────────────┘└───┘»\n",
       "«                                                                         ┌───┐»\n",
       "«q_0: ─────────────────────────────────────────────────────────────────■──┤ H ├»\n",
       "«     ┌─────────────────────────────────────────────────────────────┐┌─┴─┐├───┤»\n",
       "«q_1: ┤ U1(2.0*(3.14159265358979 - x[0])*(3.14159265358979 - x[1])) ├┤ X ├┤ H ├»\n",
       "«     └─────────────────────────────────────────────────────────────┘└───┘└───┘»\n",
       "«     ┌──────────────┐     »\n",
       "«q_0: ┤ U1(2.0*x[0]) ├──■──»\n",
       "«     ├──────────────┤┌─┴─┐»\n",
       "«q_1: ┤ U1(2.0*x[1]) ├┤ X ├»\n",
       "«     └──────────────┘└───┘»\n",
       "«                                                                         \n",
       "«q_0: ─────────────────────────────────────────────────────────────────■──\n",
       "«     ┌─────────────────────────────────────────────────────────────┐┌─┴─┐\n",
       "«q_1: ┤ U1(2.0*(3.14159265358979 - x[0])*(3.14159265358979 - x[1])) ├┤ X ├\n",
       "«     └─────────────────────────────────────────────────────────────┘└───┘"
      ]
     },
     "execution_count": 34,
     "metadata": {},
     "output_type": "execute_result"
    }
   ],
   "source": [
    "feature_dim = 2\n",
    "\n",
    "ZZ_feature_map = ZZFeatureMap(feature_dimension=feature_dim, reps=2, insert_barriers=True)\n",
    "ZZ_feature_map.draw()"
   ]
  },
  {
   "cell_type": "code",
   "execution_count": 35,
   "metadata": {},
   "outputs": [
    {
     "name": "stdout",
     "output_type": "stream",
     "text": [
      "parameters of the Z Feature Map are: {Parameter(x[1]), Parameter(x[0])}\n"
     ]
    }
   ],
   "source": [
    "print(\"parameters of the Z Feature Map are: {}\".format(ZZ_feature_map.parameters))"
   ]
  },
  {
   "cell_type": "markdown",
   "metadata": {},
   "source": [
    "### PauliFeatureMap"
   ]
  },
  {
   "cell_type": "markdown",
   "metadata": {},
   "source": [
    "For some applications, we may want to consider a more general form of the feature map. One way to generalize is to use `PauliFeatureMap` and specify a set of Pauli gates instead of using the default $Z$ gates. This feature map has the same parameters as `ZFeatureMap` and `ZZFeatureMap` such as `reps` and `data_map_function` along with an additional `paulis` parameter to change the gate set. This parameter is a list of strings, each representing the desired Pauli gate(s). The default value is `['Z', 'ZZ']`, which is equivalent to `ZZFeatureMap`.\n",
    "\n",
    "\n",
    "Each string in `paulis` is implemented one at a time for each layer in the depth $d$ feature map circuit. A single character, for example `'Z'`, adds one layer of the corresponding single-qubit gates, while terms such as `'ZZ'` or `'XY'` add a layer of corresponding two-qubit entangling gates for each qubit pair available.\n",
    "\n",
    "For example, the choice `paulis = ['Z', 'Y', 'ZZ']` generates a quantum feature map of the form \n",
    "\n",
    "$$\\mathcal{U}_{\\Phi(\\mathbf{x})} = \\left( \\exp\\left(i\\sum_{jk} \\phi_{\\{j,k\\}}(\\mathbf{x}) \\, Z_j \\otimes Z_k\\right) \\, \\exp\\left(i\\sum_{j} \\phi_{\\{j\\}}(\\mathbf{x}) \\, Y_j\\right) \\, \\exp\\left(i\\sum_j \\phi_{\\{j\\}}(\\mathbf{x}) \\, Z_j\\right) \\, H^{\\otimes n} \\right)^d.$$ \n",
    "\n",
    "The depth $d=1$ version of this quantum circuit is shown in the figure below for $n=2$ qubits.\n",
    "\n",
    "<br>\n",
    "<img src=\"images/depth1.PNG\" width=\"400\"/>\n",
    "<br>\n",
    "\n",
    "The circuit begins with a layer of Hadamard gates $H^{\\otimes n}$ followed by a layer of single-qubit $A = e^{i\\phi_{\\{j\\}}(\\mathbf{x})Z_j}$ gates and a layer of $B = e^{i\\phi_{\\{j\\}}(\\mathbf{x}) \\, Y_j}$ gates. The $A$ and $B$ gates are parametrized by the same set of angles $\\phi_{\\{j\\}}(\\mathbf{x})$ but around different axes. The diagonal entangling gate $e^{i \\phi_{\\{0,1\\}}(\\mathbf{x}) \\, Z_0 \\otimes Z_1}$ is parametrized by an angle $\\phi_{\\{0,1\\}}(\\mathbf{x})$ and can be implemented using two controlled-NOT gates and one $A'=e^{i\\phi_{\\{0,1\\}}(x)\\, Z_1}$ gate as shown in the figure.\n",
    "\n",
    "As a comparison, `paulis = ['Z', 'ZZ']` creates the same circuit as above but without the $B$ gates, while `paulis = ['Z', 'YY']` creates a circuit with a layer of $A$ gates followed by a layer of entangling gates $e^{i \\phi_{\\{0,1\\}}(\\mathbf{x}) \\, Y_0 \\otimes Y_1}$.\n",
    "\n",
    "Below, we test the `PauliFeatureMap` with `paulis=['Z', 'Y', 'ZZ']`."
   ]
  },
  {
   "cell_type": "code",
   "execution_count": 36,
   "metadata": {},
   "outputs": [
    {
     "data": {
      "text/html": [
       "<pre style=\"word-wrap: normal;white-space: pre;background: #fff0;line-height: 1.1;font-family: &quot;Courier New&quot;,Courier,monospace\">     ┌───┐┌──────────────┐┌───┐┌──────────────┐┌───┐┌──────────┐     »\n",
       "q_0: ┤ H ├┤ U1(2.0*x[0]) ├┤ H ├┤ U1(2.0*x[0]) ├┤ H ├┤ RX(pi/2) ├──■──»\n",
       "     ├───┤├──────────────┤├───┤├──────────────┤├───┤└──────────┘┌─┴─┐»\n",
       "q_1: ┤ H ├┤ U1(2.0*x[1]) ├┤ H ├┤ U1(2.0*x[1]) ├┤ H ├────────────┤ X ├»\n",
       "     └───┘└──────────────┘└───┘└──────────────┘└───┘            └───┘»\n",
       "«                                                                         »\n",
       "«q_0: ─────────────────────────────────────────────────────────────────■──»\n",
       "«     ┌─────────────────────────────────────────────────────────────┐┌─┴─┐»\n",
       "«q_1: ┤ U1(2.0*(3.14159265358979 - x[0])*(3.14159265358979 - x[1])) ├┤ X ├»\n",
       "«     └─────────────────────────────────────────────────────────────┘└───┘»\n",
       "«     ┌───────────┐\n",
       "«q_0: ┤ RX(-pi/2) ├\n",
       "«     └───────────┘\n",
       "«q_1: ─────────────\n",
       "«                  </pre>"
      ],
      "text/plain": [
       "     ┌───┐┌──────────────┐┌───┐┌──────────────┐┌───┐┌──────────┐     »\n",
       "q_0: ┤ H ├┤ U1(2.0*x[0]) ├┤ H ├┤ U1(2.0*x[0]) ├┤ H ├┤ RX(pi/2) ├──■──»\n",
       "     ├───┤├──────────────┤├───┤├──────────────┤├───┤└──────────┘┌─┴─┐»\n",
       "q_1: ┤ H ├┤ U1(2.0*x[1]) ├┤ H ├┤ U1(2.0*x[1]) ├┤ H ├────────────┤ X ├»\n",
       "     └───┘└──────────────┘└───┘└──────────────┘└───┘            └───┘»\n",
       "«                                                                         »\n",
       "«q_0: ─────────────────────────────────────────────────────────────────■──»\n",
       "«     ┌─────────────────────────────────────────────────────────────┐┌─┴─┐»\n",
       "«q_1: ┤ U1(2.0*(3.14159265358979 - x[0])*(3.14159265358979 - x[1])) ├┤ X ├»\n",
       "«     └─────────────────────────────────────────────────────────────┘└───┘»\n",
       "«     ┌───────────┐\n",
       "«q_0: ┤ RX(-pi/2) ├\n",
       "«     └───────────┘\n",
       "«q_1: ─────────────\n",
       "«                  "
      ]
     },
     "execution_count": 36,
     "metadata": {},
     "output_type": "execute_result"
    }
   ],
   "source": [
    "feature_dim = 2\n",
    "\n",
    "pauli_feature_map = PauliFeatureMap(feature_dimension=feature_dim, reps=1, paulis = ['Z','X','ZY'])\n",
    "pauli_feature_map.draw()"
   ]
  },
  {
   "cell_type": "markdown",
   "metadata": {},
   "source": [
    "### 2.2 Building the Circuit that Classifies <a id=\"var-forms\"></a>"
   ]
  },
  {
   "cell_type": "markdown",
   "metadata": {},
   "source": [
    "In this step we append a short depth [Variational Circuit](https://qiskit.org/documentation/tutorials/circuits_advanced/1_advanced_circuits.html) to the previously constructed feature map. The parameters of this variational circuit are then trained in the [classical optimization loop](#classical-optimization) until it classifies the datapoints correctly. This is the learning stage of the algorithm and accuracy of the model can vary based on the variational circuit one chooses. It is essential to choose a variational circuit of shorter depth (making it especially viable for hardware implementation), lesser number of parameters to train (faster training process) while making sure its [_Expressability and Entangling capacity_](https://arxiv.org/pdf/1905.10876.pdf) are enough to classify our dataset. Defining and building \"good\" variational circuits is still an active field of research similar to the study of feature maps.\n",
    "\n",
    "Coming to the implementation details, Using Terra one can build variational circuits using `NLocal` circuits or the `FunctionalPauliRotations` from the Terra circuit library documentation [here](https://qiskit.org/documentation/apidoc/circuit_library.html), [codebase](https://github.com/Qiskit/qiskit-terra/tree/master/qiskit/circuit/library)."
   ]
  },
  {
   "cell_type": "markdown",
   "metadata": {},
   "source": [
    "**Constructing using [`Real Amplitudes`](https://qiskit.org/documentation/stubs/qiskit.circuit.library.RealAmplitudes.html):**"
   ]
  },
  {
   "cell_type": "code",
   "execution_count": 37,
   "metadata": {},
   "outputs": [
    {
     "data": {
      "text/html": [
       "<pre style=\"word-wrap: normal;white-space: pre;background: #fff0;line-height: 1.1;font-family: &quot;Courier New&quot;,Courier,monospace\">     ┌──────────┐     ┌──────────┐     ┌──────────┐     ┌──────────┐\n",
       "q_0: ┤ RY(θ[0]) ├──■──┤ RY(θ[2]) ├──■──┤ RY(θ[4]) ├──■──┤ RY(θ[6]) ├\n",
       "     ├──────────┤┌─┴─┐├──────────┤┌─┴─┐├──────────┤┌─┴─┐├──────────┤\n",
       "q_1: ┤ RY(θ[1]) ├┤ X ├┤ RY(θ[3]) ├┤ X ├┤ RY(θ[5]) ├┤ X ├┤ RY(θ[7]) ├\n",
       "     └──────────┘└───┘└──────────┘└───┘└──────────┘└───┘└──────────┘</pre>"
      ],
      "text/plain": [
       "     ┌──────────┐     ┌──────────┐     ┌──────────┐     ┌──────────┐\n",
       "q_0: ┤ RY(θ[0]) ├──■──┤ RY(θ[2]) ├──■──┤ RY(θ[4]) ├──■──┤ RY(θ[6]) ├\n",
       "     ├──────────┤┌─┴─┐├──────────┤┌─┴─┐├──────────┤┌─┴─┐├──────────┤\n",
       "q_1: ┤ RY(θ[1]) ├┤ X ├┤ RY(θ[3]) ├┤ X ├┤ RY(θ[5]) ├┤ X ├┤ RY(θ[7]) ├\n",
       "     └──────────┘└───┘└──────────┘└───┘└──────────┘└───┘└──────────┘"
      ]
     },
     "execution_count": 37,
     "metadata": {},
     "output_type": "execute_result"
    }
   ],
   "source": [
    "from qiskit.circuit.library import RealAmplitudes\n",
    "\n",
    "num_qubits = 2\n",
    "\n",
    "classifier_circ = RealAmplitudes(num_qubits, entanglement='full', reps=3)\n",
    "classifier_circ.draw()"
   ]
  },
  {
   "cell_type": "markdown",
   "metadata": {},
   "source": [
    "**Constructing a Custom Variational Circuit/Feature Map:** "
   ]
  },
  {
   "cell_type": "code",
   "execution_count": 38,
   "metadata": {},
   "outputs": [
    {
     "data": {
      "text/html": [
       "<pre style=\"word-wrap: normal;white-space: pre;background: #fff0;line-height: 1.1;font-family: &quot;Courier New&quot;,Courier,monospace\">     ┌──────────┐                                                           »\n",
       "q_0: ┤ RX(x[0]) ├──■─────────────────────■────■─────────────────────■───────»\n",
       "     ├──────────┤┌─┴─┐┌───────────────┐┌─┴─┐  │                     │       »\n",
       "q_1: ┤ RX(x[1]) ├┤ X ├┤ U1(x[0]*x[1]) ├┤ X ├──┼─────────────────────┼────■──»\n",
       "     ├──────────┤└───┘└───────────────┘└───┘┌─┴─┐┌───────────────┐┌─┴─┐┌─┴─┐»\n",
       "q_2: ┤ RX(x[2]) ├───────────────────────────┤ X ├┤ U1(x[0]*x[2]) ├┤ X ├┤ X ├»\n",
       "     └──────────┘                           └───┘└───────────────┘└───┘└───┘»\n",
       "«                           \n",
       "«q_0: ──────────────────────\n",
       "«                           \n",
       "«q_1: ───────────────────■──\n",
       "«     ┌───────────────┐┌─┴─┐\n",
       "«q_2: ┤ U1(x[1]*x[2]) ├┤ X ├\n",
       "«     └───────────────┘└───┘</pre>"
      ],
      "text/plain": [
       "     ┌──────────┐                                                           »\n",
       "q_0: ┤ RX(x[0]) ├──■─────────────────────■────■─────────────────────■───────»\n",
       "     ├──────────┤┌─┴─┐┌───────────────┐┌─┴─┐  │                     │       »\n",
       "q_1: ┤ RX(x[1]) ├┤ X ├┤ U1(x[0]*x[1]) ├┤ X ├──┼─────────────────────┼────■──»\n",
       "     ├──────────┤└───┘└───────────────┘└───┘┌─┴─┐┌───────────────┐┌─┴─┐┌─┴─┐»\n",
       "q_2: ┤ RX(x[2]) ├───────────────────────────┤ X ├┤ U1(x[0]*x[2]) ├┤ X ├┤ X ├»\n",
       "     └──────────┘                           └───┘└───────────────┘└───┘└───┘»\n",
       "«                           \n",
       "«q_0: ──────────────────────\n",
       "«                           \n",
       "«q_1: ───────────────────■──\n",
       "«     ┌───────────────┐┌─┴─┐\n",
       "«q_2: ┤ U1(x[1]*x[2]) ├┤ X ├\n",
       "«     └───────────────┘└───┘"
      ]
     },
     "execution_count": 38,
     "metadata": {},
     "output_type": "execute_result"
    }
   ],
   "source": [
    "from qiskit.circuit import QuantumCircuit, ParameterVector\n",
    "\n",
    "num_qubits = 3\n",
    "reps = 1\n",
    "x = ParameterVector('x', length=num_qubits)  \n",
    "custom_circ = QuantumCircuit(num_qubits)\n",
    "\n",
    "for _ in range(reps):\n",
    "    for i in range(num_qubits):\n",
    "        custom_circ.rx(x[i], i)\n",
    "    for i in range(num_qubits):\n",
    "        for j in range(i + 1, num_qubits):\n",
    "            custom_circ.cx(i, j)\n",
    "            custom_circ.u1(x[i] * x[j], j)\n",
    "            custom_circ.cx(i, j)\n",
    "            \n",
    "custom_circ.draw()"
   ]
  },
  {
   "cell_type": "markdown",
   "metadata": {},
   "source": [
    "We can use the same method as above to construct Custom Feature Maps as well!"
   ]
  },
  {
   "cell_type": "markdown",
   "metadata": {},
   "source": [
    "### 2.3 Classical optimization loop <a id=\"classical-optimization\"></a>\n",
    "\n",
    "**Cost Function:**"
   ]
  },
  {
   "cell_type": "markdown",
   "metadata": {},
   "source": [
    "In the Qiskit VQC implementation they seem to be implementing a cross-entropy loss function such as $H(p, q) = - \\sum_{x}p(x)\\log{q(x)}$ where _p_ and _q_ are two probability distributions. \n",
    "\n",
    "train() -> find_minimum([_cost_function_wrapper()_](https://github.com/Qiskit/qiskit-aqua/blob/b4b3e34372ddbea9bdef6655918e3fcb3017dc59/qiskit/aqua/algorithms/classifiers/vqc.py#L368)) -> [cost_estimate()](https://github.com/Qiskit/qiskit-aqua/blob/b4b3e34372ddbea9bdef6655918e3fcb3017dc59/qiskit/aqua/algorithms/classifiers/vqc.py#L663)\n",
    "\n",
    "\n",
    "Whereas in the paper they used $R_{emp}(\\theta)$ as the cost function \n",
    "\n",
    "![r_emp](./images/r_emp.png)\n",
    "\n",
    "where \n",
    "\n",
    "![pr](./images/pr.png)"
   ]
  },
  {
   "cell_type": "markdown",
   "metadata": {},
   "source": [
    "**Optimization methods in Aqua:**\n",
    "\n",
    "* COBYLA - Good for noiseless situations\n",
    "* SPSA - Good for noisy situations\n",
    "* etc."
   ]
  },
  {
   "cell_type": "markdown",
   "metadata": {},
   "source": [
    "### 2.4 Boolean Map <a id=\"validate\"></a>"
   ]
  },
  {
   "cell_type": "markdown",
   "metadata": {},
   "source": [
    "One detail that has been left out is the fourth step in the process, i.e, After applying the variational circuit in step  post the measurement we are left with an _n_ bit classical string from whchich we must derive out classification result. This is done with the help of a boolean function $f: \\{0, 1\\}^{n} -> \\{0, 1\\}$\n",
    "\n",
    "This function is defined in the VQC Qiskit code base as: \n",
    "\n",
    "![assign_label](./images/assign_label.png)"
   ]
  },
  {
   "cell_type": "markdown",
   "metadata": {},
   "source": [
    "### 2.5 Classifying Digits 0 and 1 <a id=\"full\"></a>"
   ]
  },
  {
   "cell_type": "markdown",
   "metadata": {},
   "source": [
    "Lets apply what we've learnt using the **VQC method in Aqua** to solve our classifcation task of classifying digits `0` and `1`. Using 10,000 points for training using a simulator will take ages, hence we will take a very small subset of **20 training datapoints** and **10 testing datapoints**. We also keep 5 points per label as a validation set to see exactly how our model is classifying the given inputs. "
   ]
  },
  {
   "cell_type": "code",
   "execution_count": 39,
   "metadata": {},
   "outputs": [],
   "source": [
    "train_size = 20\n",
    "test_size = 10\n",
    "dp_size_zero = 5\n",
    "dp_size_one = 5\n",
    "\n",
    "zero_train = zero_datapoints_normalized[:train_size]\n",
    "one_train = one_datapoints_normalized[:train_size]\n",
    "\n",
    "zero_test = zero_datapoints_normalized[train_size + 1:train_size + test_size + 1]\n",
    "one_test = one_datapoints_normalized[train_size + 1:train_size + test_size + 1]\n",
    "\n",
    "training_input = {'A':zero_train, 'B':one_train}\n",
    "test_input = {'A':zero_test, 'B':one_test}\n",
    "\n",
    "datapoints = []\n",
    "dp_zero = zero_datapoints_normalized[train_size + test_size + 2:train_size + test_size + 2 + dp_size_zero]\n",
    "dp_one = one_datapoints_normalized[train_size + test_size + 2:train_size + test_size + 2 + dp_size_one]\n",
    "datapoints.append(np.concatenate((dp_zero, dp_one)))\n",
    "dp_y = np.array([0, 0, 0, 0, 0, 1, 1, 1, 1, 1])\n",
    "datapoints.append(dp_y)\n",
    "# print(datapoints)\n",
    "class_to_label = {'A': 0, 'B': 1}"
   ]
  },
  {
   "cell_type": "markdown",
   "metadata": {},
   "source": [
    "**Instantiate the Feature map to use:**"
   ]
  },
  {
   "cell_type": "code",
   "execution_count": 40,
   "metadata": {},
   "outputs": [
    {
     "data": {
      "text/html": [
       "<pre style=\"word-wrap: normal;white-space: pre;background: #fff0;line-height: 1.1;font-family: &quot;Courier New&quot;,Courier,monospace\">     ┌───┐┌──────────────┐     »\n",
       "q_0: ┤ H ├┤ U1(2.0*x[0]) ├──■──»\n",
       "     ├───┤├──────────────┤┌─┴─┐»\n",
       "q_1: ┤ H ├┤ U1(2.0*x[1]) ├┤ X ├»\n",
       "     └───┘└──────────────┘└───┘»\n",
       "«                                                                         ┌───┐»\n",
       "«q_0: ─────────────────────────────────────────────────────────────────■──┤ H ├»\n",
       "«     ┌─────────────────────────────────────────────────────────────┐┌─┴─┐├───┤»\n",
       "«q_1: ┤ U1(2.0*(3.14159265358979 - x[0])*(3.14159265358979 - x[1])) ├┤ X ├┤ H ├»\n",
       "«     └─────────────────────────────────────────────────────────────┘└───┘└───┘»\n",
       "«     ┌──────────────┐     »\n",
       "«q_0: ┤ U1(2.0*x[0]) ├──■──»\n",
       "«     ├──────────────┤┌─┴─┐»\n",
       "«q_1: ┤ U1(2.0*x[1]) ├┤ X ├»\n",
       "«     └──────────────┘└───┘»\n",
       "«                                                                         \n",
       "«q_0: ─────────────────────────────────────────────────────────────────■──\n",
       "«     ┌─────────────────────────────────────────────────────────────┐┌─┴─┐\n",
       "«q_1: ┤ U1(2.0*(3.14159265358979 - x[0])*(3.14159265358979 - x[1])) ├┤ X ├\n",
       "«     └─────────────────────────────────────────────────────────────┘└───┘</pre>"
      ],
      "text/plain": [
       "     ┌───┐┌──────────────┐     »\n",
       "q_0: ┤ H ├┤ U1(2.0*x[0]) ├──■──»\n",
       "     ├───┤├──────────────┤┌─┴─┐»\n",
       "q_1: ┤ H ├┤ U1(2.0*x[1]) ├┤ X ├»\n",
       "     └───┘└──────────────┘└───┘»\n",
       "«                                                                         ┌───┐»\n",
       "«q_0: ─────────────────────────────────────────────────────────────────■──┤ H ├»\n",
       "«     ┌─────────────────────────────────────────────────────────────┐┌─┴─┐├───┤»\n",
       "«q_1: ┤ U1(2.0*(3.14159265358979 - x[0])*(3.14159265358979 - x[1])) ├┤ X ├┤ H ├»\n",
       "«     └─────────────────────────────────────────────────────────────┘└───┘└───┘»\n",
       "«     ┌──────────────┐     »\n",
       "«q_0: ┤ U1(2.0*x[0]) ├──■──»\n",
       "«     ├──────────────┤┌─┴─┐»\n",
       "«q_1: ┤ U1(2.0*x[1]) ├┤ X ├»\n",
       "«     └──────────────┘└───┘»\n",
       "«                                                                         \n",
       "«q_0: ─────────────────────────────────────────────────────────────────■──\n",
       "«     ┌─────────────────────────────────────────────────────────────┐┌─┴─┐\n",
       "«q_1: ┤ U1(2.0*(3.14159265358979 - x[0])*(3.14159265358979 - x[1])) ├┤ X ├\n",
       "«     └─────────────────────────────────────────────────────────────┘└───┘"
      ]
     },
     "execution_count": 40,
     "metadata": {},
     "output_type": "execute_result"
    }
   ],
   "source": [
    "seed = 10598\n",
    "feature_dim = zero_train.shape[1]\n",
    "\n",
    "feature_map = ZZFeatureMap(feature_dimension=feature_dim, reps=2, entanglement='linear')\n",
    "feature_map.draw()"
   ]
  },
  {
   "cell_type": "markdown",
   "metadata": {},
   "source": [
    "**Instantiate the Classical Optimizer to use:**"
   ]
  },
  {
   "cell_type": "code",
   "execution_count": 41,
   "metadata": {},
   "outputs": [],
   "source": [
    "from qiskit.aqua.components.optimizers import COBYLA\n",
    "\n",
    "cobyla = COBYLA(maxiter=500, tol=0.001)"
   ]
  },
  {
   "cell_type": "markdown",
   "metadata": {},
   "source": [
    "**Instantiate the variational Circuit to use:**"
   ]
  },
  {
   "cell_type": "code",
   "execution_count": 42,
   "metadata": {},
   "outputs": [
    {
     "data": {
      "text/html": [
       "<pre style=\"word-wrap: normal;white-space: pre;background: #fff0;line-height: 1.1;font-family: &quot;Courier New&quot;,Courier,monospace\">     ┌──────────┐┌──────────┐     ┌──────────┐┌──────────┐     ┌──────────┐»\n",
       "q_0: ┤ RY(θ[0]) ├┤ RZ(θ[2]) ├──■──┤ RY(θ[4]) ├┤ RZ(θ[6]) ├──■──┤ RY(θ[8]) ├»\n",
       "     ├──────────┤├──────────┤┌─┴─┐├──────────┤├──────────┤┌─┴─┐├──────────┤»\n",
       "q_1: ┤ RY(θ[1]) ├┤ RZ(θ[3]) ├┤ X ├┤ RY(θ[5]) ├┤ RZ(θ[7]) ├┤ X ├┤ RY(θ[9]) ├»\n",
       "     └──────────┘└──────────┘└───┘└──────────┘└──────────┘└───┘└──────────┘»\n",
       "«     ┌───────────┐\n",
       "«q_0: ┤ RZ(θ[10]) ├\n",
       "«     ├───────────┤\n",
       "«q_1: ┤ RZ(θ[11]) ├\n",
       "«     └───────────┘</pre>"
      ],
      "text/plain": [
       "     ┌──────────┐┌──────────┐     ┌──────────┐┌──────────┐     ┌──────────┐»\n",
       "q_0: ┤ RY(θ[0]) ├┤ RZ(θ[2]) ├──■──┤ RY(θ[4]) ├┤ RZ(θ[6]) ├──■──┤ RY(θ[8]) ├»\n",
       "     ├──────────┤├──────────┤┌─┴─┐├──────────┤├──────────┤┌─┴─┐├──────────┤»\n",
       "q_1: ┤ RY(θ[1]) ├┤ RZ(θ[3]) ├┤ X ├┤ RY(θ[5]) ├┤ RZ(θ[7]) ├┤ X ├┤ RY(θ[9]) ├»\n",
       "     └──────────┘└──────────┘└───┘└──────────┘└──────────┘└───┘└──────────┘»\n",
       "«     ┌───────────┐\n",
       "«q_0: ┤ RZ(θ[10]) ├\n",
       "«     ├───────────┤\n",
       "«q_1: ┤ RZ(θ[11]) ├\n",
       "«     └───────────┘"
      ]
     },
     "execution_count": 42,
     "metadata": {},
     "output_type": "execute_result"
    }
   ],
   "source": [
    "from qiskit.circuit.library import EfficientSU2, RealAmplitudes\n",
    "\n",
    "var = EfficientSU2(feature_dim, reps=2)\n",
    "var.draw()"
   ]
  },
  {
   "cell_type": "markdown",
   "metadata": {},
   "source": [
    "Constructing a callback function to get the parameter values after each iteration"
   ]
  },
  {
   "cell_type": "code",
   "execution_count": 43,
   "metadata": {},
   "outputs": [],
   "source": [
    "def call_back_vqc(eval_count, var_params, eval_val, index):\n",
    "    print(\"eval_count: {}\".format(eval_count))\n",
    "    print(\"var_params: {}\".format(var_params))\n",
    "    print(\"eval_val: {}\".format(eval_val))\n",
    "    print(\"index: {}\".format(index))"
   ]
  },
  {
   "cell_type": "markdown",
   "metadata": {},
   "source": [
    "**Bringing everything together**"
   ]
  },
  {
   "cell_type": "code",
   "execution_count": 44,
   "metadata": {},
   "outputs": [],
   "source": [
    "backend = BasicAer.get_backend('qasm_simulator')\n",
    "backend_options = {\"method\": \"statevector_gpu\"}\n",
    "# backend = BasicAer.get_backend('statevector_simulator')\n",
    "quantum_instance = QuantumInstance(backend, shots=1024, seed_simulator=seed, seed_transpiler=seed, backend_options=backend_options)\n",
    "\n",
    "vqc = VQC(optimizer=cobyla, feature_map=feature_map, var_form=var, callback=call_back_vqc, training_dataset=training_input, \n",
    "         test_dataset=test_input, datapoints=datapoints[0])"
   ]
  },
  {
   "cell_type": "code",
   "execution_count": 45,
   "metadata": {},
   "outputs": [
    {
     "name": "stdout",
     "output_type": "stream",
     "text": [
      "eval_count: 0\n",
      "var_params: [ 3.30045889e-01 -4.79979434e-04  8.18115898e-01  4.28213708e-01\n",
      " -2.50394732e+00  1.20481133e-01  8.07892857e-01  6.02120978e-01\n",
      " -8.65190000e-01 -1.53320351e-01 -2.40490559e-01 -6.07633463e-02]\n",
      "eval_val: 0.37760959185853665\n",
      "index: 0\n",
      "eval_count: 1\n",
      "var_params: [ 1.33004589e+00 -4.79979434e-04  8.18115898e-01  4.28213708e-01\n",
      " -2.50394732e+00  1.20481133e-01  8.07892857e-01  6.02120978e-01\n",
      " -8.65190000e-01 -1.53320351e-01 -2.40490559e-01 -6.07633463e-02]\n",
      "eval_val: 0.506613301727822\n",
      "index: 1\n",
      "eval_count: 2\n",
      "var_params: [ 0.33004589  0.99952002  0.8181159   0.42821371 -2.50394732  0.12048113\n",
      "  0.80789286  0.60212098 -0.86519    -0.15332035 -0.24049056 -0.06076335]\n",
      "eval_val: 0.37760959185853665\n",
      "index: 2\n",
      "eval_count: 3\n",
      "var_params: [ 3.30045889e-01 -4.79979434e-04  1.81811590e+00  4.28213708e-01\n",
      " -2.50394732e+00  1.20481133e-01  8.07892857e-01  6.02120978e-01\n",
      " -8.65190000e-01 -1.53320351e-01 -2.40490559e-01 -6.07633463e-02]\n",
      "eval_val: 0.37760959185853665\n",
      "index: 3\n",
      "eval_count: 4\n",
      "var_params: [ 3.30045889e-01 -4.79979434e-04  8.18115898e-01  1.42821371e+00\n",
      " -2.50394732e+00  1.20481133e-01  8.07892857e-01  6.02120978e-01\n",
      " -8.65190000e-01 -1.53320351e-01 -2.40490559e-01 -6.07633463e-02]\n",
      "eval_val: 0.6030156292585\n",
      "index: 4\n",
      "eval_count: 5\n",
      "var_params: [ 3.30045889e-01 -4.79979434e-04  8.18115898e-01  4.28213708e-01\n",
      " -1.50394732e+00  1.20481133e-01  8.07892857e-01  6.02120978e-01\n",
      " -8.65190000e-01 -1.53320351e-01 -2.40490559e-01 -6.07633463e-02]\n",
      "eval_val: 0.37162830425679977\n",
      "index: 5\n",
      "eval_count: 6\n",
      "var_params: [ 3.30045889e-01 -4.79979434e-04  8.18115898e-01  4.28213708e-01\n",
      " -1.50394732e+00  1.12048113e+00  8.07892857e-01  6.02120978e-01\n",
      " -8.65190000e-01 -1.53320351e-01 -2.40490559e-01 -6.07633463e-02]\n",
      "eval_val: 0.46247405130987307\n",
      "index: 6\n",
      "eval_count: 7\n",
      "var_params: [ 3.30045889e-01 -4.79979434e-04  8.18115898e-01  4.28213708e-01\n",
      " -1.50394732e+00  1.20481133e-01  1.80789286e+00  6.02120978e-01\n",
      " -8.65190000e-01 -1.53320351e-01 -2.40490559e-01 -6.07633463e-02]\n",
      "eval_val: 0.33273392949567154\n",
      "index: 7\n",
      "eval_count: 8\n",
      "var_params: [ 3.30045889e-01 -4.79979434e-04  8.18115898e-01  4.28213708e-01\n",
      " -1.50394732e+00  1.20481133e-01  1.80789286e+00  1.60212098e+00\n",
      " -8.65190000e-01 -1.53320351e-01 -2.40490559e-01 -6.07633463e-02]\n",
      "eval_val: 0.32088153344009496\n",
      "index: 8\n",
      "eval_count: 9\n",
      "var_params: [ 3.30045889e-01 -4.79979434e-04  8.18115898e-01  4.28213708e-01\n",
      " -1.50394732e+00  1.20481133e-01  1.80789286e+00  1.60212098e+00\n",
      "  1.34810000e-01 -1.53320351e-01 -2.40490559e-01 -6.07633463e-02]\n",
      "eval_val: 0.3688136433322134\n",
      "index: 9\n",
      "eval_count: 10\n",
      "var_params: [ 3.30045889e-01 -4.79979434e-04  8.18115898e-01  4.28213708e-01\n",
      " -1.50394732e+00  1.20481133e-01  1.80789286e+00  1.60212098e+00\n",
      " -8.65190000e-01  8.46679649e-01 -2.40490559e-01 -6.07633463e-02]\n",
      "eval_val: 0.3491696411711439\n",
      "index: 10\n",
      "eval_count: 11\n",
      "var_params: [ 3.30045889e-01 -4.79979434e-04  8.18115898e-01  4.28213708e-01\n",
      " -1.50394732e+00  1.20481133e-01  1.80789286e+00  1.60212098e+00\n",
      " -8.65190000e-01 -1.53320351e-01  7.59509441e-01 -6.07633463e-02]\n",
      "eval_val: 0.46636192363766027\n",
      "index: 11\n",
      "eval_count: 12\n",
      "var_params: [ 3.30045889e-01 -4.79979434e-04  8.18115898e-01  4.28213708e-01\n",
      " -1.50394732e+00  1.20481133e-01  1.80789286e+00  1.60212098e+00\n",
      " -8.65190000e-01 -1.53320351e-01 -2.40490559e-01  9.39236654e-01]\n",
      "eval_val: 0.8043806223800537\n",
      "index: 12\n",
      "eval_count: 13\n",
      "var_params: [ 1.07302817e-01 -4.79979434e-04  8.18115898e-01  3.90184416e-02\n",
      " -1.49361979e+00 -3.63768431e-02  1.87504947e+00  1.62258581e+00\n",
      " -9.47951538e-01 -2.02163752e-01 -4.91682940e-01 -8.95592612e-01]\n",
      "eval_val: 0.3623901230757663\n",
      "index: 13\n",
      "eval_count: 14\n",
      "var_params: [ 2.86155002e-01 -4.79979434e-04  8.18115898e-01  8.94103983e-01\n",
      " -1.50191231e+00  8.95727153e-02  1.82112588e+00  1.60615351e+00\n",
      " -8.81497925e-01 -1.62944804e-01 -2.89987302e-01 -2.25264075e-01]\n",
      "eval_val: 0.2604022635642679\n",
      "index: 14\n",
      "eval_count: 15\n",
      "var_params: [ 0.286155    0.24952002  0.8181159   0.89410398 -1.50191231  0.08957272\n",
      "  1.82112588  1.60615351 -0.88149793 -0.1629448  -0.2899873  -0.22526407]\n",
      "eval_val: 0.2604022635642679\n",
      "index: 15\n",
      "eval_count: 16\n",
      "var_params: [ 7.69959353e-01 -4.79979434e-04  8.18115898e-01  9.24077203e-01\n",
      " -1.50049554e+00  6.80544108e-02  1.83033865e+00  1.60896095e+00\n",
      " -8.92851432e-01 -1.69645306e-01 -3.24446718e-01 -3.39788761e-01]\n",
      "eval_val: 0.24538433595760395\n",
      "index: 16\n",
      "eval_count: 17\n",
      "var_params: [ 7.69959353e-01 -4.79979434e-04  1.06811590e+00  9.24077203e-01\n",
      " -1.50049554e+00  6.80544108e-02  1.83033865e+00  1.60896095e+00\n",
      " -8.92851432e-01 -1.69645306e-01 -3.24446718e-01 -3.39788761e-01]\n",
      "eval_val: 0.24538433595760395\n",
      "index: 17\n",
      "eval_count: 18\n",
      "var_params: [ 7.73449429e-01 -4.79979434e-04  8.18115898e-01  9.46428385e-01\n",
      " -1.49943905e+00  5.59364037e-01  1.83720866e+00  1.61105447e+00\n",
      " -9.01317799e-01 -1.74641905e-01 -3.50143280e-01 -4.25190404e-01]\n",
      "eval_val: 0.2491600188360204\n",
      "index: 18\n",
      "eval_count: 19\n",
      "var_params: [ 7.69959353e-01 -4.79979434e-04  8.18115898e-01  9.24077203e-01\n",
      " -1.25340027e+00  6.80544108e-02  1.79233963e+00  1.60896095e+00\n",
      " -8.92851432e-01 -1.69645306e-01 -3.24446718e-01 -3.39788761e-01]\n",
      "eval_val: 0.23595335162049896\n",
      "index: 19\n",
      "eval_count: 20\n",
      "var_params: [ 7.71493552e-01 -4.79979434e-04  8.18115898e-01  9.33902536e-01\n",
      " -1.32624967e+00  6.68430939e-02  1.29935270e+00  1.60988124e+00\n",
      " -8.96573153e-01 -1.71841756e-01 -3.35742643e-01 -3.77330382e-01]\n",
      "eval_val: 0.25785880780278275\n",
      "index: 20\n",
      "eval_count: 21\n",
      "var_params: [ 7.69959353e-01 -4.79979434e-04  8.18115898e-01  9.24077203e-01\n",
      " -1.25340027e+00  6.80544108e-02  1.79233963e+00  1.60896095e+00\n",
      " -8.92851432e-01 -1.69645306e-01 -5.63844520e-01 -2.67756183e-01]\n",
      "eval_val: 0.2405339868852166\n",
      "index: 21\n",
      "eval_count: 22\n",
      "var_params: [ 8.33881700e-01 -4.79979434e-04  8.18115898e-01  1.33344950e+00\n",
      " -1.10949055e+00  1.75849246e-02  1.92521618e+00  1.64730471e+00\n",
      " -1.04791688e+00 -2.61160331e-01 -2.68632023e-01 -3.60014680e-01]\n",
      "eval_val: 0.3064375302318457\n",
      "index: 22\n",
      "eval_count: 23\n",
      "var_params: [ 8.09776390e-01 -4.79979434e-04  8.18115898e-01  9.93648849e-01\n",
      " -1.25524640e+00  9.60939799e-02  1.78033487e+00  1.60896095e+00\n",
      " -7.17197868e-01 -1.69645306e-01 -2.79544148e-01 -1.90556611e-01]\n",
      "eval_val: 0.2541586527627427\n",
      "index: 23\n",
      "eval_count: 24\n",
      "var_params: [ 7.05252167e-01 -4.79979434e-04  8.18115898e-01  8.77402277e-01\n",
      " -1.21764543e+00  1.19272590e-03  1.84577991e+00  1.61751210e+00\n",
      " -5.86905745e-01 -1.90054329e-01 -4.19889845e-01 -7.02869841e-01]\n",
      "eval_val: 0.25838809600969037\n",
      "index: 24\n",
      "eval_count: 25\n",
      "var_params: [ 7.69959353e-01 -4.79979434e-04  8.18115898e-01  9.24077203e-01\n",
      " -1.25340027e+00  6.80544108e-02  1.79233963e+00  1.83953965e+00\n",
      " -8.92851432e-01 -7.30354491e-02 -3.24446718e-01 -3.39788761e-01]\n",
      "eval_val: 0.25674787302955543\n",
      "index: 25\n",
      "eval_count: 26\n",
      "var_params: [ 7.76479418e-01 -4.79979434e-04  8.18115898e-01  9.65926450e-01\n",
      " -1.23867544e+00  6.28765861e-02  1.80594073e+00  1.39209262e+00\n",
      " -9.16313195e-01  2.76710176e-01 -3.27403271e-01 -3.70663105e-01]\n",
      "eval_val: 0.26579548955442445\n",
      "index: 26\n",
      "eval_count: 27\n",
      "var_params: [ 8.66867165e-01 -4.79979434e-04  8.18115898e-01  4.94670497e-01\n",
      " -1.17681039e+00  8.35848138e-02  1.84711755e+00  1.50479386e+00\n",
      " -9.96510834e-01 -3.05446777e-01 -2.70788694e-01 -2.75030310e-01]\n",
      "eval_val: 0.23832794833484156\n",
      "index: 27\n",
      "eval_count: 28\n",
      "var_params: [ 8.18413259e-01 -4.79979434e-04  8.18115898e-01  7.09373850e-01\n",
      " -1.21510533e+00  7.58196123e-02  1.81972859e+00  1.55687741e+00\n",
      " -9.44681133e-01 -2.37546041e-01 -2.97617706e-01 -3.07409535e-01]\n",
      "eval_val: 0.23016200119857846\n",
      "index: 28\n",
      "eval_count: 29\n",
      "var_params: [ 0.81841326  0.12452002  0.8181159   0.70937385 -1.21510533  0.07581961\n",
      "  1.81972859  1.55687741 -0.94468113 -0.23754604 -0.29761771 -0.30740954]\n",
      "eval_val: 0.23016200119857846\n",
      "index: 29\n",
      "eval_count: 30\n",
      "var_params: [ 8.42182934e-01 -4.79979434e-04  8.18115898e-01  7.88887349e-01\n",
      " -1.15380065e+00  5.19870583e-02  1.87721042e+00  1.49344319e+00\n",
      " -1.09216021e+00 -3.82019877e-01 -2.81129261e-01 -3.40023248e-01]\n",
      "eval_val: 0.22635096685666029\n",
      "index: 30\n",
      "eval_count: 31\n",
      "var_params: [ 7.31358118e-01 -4.79979434e-04  8.18115898e-01  7.76959094e-01\n",
      " -1.15417666e+00  5.76980530e-02  1.87476534e+00  1.51251155e+00\n",
      " -1.08685074e+00 -4.27530325e-01 -2.73512326e-01 -3.14708623e-01]\n",
      "eval_val: 0.2243602453765746\n",
      "index: 31\n"
     ]
    },
    {
     "name": "stdout",
     "output_type": "stream",
     "text": [
      "eval_count: 32\n",
      "var_params: [ 6.31327761e-01 -4.79979434e-04  8.18115898e-01  7.57379235e-01\n",
      " -1.10853771e+00  5.35194344e-02  1.91245798e+00  1.36199226e+00\n",
      " -1.17227680e+00 -2.92974667e-01 -2.51498802e-01 -3.07929446e-01]\n",
      "eval_val: 0.22449751797948653\n",
      "index: 32\n",
      "eval_count: 33\n",
      "var_params: [ 7.28664027e-01 -4.79979434e-04  8.18115898e-01  7.70400560e-01\n",
      " -1.15429735e+00 -6.59150934e-02  1.87398053e+00  1.51227310e+00\n",
      " -1.07360761e+00 -4.26961221e-01 -2.70380760e-01 -3.04300973e-01]\n",
      "eval_val: 0.24020713150066636\n",
      "index: 33\n",
      "eval_count: 34\n",
      "var_params: [ 6.96226993e-01 -4.79979434e-04  8.18115898e-01  7.41586303e-01\n",
      " -1.11435564e+00  1.62932563e-01  1.91999724e+00  1.45653221e+00\n",
      " -1.00667730e+00 -4.79264950e-01 -3.10604200e-01 -4.92739187e-01]\n",
      "eval_val: 0.20913945758013774\n",
      "index: 34\n",
      "eval_count: 35\n",
      "var_params: [ 6.85393797e-01 -4.79979434e-04  8.18115898e-01  7.24580149e-01\n",
      " -1.11649911e+00  2.55064645e-01  1.71214046e+00  1.40294486e+00\n",
      " -1.06004092e+00 -5.19543291e-01 -3.12275981e-01 -5.47980983e-01]\n",
      "eval_val: 0.2022167120014843\n",
      "index: 35\n",
      "eval_count: 36\n",
      "var_params: [ 6.70414714e-01 -4.79979434e-04  8.18115898e-01  6.98407447e-01\n",
      " -1.11580460e+00  2.44516220e-01  1.71665662e+00  1.47888728e+00\n",
      " -1.12612141e+00 -4.87724281e-01 -3.29168230e-01 -6.04121793e-01]\n",
      "eval_val: 0.20557286495954621\n",
      "index: 36\n",
      "eval_count: 37\n",
      "var_params: [ 6.87090438e-01 -4.79979434e-04  8.18115898e-01  7.24343463e-01\n",
      " -1.04292819e+00  4.82462545e-01  1.75553241e+00  1.39851487e+00\n",
      " -1.05402548e+00 -5.58672498e-01 -2.73007616e-01 -5.28933445e-01]\n",
      "eval_val: 0.20953102945907248\n",
      "index: 37\n",
      "eval_count: 38\n",
      "var_params: [ 6.85393797e-01 -4.79979434e-04  9.43115898e-01  7.24580149e-01\n",
      " -1.11649911e+00  2.55064645e-01  1.71214046e+00  1.40294486e+00\n",
      " -1.06004092e+00 -5.19543291e-01 -3.12275981e-01 -5.47980983e-01]\n",
      "eval_val: 0.2022167120014843\n",
      "index: 38\n",
      "eval_count: 39\n",
      "var_params: [ 6.47570960e-01 -4.79979434e-04  8.18115898e-01  6.73387602e-01\n",
      " -1.04330935e+00  1.62202344e-01  1.65558526e+00  1.30611494e+00\n",
      " -9.65975175e-01 -6.12537297e-01 -3.07297682e-01 -6.67868642e-01]\n",
      "eval_val: 0.20725514418903743\n",
      "index: 39\n",
      "eval_count: 40\n",
      "var_params: [ 6.85393797e-01 -4.79979434e-04  8.18115898e-01  7.24580149e-01\n",
      " -1.17047633e+00  2.55064645e-01  1.72044123e+00  1.40294486e+00\n",
      " -1.06004092e+00 -5.19543291e-01 -2.04605266e-01 -5.80378102e-01]\n",
      "eval_val: 0.2003359649108397\n",
      "index: 40\n",
      "eval_count: 41\n",
      "var_params: [ 6.68952663e-01 -4.79979434e-04  8.18115898e-01  6.97719531e-01\n",
      " -1.36604989e+00  2.91349882e-01  1.75984024e+00  1.31799843e+00\n",
      " -1.08540169e+00 -5.74566077e-01 -2.98564125e-01 -6.06367333e-01]\n",
      "eval_val: 0.1998906859689597\n",
      "index: 41\n",
      "eval_count: 42\n",
      "var_params: [ 0.66895266  0.12452002  0.8181159   0.69771953 -1.36604989  0.29134988\n",
      "  1.75984024  1.31799843 -1.08540169 -0.57456608 -0.29856412 -0.60636733]\n",
      "eval_val: 0.1998906859689597\n",
      "index: 42\n",
      "eval_count: 43\n",
      "var_params: [ 6.05753197e-01 -4.79979434e-04  8.18115898e-01  9.16708275e-01\n",
      " -1.39316322e+00  3.05052084e-01  1.73322688e+00  1.32309905e+00\n",
      " -1.04409550e+00 -5.33798878e-01 -3.22162328e-01 -6.76848155e-01]\n",
      "eval_val: 0.21715245992729768\n",
      "index: 43\n",
      "eval_count: 44\n",
      "var_params: [ 7.09933817e-01 -4.79979434e-04  8.18115898e-01  7.02474587e-01\n",
      " -1.39186929e+00  2.95039081e-01  1.73801800e+00  1.39707977e+00\n",
      " -1.03506096e+00 -6.36628142e-01 -3.09821296e-01 -6.06353422e-01]\n",
      "eval_val: 0.19799647446584318\n",
      "index: 44\n",
      "eval_count: 45\n",
      "var_params: [ 6.71667831e-01 -4.79979434e-04  8.18115898e-01  5.98014506e-01\n",
      " -1.44446798e+00  3.34986957e-01  1.68136563e+00  1.41895902e+00\n",
      " -8.92559513e-01 -4.90283051e-01 -3.21639708e-01 -5.91864303e-01]\n",
      "eval_val: 0.2084110532627604\n",
      "index: 45\n",
      "eval_count: 46\n",
      "var_params: [ 8.14114618e-01 -4.79979434e-04  8.18115898e-01  7.09635590e-01\n",
      " -1.38639282e+00  3.02936333e-01  1.74621766e+00  1.37119897e+00\n",
      " -1.02998443e+00 -5.98631440e-01 -3.22048948e-01 -6.54015101e-01]\n",
      "eval_val: 0.2047810215730263\n",
      "index: 46\n",
      "eval_count: 47\n",
      "var_params: [ 7.32001252e-01 -4.79979434e-04  8.18115898e-01  6.55346685e-01\n",
      " -1.43067904e+00  2.29051306e-01  1.65602158e+00  1.39260754e+00\n",
      " -1.13044025e+00 -7.32141676e-01 -2.45341203e-01 -4.48840673e-01]\n",
      "eval_val: 0.20176137394574387\n",
      "index: 47\n",
      "eval_count: 48\n",
      "var_params: [ 7.20019473e-01 -4.79979434e-04  7.62261270e-01  7.17710329e-01\n",
      " -1.35906890e+00  3.74487013e-01  1.73051080e+00  1.37146970e+00\n",
      " -1.02271035e+00 -6.51818516e-01 -3.42180625e-01 -5.54963472e-01]\n",
      "eval_val: 0.20171835670285213\n",
      "index: 48\n",
      "eval_count: 49\n",
      "var_params: [ 6.56484134e-01 -4.79979434e-04  8.96752422e-01  6.19266602e-01\n",
      " -1.36552053e+00  3.96928937e-01  1.83352919e+00  1.43926859e+00\n",
      " -1.06248699e+00 -7.37830520e-01 -2.11660426e-01 -6.69028071e-01]\n",
      "eval_val: 0.19475726139261873\n",
      "index: 49\n",
      "eval_count: 50\n",
      "var_params: [ 6.54966009e-01 -4.79979434e-04  8.82364375e-01  6.18148752e-01\n",
      " -1.36406926e+00  3.49012176e-01  1.93392491e+00  1.45010976e+00\n",
      " -1.03026513e+00 -7.46073207e-01 -2.17305669e-01 -6.26821245e-01]\n",
      "eval_val: 0.19846932617752922\n",
      "index: 50\n",
      "eval_count: 51\n",
      "var_params: [ 6.53341119e-01 -4.79979434e-04  9.01282445e-01  6.16532079e-01\n",
      " -1.35410711e+00  3.82456019e-01  1.82219750e+00  1.40178163e+00\n",
      " -1.02805210e+00 -7.63241441e-01 -2.02485512e-01 -6.77933492e-01]\n",
      "eval_val: 0.19648978488939745\n",
      "index: 51\n",
      "eval_count: 52\n",
      "var_params: [ 6.25274366e-01 -4.79979434e-04  8.47659705e-01  5.71145683e-01\n",
      " -1.33643683e+00  3.65525417e-01  1.81917135e+00  1.46949762e+00\n",
      " -1.09808307e+00 -7.65053765e-01 -2.60925986e-01 -7.19406314e-01]\n",
      "eval_val: 0.20241504276498007\n",
      "index: 52\n",
      "eval_count: 53\n",
      "var_params: [ 6.58719516e-01 -4.79979434e-04  9.40321323e-01  6.10756928e-01\n",
      " -1.34746577e+00  3.96742486e-01  1.83199943e+00  1.43830193e+00\n",
      " -1.06427706e+00 -7.39870569e-01 -2.49154855e-01 -6.55312844e-01]\n",
      "eval_val: 0.19468646553710148\n",
      "index: 53\n",
      "eval_count: 54\n",
      "var_params: [ 6.13452277e-01 -4.79979434e-04  9.88833848e-01  7.05572065e-01\n",
      " -1.37340058e+00  4.12151567e-01  1.82212235e+00  1.46569346e+00\n",
      " -1.07483453e+00 -7.47098402e-01 -2.32341907e-01 -6.60624937e-01]\n",
      "eval_val: 0.1930291870748932\n",
      "index: 54\n",
      "eval_count: 55\n",
      "var_params: [ 6.08922918e-01 -4.79979434e-04  9.88833848e-01  6.97754285e-01\n",
      " -1.42279159e+00  4.21635684e-01  1.83137108e+00  1.44467613e+00\n",
      " -1.07967940e+00 -7.59262468e-01 -2.55928595e-01 -6.66962167e-01]\n",
      "eval_val: 0.19388643427001023\n",
      "index: 55\n",
      "eval_count: 56\n",
      "var_params: [ 5.76632148e-01 -4.79979434e-04  1.01865814e+00  6.63888064e-01\n",
      " -1.40507305e+00  4.38640688e-01  1.79207247e+00  1.50078413e+00\n",
      " -1.02272722e+00 -6.86122712e-01 -2.03815062e-01 -6.37043638e-01]\n",
      "eval_val: 0.19592905702384292\n",
      "index: 56\n",
      "eval_count: 57\n",
      "var_params: [ 6.02449483e-01 -4.79979434e-04  9.88833848e-01  6.94116085e-01\n",
      " -1.38141786e+00  3.96531867e-01  1.80413734e+00  1.46456326e+00\n",
      " -1.09862236e+00 -7.70178383e-01 -2.16125345e-01 -6.19888763e-01]\n",
      "eval_val: 0.1928308968132219\n",
      "index: 57\n",
      "eval_count: 58\n",
      "var_params: [ 6.96821251e-01 -4.79979434e-04  1.03475362e+00  7.12554628e-01\n",
      " -1.39523118e+00  4.05779141e-01  1.80081310e+00  1.46824532e+00\n",
      " -1.14103246e+00 -7.65747272e-01 -1.70115604e-01 -6.25744323e-01]\n",
      "eval_val: 0.19225763289963727\n",
      "index: 58\n",
      "eval_count: 59\n",
      "var_params: [ 0.69682125  0.06202002  1.03475362  0.71255463 -1.39523118  0.40577914\n",
      "  1.8008131   1.46824532 -1.14103246 -0.76574727 -0.1701156  -0.62574432]\n",
      "eval_val: 0.19225763289963727\n",
      "index: 59\n",
      "eval_count: 60\n",
      "var_params: [ 7.13300515e-01 -4.79979434e-04  1.00379845e+00  7.44196944e-01\n",
      " -1.36642593e+00  5.02797534e-01  1.79845568e+00  1.45913891e+00\n",
      " -1.14075764e+00 -7.85380668e-01 -1.80046676e-01 -5.74960389e-01]\n",
      "eval_val: 0.19311698202242528\n",
      "index: 60\n",
      "eval_count: 61\n",
      "var_params: [ 6.72505871e-01 -4.79979434e-04  1.05023229e+00  6.94575554e-01\n",
      " -1.38135380e+00  4.24593142e-01  1.82695880e+00  1.44993053e+00\n",
      " -1.16337588e+00 -7.64777371e-01 -1.47004591e-01 -6.38085762e-01]\n",
      "eval_val: 0.19209272118134077\n",
      "index: 61\n",
      "eval_count: 62\n",
      "var_params: [ 6.65493145e-01 -4.79979434e-04  1.03829170e+00  7.33980018e-01\n",
      " -1.37322362e+00  3.99289751e-01  1.81231230e+00  1.38491942e+00\n",
      " -1.20075001e+00 -6.83350796e-01 -1.58658307e-01 -6.14205148e-01]\n",
      "eval_val: 0.19500757292054485\n",
      "index: 62\n",
      "eval_count: 63\n",
      "var_params: [ 6.66696895e-01 -4.79979434e-04  1.04669774e+00  6.85162549e-01\n",
      " -1.37564065e+00  4.38622958e-01  1.77968821e+00  1.44994810e+00\n",
      " -1.18344082e+00 -7.67661424e-01 -1.54226509e-01 -6.67143418e-01]\n",
      "eval_val: 0.19177641706402607\n",
      "index: 63\n"
     ]
    },
    {
     "name": "stdout",
     "output_type": "stream",
     "text": [
      "eval_count: 64\n",
      "var_params: [ 6.60633003e-01 -4.79979434e-04  1.04213060e+00  7.01363146e-01\n",
      " -1.34987454e+00  4.20138353e-01  1.80732867e+00  1.53549513e+00\n",
      " -1.24254781e+00 -8.10203353e-01 -1.63879797e-01 -6.95786234e-01]\n",
      "eval_val: 0.19534468719093012\n",
      "index: 64\n",
      "eval_count: 65\n",
      "var_params: [ 6.68045555e-01 -4.79979434e-04  1.06216010e+00  6.96257710e-01\n",
      " -1.36197909e+00  4.28951838e-01  1.76617560e+00  1.42283681e+00\n",
      " -1.15638175e+00 -8.01239550e-01 -1.35769633e-01 -6.79148505e-01]\n",
      "eval_val: 0.19319420644372245\n",
      "index: 65\n",
      "eval_count: 66\n",
      "var_params: [ 6.67531490e-01 -4.79979434e-04  1.06865429e+00  6.80240826e-01\n",
      " -1.36695982e+00  4.38782274e-01  1.77864756e+00  1.44973614e+00\n",
      " -1.18377366e+00 -7.68044896e-01 -1.72729906e-01 -6.60043519e-01]\n",
      "eval_val: 0.19145594705237143\n",
      "index: 66\n",
      "eval_count: 67\n",
      "var_params: [ 6.57941427e-01 -4.79979434e-04  1.09105912e+00  6.59781494e-01\n",
      " -1.38143142e+00  4.56842775e-01  1.76281609e+00  1.47506023e+00\n",
      " -1.16400645e+00 -7.43206281e-01 -1.54026353e-01 -6.49620270e-01]\n",
      "eval_val: 0.19282305112154582\n",
      "index: 67\n",
      "eval_count: 68\n",
      "var_params: [ 6.77242271e-01 -4.79979434e-04  1.05993414e+00  6.65914461e-01\n",
      " -1.34513446e+00  4.32716715e-01  1.77720900e+00  1.45211611e+00\n",
      " -1.18019234e+00 -7.62518629e-01 -1.67555577e-01 -6.56886455e-01]\n",
      "eval_val: 0.19164012212400144\n",
      "index: 68\n",
      "eval_count: 69\n",
      "var_params: [ 6.87384367e-01 -4.79979434e-04  1.05957860e+00  6.41966926e-01\n",
      " -1.39421049e+00  4.44550330e-01  1.78881841e+00  1.43002910e+00\n",
      " -1.18974033e+00 -7.80416829e-01 -1.94933783e-01 -6.63979564e-01]\n",
      "eval_val: 0.1923555591587707\n",
      "index: 69\n",
      "eval_count: 70\n",
      "var_params: [ 6.63451048e-01 -4.79979434e-04  1.06520875e+00  6.78047840e-01\n",
      " -1.36762519e+00  4.41302407e-01  1.77024487e+00  1.44828241e+00\n",
      " -1.19425917e+00 -7.80555454e-01 -1.66686401e-01 -6.36363669e-01]\n",
      "eval_val: 0.19072940813387332\n",
      "index: 70\n",
      "eval_count: 71\n",
      "var_params: [ 6.74716497e-01 -4.79979434e-04  1.05239906e+00  6.96159862e-01\n",
      " -1.35131109e+00  4.93275622e-01  1.77566611e+00  1.44630317e+00\n",
      " -1.18678551e+00 -7.84227286e-01 -1.78434373e-01 -6.27465301e-01]\n",
      "eval_val: 0.19139295273478216\n",
      "index: 71\n",
      "eval_count: 72\n",
      "var_params: [ 6.40685700e-01 -4.79979434e-04  1.05456538e+00  6.71628993e-01\n",
      " -1.36462524e+00  4.40273202e-01  1.77178473e+00  1.45048953e+00\n",
      " -1.18211064e+00 -7.85550913e-01 -1.77358824e-01 -6.36089913e-01]\n",
      "eval_val: 0.19172808650302567\n",
      "index: 72\n",
      "eval_count: 73\n",
      "var_params: [ 6.62082479e-01 -4.79979434e-04  1.06631657e+00  6.96366053e-01\n",
      " -1.36553496e+00  4.28820499e-01  1.75843728e+00  1.41880997e+00\n",
      " -1.22552862e+00 -7.49350755e-01 -1.71706644e-01 -6.15804799e-01]\n",
      "eval_val: 0.19071906338794303\n",
      "index: 73\n",
      "eval_count: 74\n",
      "var_params: [ 0.66208248  0.03077002  1.06631657  0.69636605 -1.36553496  0.4288205\n",
      "  1.75843728  1.41880997 -1.22552862 -0.74935076 -0.17170664 -0.6158048 ]\n",
      "eval_val: 0.19071906338794303\n",
      "index: 74\n",
      "eval_count: 75\n",
      "var_params: [ 6.72181913e-01 -4.79979434e-04  1.07594435e+00  7.07511285e-01\n",
      " -1.35896727e+00  4.18988685e-01  1.76561312e+00  1.45221583e+00\n",
      " -1.26856855e+00 -7.69933945e-01 -1.71065607e-01 -6.13911797e-01]\n",
      "eval_val: 0.1900486060705438\n",
      "index: 75\n",
      "eval_count: 76\n",
      "var_params: [ 6.85439215e-01 -4.79979434e-04  1.10179870e+00  7.22706657e-01\n",
      " -1.34882673e+00  4.07387878e-01  1.74940268e+00  1.42903527e+00\n",
      " -1.26573372e+00 -8.06331318e-01 -1.49604696e-01 -6.13416697e-01]\n",
      "eval_val: 0.19113159659048679\n",
      "index: 76\n",
      "eval_count: 77\n",
      "var_params: [ 6.59598327e-01 -4.79979434e-04  1.08465611e+00  6.97522560e-01\n",
      " -1.35301968e+00  4.29294033e-01  1.77780625e+00  1.44457852e+00\n",
      " -1.27846214e+00 -7.68034826e-01 -1.58338682e-01 -6.19435125e-01]\n",
      "eval_val: 0.18985490102480213\n",
      "index: 77\n",
      "eval_count: 78\n",
      "var_params: [ 6.62499010e-01 -4.79979434e-04  1.10867158e+00  6.83625981e-01\n",
      " -1.37258230e+00  4.43582159e-01  1.76016807e+00  1.47407069e+00\n",
      " -1.28161249e+00 -7.45705544e-01 -1.37807950e-01 -5.98693720e-01]\n",
      "eval_val: 0.1907927744725428\n",
      "index: 78\n",
      "eval_count: 79\n",
      "var_params: [ 6.60036343e-01 -4.79979434e-04  1.08094767e+00  6.87130719e-01\n",
      " -1.35443289e+00  4.36687798e-01  1.75715714e+00  1.44159348e+00\n",
      " -1.28875345e+00 -7.71207609e-01 -1.64630263e-01 -6.33826273e-01]\n",
      "eval_val: 0.19022798624566062\n",
      "index: 79\n",
      "eval_count: 80\n",
      "var_params: [ 6.85750402e-01 -4.79979434e-04  1.07928949e+00  6.70234116e-01\n",
      " -1.37884888e+00  4.27114452e-01  1.80681852e+00  1.42823900e+00\n",
      " -1.29244435e+00 -7.79166672e-01 -1.71150686e-01 -6.05844619e-01]\n",
      "eval_val: 0.1901373112454665\n",
      "index: 80\n",
      "eval_count: 81\n",
      "var_params: [ 6.69563307e-01 -4.79979434e-04  1.07981842e+00  7.06293225e-01\n",
      " -1.34604627e+00  4.55092626e-01  1.77940674e+00  1.44437711e+00\n",
      " -1.27755840e+00 -7.71873385e-01 -1.60013159e-01 -6.12971326e-01]\n",
      "eval_val: 0.18987165887425766\n",
      "index: 81\n",
      "eval_count: 82\n",
      "var_params: [ 6.43183358e-01 -4.79979434e-04  1.08530425e+00  7.23064567e-01\n",
      " -1.33584366e+00  4.23449655e-01  1.80664072e+00  1.44563669e+00\n",
      " -1.30046287e+00 -7.44574933e-01 -1.85942708e-01 -6.24522841e-01]\n",
      "eval_val: 0.19163786929394128\n",
      "index: 82\n",
      "eval_count: 83\n",
      "var_params: [ 6.59827193e-01 -4.79979434e-04  1.06417614e+00  7.04704490e-01\n",
      " -1.36146170e+00  4.27669438e-01  1.78046769e+00  1.44543612e+00\n",
      " -1.28353660e+00 -7.67498669e-01 -1.38988577e-01 -6.24263267e-01]\n",
      "eval_val: 0.19065986083843373\n",
      "index: 83\n",
      "eval_count: 84\n",
      "var_params: [ 6.68748230e-01 -4.79979434e-04  1.08357234e+00  6.93636622e-01\n",
      " -1.34409424e+00  4.26061308e-01  1.77780422e+00  1.44435601e+00\n",
      " -1.27873022e+00 -7.61625830e-01 -1.55195949e-01 -6.21154834e-01]\n",
      "eval_val: 0.1901298134760086\n",
      "index: 84\n",
      "eval_count: 85\n",
      "var_params: [ 6.47476229e-01 -4.79979434e-04  1.07511061e+00  6.84934370e-01\n",
      " -1.34057689e+00  4.27324116e-01  1.77654463e+00  1.45068678e+00\n",
      " -1.27606333e+00 -7.79740851e-01 -1.60312270e-01 -6.04080925e-01]\n",
      "eval_val: 0.1900198867310916\n",
      "index: 85\n",
      "eval_count: 86\n",
      "var_params: [ 0.65959833  0.01514502  1.08465611  0.69752256 -1.35301968  0.42929403\n",
      "  1.77780625  1.44457852 -1.27846214 -0.76803483 -0.15833868 -0.61943512]\n",
      "eval_val: 0.18985490102480213\n",
      "index: 86\n",
      "eval_count: 87\n",
      "var_params: [ 6.60896824e-01 -4.79979434e-04  1.08906224e+00  6.92130206e-01\n",
      " -1.35390225e+00  4.33022754e-01  1.78843593e+00  1.45957957e+00\n",
      " -1.26444383e+00 -7.78187767e-01 -1.60453968e-01 -6.35854963e-01]\n",
      "eval_val: 0.19039752794655715\n",
      "index: 87\n",
      "eval_count: 88\n",
      "var_params: [ 6.63290323e-01 -4.79979434e-04  1.08982576e+00  7.01667439e-01\n",
      " -1.35042908e+00  4.25862826e-01  1.77722952e+00  1.44842146e+00\n",
      " -1.28678824e+00 -7.76730211e-01 -1.55529959e-01 -6.18991542e-01]\n",
      "eval_val: 0.1900977174890271\n",
      "index: 88\n",
      "eval_count: 89\n",
      "var_params: [ 6.56229587e-01 -4.79979434e-04  1.09607129e+00  7.00408990e-01\n",
      " -1.35369823e+00  4.29255487e-01  1.77259240e+00  1.42213749e+00\n",
      " -1.26369034e+00 -7.74015751e-01 -1.55156618e-01 -6.13846968e-01]\n",
      "eval_val: 0.1896791511593509\n",
      "index: 89\n",
      "eval_count: 90\n",
      "var_params: [ 6.49377575e-01 -4.79979434e-04  1.09883588e+00  7.05406403e-01\n",
      " -1.35242179e+00  4.29752914e-01  1.77649816e+00  1.41838253e+00\n",
      " -1.26593914e+00 -7.68291829e-01 -1.64729060e-01 -6.11874659e-01]\n",
      "eval_val: 0.18929189563775434\n",
      "index: 90\n",
      "eval_count: 91\n",
      "var_params: [ 6.45650961e-01 -4.79979434e-04  1.10664121e+00  7.04602875e-01\n",
      " -1.35739603e+00  4.33411532e-01  1.77464632e+00  1.42128120e+00\n",
      " -1.26593923e+00 -7.60622905e-01 -1.65802217e-01 -6.04209164e-01]\n",
      "eval_val: 0.18910215794425447\n",
      "index: 91\n",
      "eval_count: 92\n",
      "var_params: [ 6.50198780e-01 -4.79979434e-04  1.10640638e+00  6.98593321e-01\n",
      " -1.36416742e+00  4.33401727e-01  1.78155005e+00  1.41592031e+00\n",
      " -1.26933894e+00 -7.62084073e-01 -1.71538400e-01 -5.99915111e-01]\n",
      "eval_val: 0.18897657537638543\n",
      "index: 92\n",
      "eval_count: 93\n",
      "var_params: [ 6.49536105e-01 -4.79979434e-04  1.10265642e+00  7.00612070e-01\n",
      " -1.36529547e+00  4.32531019e-01  1.77992963e+00  1.41323752e+00\n",
      " -1.27268534e+00 -7.60388617e-01 -1.68533333e-01 -5.97176249e-01]\n",
      "eval_val: 0.18924143364024537\n",
      "index: 93\n",
      "eval_count: 94\n",
      "var_params: [ 6.45493673e-01 -4.79979434e-04  1.11247542e+00  6.98531496e-01\n",
      " -1.36600701e+00  4.36382274e-01  1.78894879e+00  1.41743346e+00\n",
      " -1.26300113e+00 -7.61437289e-01 -1.79572408e-01 -6.03191566e-01]\n",
      "eval_val: 0.188956870929125\n",
      "index: 94\n",
      "eval_count: 95\n",
      "var_params: [ 6.47971853e-01 -4.79979434e-04  1.11293833e+00  6.99590305e-01\n",
      " -1.36320888e+00  4.33945148e-01  1.79321991e+00  1.41798851e+00\n",
      " -1.26094742e+00 -7.58981637e-01 -1.77388556e-01 -6.00697259e-01]\n",
      "eval_val: 0.18911377740033058\n",
      "index: 95\n"
     ]
    },
    {
     "name": "stdout",
     "output_type": "stream",
     "text": [
      "eval_count: 96\n",
      "var_params: [ 6.49071470e-01 -4.79979434e-04  1.11680019e+00  6.92085947e-01\n",
      " -1.35921652e+00  4.37384439e-01  1.78319217e+00  1.41407310e+00\n",
      " -1.26533311e+00 -7.56544267e-01 -1.86253174e-01 -6.05543843e-01]\n",
      "eval_val: 0.1891871445837347\n",
      "index: 96\n",
      "eval_count: 97\n",
      "var_params: [ 6.49769218e-01 -4.79979434e-04  1.11287580e+00  7.02480714e-01\n",
      " -1.36929187e+00  4.35092886e-01  1.78723769e+00  1.41750824e+00\n",
      " -1.26187155e+00 -7.59544876e-01 -1.81233633e-01 -6.05190351e-01]\n",
      "eval_val: 0.18910552640882577\n",
      "index: 97\n",
      "eval_count: 98\n",
      "var_params: [ 6.44380114e-01 -4.79979434e-04  1.10823226e+00  6.98470925e-01\n",
      " -1.36472158e+00  4.32535146e-01  1.78453242e+00  1.42156394e+00\n",
      " -1.25815698e+00 -7.66091298e-01 -1.87167780e-01 -5.94881373e-01]\n",
      "eval_val: 0.18972567151457795\n",
      "index: 98\n",
      "eval_count: 99\n",
      "var_params: [ 6.43067572e-01 -4.79979434e-04  1.11377327e+00  6.96411606e-01\n",
      " -1.36770465e+00  4.29877297e-01  1.78853896e+00  1.41755004e+00\n",
      " -1.26337050e+00 -7.60628158e-01 -1.79105606e-01 -6.04798906e-01]\n",
      "eval_val: 0.18915977948077506\n",
      "index: 99\n",
      "eval_count: 100\n",
      "var_params: [ 6.46356901e-01 -4.79979434e-04  1.12183508e+00  7.03397881e-01\n",
      " -1.36439172e+00  4.36920128e-01  1.79063270e+00  1.41868829e+00\n",
      " -1.27124965e+00 -7.68884253e-01 -1.79097489e-01 -6.02151778e-01]\n",
      "eval_val: 0.1890230413807074\n",
      "index: 100\n",
      "eval_count: 101\n",
      "var_params: [ 0.64549367  0.00733252  1.11247542  0.6985315  -1.36600701  0.43638227\n",
      "  1.78894879  1.41743346 -1.26300113 -0.76143729 -0.17957241 -0.60319157]\n",
      "eval_val: 0.188956870929125\n",
      "index: 101\n",
      "eval_count: 102\n",
      "var_params: [ 6.47998446e-01 -4.79979434e-04  1.11691133e+00  6.92513793e-01\n",
      " -1.37025823e+00  4.42858020e-01  1.78768958e+00  1.41517850e+00\n",
      " -1.25741564e+00 -7.65536065e-01 -1.71481924e-01 -6.04549660e-01]\n",
      "eval_val: 0.18937513300365097\n",
      "index: 102\n",
      "eval_count: 103\n",
      "var_params: [ 6.48139662e-01 -4.79979434e-04  1.11123939e+00  6.95536627e-01\n",
      " -1.36697732e+00  4.36815446e-01  1.78980805e+00  1.42339938e+00\n",
      " -1.26529030e+00 -7.61199296e-01 -1.79447327e-01 -6.04065973e-01]\n",
      "eval_val: 0.18913383529190353\n",
      "index: 103\n",
      "eval_count: 104\n",
      "var_params: [ 6.36791397e-01 -4.79979434e-04  1.10995654e+00  7.03581508e-01\n",
      " -1.36544214e+00  4.43541231e-01  1.79307819e+00  1.41559673e+00\n",
      " -1.26696470e+00 -7.55991528e-01 -1.79798298e-01 -6.07567777e-01]\n",
      "eval_val: 0.188784202772765\n",
      "index: 104\n",
      "eval_count: 105\n",
      "var_params: [ 6.29686239e-01 -4.79979434e-04  1.10604173e+00  7.07579613e-01\n",
      " -1.36376596e+00  4.46656757e-01  1.79051474e+00  1.41751957e+00\n",
      " -1.26345616e+00 -7.60451381e-01 -1.87150296e-01 -6.00266402e-01]\n",
      "eval_val: 0.18873876799584166\n",
      "index: 105\n",
      "eval_count: 106\n",
      "var_params: [ 6.29761580e-01 -4.79979434e-04  1.10541225e+00  7.08208146e-01\n",
      " -1.36060771e+00  4.46061112e-01  1.79191680e+00  1.41850335e+00\n",
      " -1.26060278e+00 -7.63657474e-01 -1.88205766e-01 -6.05504761e-01]\n",
      "eval_val: 0.1892009865470618\n",
      "index: 106\n",
      "eval_count: 107\n",
      "var_params: [ 6.32077079e-01 -4.79979434e-04  1.09755544e+00  7.06859707e-01\n",
      " -1.36590234e+00  4.46616826e-01  1.79207295e+00  1.40876763e+00\n",
      " -1.27110668e+00 -7.63019232e-01 -1.87227095e-01 -5.96122902e-01]\n",
      "eval_val: 0.18892562737004637\n",
      "index: 107\n",
      "eval_count: 108\n",
      "var_params: [ 6.29495340e-01 -4.79979434e-04  1.10383925e+00  7.09954250e-01\n",
      " -1.36047138e+00  4.45422681e-01  1.78596454e+00  1.41889627e+00\n",
      " -1.26502411e+00 -7.59922425e-01 -1.83578163e-01 -6.00449788e-01]\n",
      "eval_val: 0.1890931150738012\n",
      "index: 108\n",
      "eval_count: 109\n",
      "var_params: [ 6.26804174e-01 -4.79979434e-04  1.11192010e+00  7.04135550e-01\n",
      " -1.37101395e+00  4.55128189e-01  1.78994257e+00  1.41455937e+00\n",
      " -1.25985477e+00 -7.59082450e-01 -1.83046418e-01 -5.95332518e-01]\n",
      "eval_val: 0.18892349771997224\n",
      "index: 109\n",
      "eval_count: 110\n",
      "var_params: [ 0.63073074 -0.00180438  1.10764909  0.70440651 -1.35975553  0.44833935\n",
      "  1.78766898  1.41483497 -1.26383042 -0.7588948  -0.19010484 -0.60042577]\n",
      "eval_val: 0.18932745131423062\n",
      "index: 110\n",
      "eval_count: 111\n",
      "var_params: [ 0.62812009  0.00516226  1.10810606  0.71204404 -1.3689397   0.44336539\n",
      "  1.79675995  1.42258821 -1.26787671 -0.75425583 -0.19122511 -0.59729391]\n",
      "eval_val: 0.18900062727715772\n",
      "index: 111\n",
      "eval_count: 112\n",
      "var_params: [ 0.62928355 -0.00774538  1.10603648  0.70876265 -1.36519681  0.44590254\n",
      "  1.79188352  1.41869783 -1.26399597 -0.7598802  -0.18717914 -0.59982959]\n",
      "eval_val: 0.18895243400722359\n",
      "index: 112\n",
      "eval_count: 113\n",
      "var_params: [ 6.30788901e-01 -4.79979434e-04  1.10371228e+00  7.07301720e-01\n",
      " -1.36394253e+00  4.47701665e-01  1.79079572e+00  1.41808734e+00\n",
      " -1.26181252e+00 -7.58381971e-01 -1.87271513e-01 -6.00394233e-01]\n",
      "eval_val: 0.1888259788375567\n",
      "index: 113\n",
      "eval_count: 114\n",
      "var_params: [ 6.25546560e-01 -2.70739710e-04  1.10462564e+00  7.04386966e-01\n",
      " -1.36571180e+00  4.42202209e-01  1.78921562e+00  1.41625652e+00\n",
      " -1.26182995e+00 -7.59262228e-01 -1.87145566e-01 -6.01094161e-01]\n",
      "eval_val: 0.18903662495685242\n",
      "index: 114\n",
      "eval_count: 115\n",
      "var_params: [ 6.29668232e-01 -4.79979434e-04  1.10546822e+00  7.06601851e-01\n",
      " -1.36536048e+00  4.47772322e-01  1.78907123e+00  1.41909968e+00\n",
      " -1.26494602e+00 -7.61115690e-01 -1.88076347e-01 -6.01711234e-01]\n",
      "eval_val: 0.1889155570207081\n",
      "index: 115\n",
      "eval_count: 116\n",
      "var_params: [ 6.29818649e-01 -2.60072023e-04  1.10547877e+00  7.03105988e-01\n",
      " -1.36156799e+00  4.46343484e-01  1.79308530e+00  1.42110831e+00\n",
      " -1.26419292e+00 -7.62132009e-01 -1.85314047e-01 -5.97186822e-01]\n",
      "eval_val: 0.1890811635831934\n",
      "index: 116\n",
      "eval_count: 117\n",
      "var_params: [ 6.34432677e-01 -4.22836010e-05  1.10711499e+00  7.08302228e-01\n",
      " -1.36617296e+00  4.43744884e-01  1.78838134e+00  1.41779589e+00\n",
      " -1.26093450e+00 -7.62641372e-01 -1.88038567e-01 -5.97858780e-01]\n",
      "eval_val: 0.18903360906368458\n",
      "index: 117\n",
      "eval_count: 118\n",
      "var_params: [ 6.28667506e-01  6.49351323e-05  1.10710422e+00  7.08339111e-01\n",
      " -1.36511619e+00  4.48721056e-01  1.79097470e+00  1.41643781e+00\n",
      " -1.26259827e+00 -7.60743345e-01 -1.85227308e-01 -5.99783694e-01]\n",
      "eval_val: 0.18876862856060592\n",
      "index: 118\n",
      "eval_count: 119\n",
      "var_params: [ 6.30015138e-01 -6.87171397e-04  1.10490543e+00  7.07386779e-01\n",
      " -1.36386873e+00  4.46731689e-01  1.79071579e+00  1.41637626e+00\n",
      " -1.26395728e+00 -7.61278572e-01 -1.86980799e-01 -6.00180489e-01]\n",
      "eval_val: 0.18873499297568194\n",
      "index: 119\n",
      "eval_count: 120\n",
      "var_params: [ 6.29825751e-01  7.99815249e-04  1.10485523e+00  7.09173042e-01\n",
      " -1.36431904e+00  4.46134439e-01  1.79261705e+00  1.41597364e+00\n",
      " -1.26571069e+00 -7.60218922e-01 -1.87985452e-01 -5.99655563e-01]\n",
      "eval_val: 0.18873308326692234\n",
      "index: 120\n",
      "eval_count: 121\n",
      "var_params: [ 6.28948337e-01  7.87047537e-04  1.10438174e+00  7.09641844e-01\n",
      " -1.36407101e+00  4.46539811e-01  1.79226943e+00  1.41618794e+00\n",
      " -1.26527605e+00 -7.60760983e-01 -1.88932252e-01 -5.98745106e-01]\n",
      "eval_val: 0.1889864438333681\n",
      "index: 121\n",
      "eval_count: 122\n",
      "var_params: [ 6.31006587e-01  4.98196913e-04  1.10658050e+00  7.07919128e-01\n",
      " -1.36333626e+00  4.46723046e-01  1.79242057e+00  1.41390504e+00\n",
      " -1.26661680e+00 -7.58625215e-01 -1.88271943e-01 -6.00044801e-01]\n",
      "eval_val: 0.18875287389006906\n",
      "index: 122\n",
      "eval_count: 123\n",
      "var_params: [ 6.29875086e-01  7.99815249e-04  1.10519647e+00  7.08797502e-01\n",
      " -1.36449233e+00  4.46288688e-01  1.79373310e+00  1.41585013e+00\n",
      " -1.26496559e+00 -7.60811524e-01 -1.88854724e-01 -6.00415945e-01]\n",
      "eval_val: 0.18870893918580897\n",
      "index: 123\n",
      "eval_count: 124\n",
      "var_params: [ 6.30517266e-01  1.16579453e-03  1.10525137e+00  7.10130250e-01\n",
      " -1.36313001e+00  4.45444874e-01  1.79421813e+00  1.41587022e+00\n",
      " -1.26495099e+00 -7.61175589e-01 -1.87069239e-01 -6.03025336e-01]\n",
      "eval_val: 0.18879036526483906\n",
      "index: 124\n",
      "eval_count: 125\n",
      "var_params: [ 6.30675808e-01  7.98628690e-04  1.10536934e+00  7.08678850e-01\n",
      " -1.36379514e+00  4.47091744e-01  1.79436748e+00  1.41667455e+00\n",
      " -1.26540755e+00 -7.61311740e-01 -1.88575486e-01 -5.99789059e-01]\n",
      "eval_val: 0.18883516221926958\n",
      "index: 125\n",
      "eval_count: 126\n",
      "var_params: [ 6.28857584e-01  1.44500067e-03  1.10514261e+00  7.06366744e-01\n",
      " -1.36525573e+00  4.44386875e-01  1.79494731e+00  1.41589170e+00\n",
      " -1.26502943e+00 -7.60283986e-01 -1.87488451e-01 -6.00149605e-01]\n",
      "eval_val: 0.18868686304595744\n",
      "index: 126\n",
      "eval_count: 127\n",
      "var_params: [ 0.62958699  0.00299599  1.10525335  0.70619848 -1.36531787  0.44418384\n",
      "  1.79435428  1.41572366 -1.26459401 -0.76068779 -0.18762117 -0.59994652]\n",
      "eval_val: 0.1887470202713475\n",
      "index: 127\n"
     ]
    },
    {
     "name": "stdout",
     "output_type": "stream",
     "text": [
      "eval_count: 128\n",
      "var_params: [ 6.30697092e-01 -2.15882778e-04  1.10599680e+00  7.07165866e-01\n",
      " -1.36742800e+00  4.42813604e-01  1.79507610e+00  1.41567830e+00\n",
      " -1.26454531e+00 -7.60292334e-01 -1.87302290e-01 -5.99677330e-01]\n",
      "eval_val: 0.18886033829184043\n",
      "index: 128\n",
      "eval_count: 129\n",
      "var_params: [ 6.28953867e-01  1.76238474e-03  1.10487163e+00  7.06311030e-01\n",
      " -1.36628577e+00  4.44765322e-01  1.79447264e+00  1.41657233e+00\n",
      " -1.26617781e+00 -7.60163766e-01 -1.87305737e-01 -6.00756868e-01]\n",
      "eval_val: 0.1887462562727761\n",
      "index: 129\n",
      "eval_count: 130\n",
      "var_params: [ 6.27821010e-01  7.53211138e-04  1.10595683e+00  7.04584113e-01\n",
      " -1.36526043e+00  4.45130609e-01  1.79520211e+00  1.41488942e+00\n",
      " -1.26418275e+00 -7.60882244e-01 -1.89273276e-01 -6.02145088e-01]\n",
      "eval_val: 0.18865704074837847\n",
      "index: 130\n",
      "eval_count: 131\n",
      "var_params: [ 6.28463830e-01  5.02342898e-04  1.10510049e+00  7.04190650e-01\n",
      " -1.36466664e+00  4.44344956e-01  1.79503464e+00  1.41547694e+00\n",
      " -1.26431861e+00 -7.60421624e-01 -1.90177691e-01 -6.02387468e-01]\n",
      "eval_val: 0.1886845586377831\n",
      "index: 131\n",
      "eval_count: 132\n",
      "var_params: [ 6.28292553e-01  9.86698561e-04  1.10442172e+00  7.04459006e-01\n",
      " -1.36593811e+00  4.46784586e-01  1.79604159e+00  1.41451885e+00\n",
      " -1.26229490e+00 -7.58755802e-01 -1.88687738e-01 -6.02524801e-01]\n",
      "eval_val: 0.18868372704072636\n",
      "index: 132\n",
      "eval_count: 133\n",
      "var_params: [ 6.24563918e-01  7.06224364e-04  1.10512186e+00  7.05491354e-01\n",
      " -1.36467748e+00  4.44561893e-01  1.79458886e+00  1.41383666e+00\n",
      " -1.26401585e+00 -7.60337504e-01 -1.89767897e-01 -6.01504175e-01]\n",
      "eval_val: 0.1887885775660163\n",
      "index: 133\n",
      "eval_count: 134\n",
      "var_params: [ 6.27903105e-01  8.66029408e-04  1.10601755e+00  7.05134935e-01\n",
      " -1.36457511e+00  4.44651915e-01  1.79544541e+00  1.41473666e+00\n",
      " -1.26408985e+00 -7.60987022e-01 -1.88400910e-01 -6.03532949e-01]\n",
      "eval_val: 0.18878070423916865\n",
      "index: 134\n",
      "eval_count: 135\n",
      "var_params: [ 6.28033296e-01  6.49250010e-04  1.10546811e+00  7.04459766e-01\n",
      " -1.36526164e+00  4.45184055e-01  1.79526229e+00  1.41423623e+00\n",
      " -1.26451211e+00 -7.61181261e-01 -1.89177606e-01 -6.02087635e-01]\n",
      "eval_val: 0.18868233983050886\n",
      "index: 135\n",
      "eval_count: 136\n",
      "var_params: [ 6.28122347e-01  7.70960655e-04  1.10686349e+00  7.04301548e-01\n",
      " -1.36481177e+00  4.45256929e-01  1.79485026e+00  1.41418299e+00\n",
      " -1.26485291e+00 -7.59652119e-01 -1.89272357e-01 -6.02006138e-01]\n",
      "eval_val: 0.18865159625582104\n",
      "index: 136\n",
      "eval_count: 137\n",
      "var_params: [ 6.28116730e-01  4.39922508e-04  1.10679074e+00  7.03992889e-01\n",
      " -1.36470496e+00  4.45318660e-01  1.79414927e+00  1.41426225e+00\n",
      " -1.26460808e+00 -7.59733122e-01 -1.88867942e-01 -6.01982523e-01]\n",
      "eval_val: 0.1887366865445639\n",
      "index: 137\n",
      "eval_count: 138\n",
      "var_params: [ 6.28086124e-01  8.59809429e-04  1.10730562e+00  7.03991582e-01\n",
      " -1.36438955e+00  4.45974834e-01  1.79613544e+00  1.41472461e+00\n",
      " -1.26516776e+00 -7.59795915e-01 -1.89720225e-01 -6.01261254e-01]\n",
      "eval_val: 0.18886959835209763\n",
      "index: 138\n",
      "eval_count: 139\n",
      "var_params: [ 6.27928636e-01  8.88064564e-04  1.10687624e+00  7.03722409e-01\n",
      " -1.36506631e+00  4.44737608e-01  1.79515232e+00  1.41418614e+00\n",
      " -1.26485225e+00 -7.59523472e-01 -1.88928823e-01 -6.01925070e-01]\n",
      "eval_val: 0.18870163086254066\n",
      "index: 139\n",
      "eval_count: 140\n",
      "var_params: [ 6.28621181e-01  1.04096218e-04  1.10733517e+00  7.05090898e-01\n",
      " -1.36591157e+00  4.44688632e-01  1.79484433e+00  1.41374433e+00\n",
      " -1.26447149e+00 -7.59502997e-01 -1.89887671e-01 -6.01940785e-01]\n",
      "eval_val: 0.1887424637998703\n",
      "index: 140\n",
      "eval_count: 141\n",
      "var_params: [ 6.28344320e-01  1.20287486e-03  1.10699881e+00  7.04262262e-01\n",
      " -1.36446710e+00  4.45050952e-01  1.79481083e+00  1.41388179e+00\n",
      " -1.26429135e+00 -7.59836746e-01 -1.89383989e-01 -6.01718731e-01]\n",
      "eval_val: 0.18862395667312729\n",
      "index: 141\n",
      "eval_count: 142\n",
      "var_params: [ 0.6284124   0.0027078   1.1068888   0.70424278 -1.36513898  0.44529714\n",
      "  1.79410962  1.41395843 -1.26466339 -0.75987475 -0.18985258 -0.60212338]\n",
      "eval_val: 0.18878014210778407\n",
      "index: 142\n",
      "eval_count: 143\n",
      "var_params: [ 6.27933274e-01  1.03046799e-03  1.10714046e+00  7.03874389e-01\n",
      " -1.36443067e+00  4.45191444e-01  1.79483859e+00  1.41359260e+00\n",
      " -1.26407949e+00 -7.59946184e-01 -1.89851465e-01 -6.02169970e-01]\n",
      "eval_val: 0.18869911783416932\n",
      "index: 143\n",
      "eval_count: 144\n",
      "var_params: [ 6.27083192e-01  1.30505924e-03  1.10641884e+00  7.05102495e-01\n",
      " -1.36406255e+00  4.44650955e-01  1.79461626e+00  1.41358698e+00\n",
      " -1.26432148e+00 -7.59321399e-01 -1.89508368e-01 -6.01054605e-01]\n",
      "eval_val: 0.18863997268453508\n",
      "index: 144\n",
      "eval_count: 145\n",
      "var_params: [ 6.28225917e-01  1.15354510e-03  1.10739103e+00  7.04327589e-01\n",
      " -1.36426636e+00  4.44621241e-01  1.79461762e+00  1.41395979e+00\n",
      " -1.26475333e+00 -7.60374465e-01 -1.89472363e-01 -6.01699444e-01]\n",
      "eval_val: 0.18868668398087907\n",
      "index: 145\n",
      "eval_count: 146\n",
      "var_params: [ 6.28653101e-01  1.42370242e-03  1.10697030e+00  7.05106873e-01\n",
      " -1.36377444e+00  4.44819481e-01  1.79536024e+00  1.41374988e+00\n",
      " -1.26403389e+00 -7.59562287e-01 -1.88573368e-01 -6.02861126e-01]\n",
      "eval_val: 0.1886524480966026\n",
      "index: 146\n",
      "eval_count: 147\n",
      "var_params: [ 6.28541876e-01  1.10545682e-03  1.10654082e+00  7.04249015e-01\n",
      " -1.36444513e+00  4.45211970e-01  1.79491277e+00  1.41325803e+00\n",
      " -1.26476265e+00 -7.60053089e-01 -1.89364363e-01 -6.01725051e-01]\n",
      "eval_val: 0.1887164991497364\n",
      "index: 147\n",
      "eval_count: 148\n",
      "var_params: [ 6.28719163e-01  1.36318539e-03  1.10694153e+00  7.03948687e-01\n",
      " -1.36454946e+00  4.44380021e-01  1.79490908e+00  1.41386558e+00\n",
      " -1.26289103e+00 -7.60040685e-01 -1.88817820e-01 -6.00848665e-01]\n",
      "eval_val: 0.18870395809735868\n",
      "index: 148\n",
      "eval_count: 149\n",
      "var_params: [ 6.28726308e-01  1.14480469e-03  1.10704538e+00  7.04008001e-01\n",
      " -1.36408481e+00  4.44743636e-01  1.79463860e+00  1.41388565e+00\n",
      " -1.26442597e+00 -7.59197242e-01 -1.89673377e-01 -6.01665872e-01]\n",
      "eval_val: 0.18866073691056856\n",
      "index: 149\n",
      "eval_count: 150\n",
      "var_params: [ 6.28396662e-01  1.15269743e-03  1.10667984e+00  7.04282580e-01\n",
      " -1.36443281e+00  4.44941994e-01  1.79487508e+00  1.41413240e+00\n",
      " -1.26424932e+00 -7.59968590e-01 -1.89574340e-01 -6.01803743e-01]\n",
      "eval_val: 0.18859889401438665\n",
      "index: 150\n",
      "eval_count: 151\n",
      "var_params: [ 6.28416435e-01  1.15124745e-03  1.10681749e+00  7.04475732e-01\n",
      " -1.36421397e+00  4.45447567e-01  1.79538057e+00  1.41463491e+00\n",
      " -1.26426481e+00 -7.59920498e-01 -1.89727491e-01 -6.01478445e-01]\n",
      "eval_val: 0.1887053323664821\n",
      "index: 151\n",
      "eval_count: 152\n",
      "var_params: [ 6.28501797e-01  9.93952092e-04  1.10683401e+00  7.04551138e-01\n",
      " -1.36473353e+00  4.44927066e-01  1.79488885e+00  1.41406286e+00\n",
      " -1.26420310e+00 -7.59885698e-01 -1.89687948e-01 -6.01787539e-01]\n",
      "eval_val: 0.18871220720923174\n",
      "index: 152\n",
      "eval_count: 153\n",
      "var_params: [ 6.28333008e-01  1.16139857e-03  1.10607030e+00  7.04044520e-01\n",
      " -1.36405384e+00  4.44446601e-01  1.79484816e+00  1.41435238e+00\n",
      " -1.26423261e+00 -7.60147817e-01 -1.89743340e-01 -6.02065559e-01]\n",
      "eval_val: 0.18862653359708043\n",
      "index: 153\n",
      "time taken: \n",
      "54.55627700000002\n",
      "testing success ratio: 1.0\n"
     ]
    }
   ],
   "source": [
    "start = time.process_time()\n",
    "\n",
    "result = vqc.run(quantum_instance)\n",
    "\n",
    "print(\"time taken: \")\n",
    "print(time.process_time() - start)\n",
    "\n",
    "\n",
    "print(\"testing success ratio: {}\".format(result['testing_accuracy']))"
   ]
  },
  {
   "cell_type": "code",
   "execution_count": 46,
   "metadata": {},
   "outputs": [
    {
     "name": "stdout",
     "output_type": "stream",
     "text": [
      "preduction of datapoints:\n",
      "ground truth: ['A', 'A', 'A', 'A', 'A', 'B', 'B', 'B', 'B', 'B']\n",
      "prediction:   ['A', 'A', 'A', 'A', 'A', 'B', 'B', 'B', 'B', 'B']\n"
     ]
    }
   ],
   "source": [
    "print(\"preduction of datapoints:\")\n",
    "print(\"ground truth: {}\".format(map_label_to_class_name(datapoints[1], vqc.label_to_class)))\n",
    "print(\"prediction:   {}\".format(result['predicted_classes']))"
   ]
  },
  {
   "cell_type": "markdown",
   "metadata": {},
   "source": [
    "**Extras:**    \n",
    "* Are participants allowed to use softwares other than Qiskit for solving this problem? (Pennylane has [metric learning](https://pennylane.ai/qml/demos/tutorial_embeddings_metric_learning.html) using which I suppose participants could try and learn the feature map itself, Not 100% sure)\n",
    "* If someone wants use something like a [QAOA embedding](https://pennylane.ai/qml/demos/tutorial_embeddings_metric_learning.html) how should they do it? (Alternating feature maps + var circuits)"
   ]
  },
  {
   "cell_type": "markdown",
   "metadata": {},
   "source": [
    "## Grading"
   ]
  },
  {
   "cell_type": "markdown",
   "metadata": {},
   "source": [
    "How do we get the `result` object from the attendee?"
   ]
  },
  {
   "cell_type": "code",
   "execution_count": 47,
   "metadata": {},
   "outputs": [
    {
     "data": {
      "text/plain": [
       "{'num_optimizer_evals': 154,\n",
       " 'min_val': 0.18862653359708043,\n",
       " 'opt_params': array([ 6.28333008e-01,  1.16139857e-03,  1.10607030e+00,  7.04044520e-01,\n",
       "        -1.36405384e+00,  4.44446601e-01,  1.79484816e+00,  1.41435238e+00,\n",
       "        -1.26423261e+00, -7.60147817e-01, -1.89743340e-01, -6.02065559e-01]),\n",
       " 'eval_time': 586.760115146637,\n",
       " 'eval_count': 154,\n",
       " 'training_loss': 0.18862653359708043,\n",
       " 'testing_accuracy': 1.0,\n",
       " 'test_success_ratio': 1.0,\n",
       " 'testing_loss': 0.16261911086660036,\n",
       " 'predicted_probs': array([[0.88769531, 0.11230469],\n",
       "        [0.92871094, 0.07128906],\n",
       "        [0.81933594, 0.18066406],\n",
       "        [0.72070312, 0.27929688],\n",
       "        [0.86035156, 0.13964844],\n",
       "        [0.05566406, 0.94433594],\n",
       "        [0.08398438, 0.91601562],\n",
       "        [0.09570312, 0.90429688],\n",
       "        [0.08105469, 0.91894531],\n",
       "        [0.03710938, 0.96289062]]),\n",
       " 'predicted_labels': array([0, 0, 0, 0, 0, 1, 1, 1, 1, 1]),\n",
       " 'predicted_classes': ['A', 'A', 'A', 'A', 'A', 'B', 'B', 'B', 'B', 'B']}"
      ]
     },
     "execution_count": 47,
     "metadata": {},
     "output_type": "execute_result"
    }
   ],
   "source": [
    "result"
   ]
  },
  {
   "cell_type": "markdown",
   "metadata": {},
   "source": [
    "Extracting the optimal parameters"
   ]
  },
  {
   "cell_type": "code",
   "execution_count": 73,
   "metadata": {},
   "outputs": [
    {
     "name": "stdout",
     "output_type": "stream",
     "text": [
      "[ 6.28333008e-01  1.16139857e-03  1.10607030e+00  7.04044520e-01\n",
      " -1.36405384e+00  4.44446601e-01  1.79484816e+00  1.41435238e+00\n",
      " -1.26423261e+00 -7.60147817e-01 -1.89743340e-01 -6.02065559e-01]\n"
     ]
    }
   ],
   "source": [
    "optimal_params = vqc.optimal_params\n",
    "optimal_params_stored=np.array([ 6.28333008e-01 , 1.16139857e-03 , 1.10607030e+00 , 7.04044520e-01,\n",
    " -1.36405384e+00 , 4.44446601e-01 , 1.79484816e+00 , 1.41435238e+00,\n",
    " -1.26423261e+00 ,-7.60147817e-01 ,-1.89743340e-01, -6.02065559e-01])\n",
    "print(optimal_params)"
   ]
  },
  {
   "cell_type": "code",
   "execution_count": 75,
   "metadata": {},
   "outputs": [],
   "source": [
    "def grade(data, labels, feature_map, var_form, optimal_params):\n",
    "    backend = BasicAer.get_backend('qasm_simulator')\n",
    "    backend_options = {\"method\": \"statevector_gpu\"}\n",
    "    # backend = BasicAer.get_backend('statevector_simulator')\n",
    "    quantum_instance = QuantumInstance(backend, shots=1024, seed_simulator=seed, seed_transpiler=seed, backend_options=backend_options)\n",
    "    vqc = VQC(optimizer=cobyla, feature_map=feature_map, var_form=var_form, training_dataset=training_input)\n",
    "    ans = vqc.predict(data, quantum_instance=quantum_instance, params=optimal_params)\n",
    "    accuracy = np.sum(np.array(labels) == ans[1])/len(ans[1])\n",
    "    return accuracy, ans"
   ]
  },
  {
   "cell_type": "code",
   "execution_count": 76,
   "metadata": {},
   "outputs": [],
   "source": [
    "final_test_data = datapoints[0]\n",
    "final_test_labels = datapoints[1]"
   ]
  },
  {
   "cell_type": "code",
   "execution_count": 78,
   "metadata": {},
   "outputs": [
    {
     "name": "stdout",
     "output_type": "stream",
     "text": [
      "(array([[0.88769531, 0.11230469],\n",
      "       [0.92871094, 0.07128906],\n",
      "       [0.81933594, 0.18066406],\n",
      "       [0.72070312, 0.27929688],\n",
      "       [0.86035156, 0.13964844],\n",
      "       [0.05566406, 0.94433594],\n",
      "       [0.08398438, 0.91601562],\n",
      "       [0.09570312, 0.90429688],\n",
      "       [0.08105469, 0.91894531],\n",
      "       [0.03710938, 0.96289062]]), array([0, 0, 0, 0, 0, 1, 1, 1, 1, 1]))\n",
      "Accuracy of the model: 1.0\n"
     ]
    }
   ],
   "source": [
    "accuracy, ans = grade(final_test_data, final_test_labels, feature_map=feature_map, var_form=var, \n",
    "                      optimal_params=optimal_params_stored)\n",
    "print(ans)  \n",
    "print(\"Accuracy of the model: {}\".format(accuracy))"
   ]
  },
  {
   "cell_type": "code",
   "execution_count": null,
   "metadata": {},
   "outputs": [],
   "source": []
  }
 ],
 "metadata": {
  "kernelspec": {
   "display_name": "Python 3",
   "language": "python",
   "name": "python3"
  },
  "language_info": {
   "codemirror_mode": {
    "name": "ipython",
    "version": 3
   },
   "file_extension": ".py",
   "mimetype": "text/x-python",
   "name": "python",
   "nbconvert_exporter": "python",
   "pygments_lexer": "ipython3",
   "version": "3.8.2"
  }
 },
 "nbformat": 4,
 "nbformat_minor": 4
}
