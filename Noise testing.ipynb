{
 "cells": [
  {
   "cell_type": "code",
   "execution_count": 131,
   "metadata": {},
   "outputs": [],
   "source": [
    "from IPython.display import clear_output\n",
    "import time\n",
    "import numpy as np\n",
    "import pandas as pd\n",
    "from scipy.stats import entropy   # KL divergence\n",
    "import matplotlib.pyplot as plt\n",
    "%matplotlib inline\n",
    "\n",
    "# Qiskit\n",
    "from qiskit import *\n",
    "from qiskit.aqua import QuantumInstance\n",
    "from qiskit.circuit import Parameter, ParameterVector\n",
    "from qiskit.quantum_info import state_fidelity, random_statevector, hellinger_fidelity\n",
    "## Noise\n",
    "from qiskit.providers.aer import noise "
   ]
  },
  {
   "cell_type": "code",
   "execution_count": 132,
   "metadata": {},
   "outputs": [],
   "source": [
    "def prob_dist_haar(num_qubits, bin_num):\n",
    "    \"\"\" This function creates the ideal distribution of fidelities of pairs of random quantum states sampled\n",
    "        from the Haar distribution. \n",
    "        \n",
    "        This is analytically given by the formula \"\"\"\n",
    "    points = np.linspace(0, 1, bin_num + 1) # we are taking one more number than the number of bins so that we can take the average number at each instance for the vvalue at that specific bin \n",
    "    haar = []\n",
    "    const = (2**num_qubits) - 1\n",
    "    power = const - 1\n",
    "    for i in range(bin_num):\n",
    "        haar.append(const*((1 - ((points[i] +points[i+1])/2))**power))\n",
    "    haar_prob = haar/sum(haar)\n",
    "    return haar_prob"
   ]
  },
  {
   "cell_type": "code",
   "execution_count": 133,
   "metadata": {},
   "outputs": [],
   "source": [
    "def hellinger(dist_a, dist_b):\n",
    "    \"\"\" Function for converting our distributions distribution A (dist_a) and distribution B (dist_b) into \n",
    "        dictionaries as accepted by the qiskit function hellinger_fidelity)() and returning the value of Hellinger \n",
    "        fidelity \"\"\"\n",
    "    fid = 0\n",
    "    if len(dist_a) != len(dist_b):\n",
    "        print(\"Both the distributions must be of same length\");\n",
    "    else:\n",
    "        dict_a = {}\n",
    "        dict_b = {}\n",
    "        for i in range(len(dist_a)):\n",
    "            dict_a[i] = dist_a[i]\n",
    "            dict_b[i] = dist_b[i]\n",
    "        fid = hellinger_fidelity(dict_a, dict_b)\n",
    "    return(fid)"
   ]
  },
  {
   "cell_type": "code",
   "execution_count": 134,
   "metadata": {},
   "outputs": [],
   "source": [
    "def expressibility(pqc, qr=None, trials=5000, bin_num=75, verbose=False, draw=False, quantum_instance=None):\n",
    "    \"\"\" Function that takes in a parameterised quantum circuit and computes its expressibility based on the \n",
    "        number of trials and bin number \n",
    "        \n",
    "        Number of trials is set to 5000 by default and number of bins to 75 based on the values given in the \n",
    "        paper for 4 qubit PQCs \"\"\"\n",
    "    \n",
    "    # Initialisation \n",
    "    r1 = {}\n",
    "    r2 = {}\n",
    "    fidelities = []\n",
    "    bins = []\n",
    "    \n",
    "    # Step 1 - Choosing and extracting information about the PQC\n",
    "    num_params = pqc.num_parameters\n",
    "    set_ = pqc.parameters\n",
    "    num_qubits = pqc.num_qubits\n",
    "    \n",
    "    # Loop for Steps 2, 3, and 4 \n",
    "    for j in range(trials):\n",
    "        if verbose:\n",
    "            if j%(trials/10)==0:\n",
    "                print(\"{}% completed\".format(int((j/trials)*100)))\n",
    "            \n",
    "        # Step 2 - forming two sets of random parameters for the PQC.\n",
    "        for k in set_:\n",
    "            # Creating two sets of random parameter values, each value ranging from 0 to 2*pi. \n",
    "            r1[k] = 2*np.pi*np.random.rand()\n",
    "            r2[k] = 2*np.pi*np.random.rand()\n",
    "        # Finding the states after applying these quantum circuits to a ground state\n",
    "        circ_1 = pqc.bind_parameters(r1)\n",
    "        circ_2 = pqc.bind_parameters(r2)\n",
    "        if quantum_instance == None:\n",
    "            backend = Aer.get_backend('statevector_simulator')\n",
    "            job1 = execute(circ_1, backend)\n",
    "            job2 = execute(circ_2, backend)\n",
    "            v1 = job1.result().get_statevector()\n",
    "            v2 = job2.result().get_statevector()\n",
    "        else:\n",
    "            tomo_circ1 = state_tomography_circuits(circ_1, qr)\n",
    "            results_circ1 = quantum_instance.execute(tomo_circ1)\n",
    "            v1 = DensityMatrix(StateTomographyFitter(results_circ1, tomo_circ1).fit(method='lstsq'))\n",
    "            \n",
    "            tomo_circ2 = state_tomography_circuits(circ_2, qr)\n",
    "            results_circ2 = quantum_instance.execute(tomo_circ2)\n",
    "            v2 = DensityMatrix(StateTomographyFitter(results_circ2, tomo_circ2).fit(method='lstsq'))\n",
    "        \n",
    "        # Step 3 - Calculate the Fidelity of these two states and store it\n",
    "\n",
    "        fidelity = state_fidelity(v1, v2)\n",
    "        fidelities.append(fidelity)\n",
    "        \n",
    "    print(\"Fidelity calculations have been completed.\")\n",
    "    clear_output()\n",
    "    fidelities = np.array(fidelities)\n",
    "    \n",
    "    # Calculating the probability distribution of haar random state fidelities. \n",
    "    # Note: haar_fid is a probability distribution however fidelities is a frequency distribution\n",
    "    haar_fid = prob_dist_haar(num_qubits=num_qubits, bin_num=bin_num)\n",
    "    \n",
    "    # Step 5 - plt.hist() automatically discretizes the fidelities frequency distribution and creates bins\n",
    "    n, bins, _ = plt.hist(fidelities, bins=np.linspace(0,1, bin_num+1), alpha = 0.5)\n",
    "    if draw:  \n",
    "        plt.xlabel(\"Fidelities\")\n",
    "        plt.ylabel(\"Probability\")\n",
    "        plt.show()\n",
    "    \n",
    "    # Step 6 - Find the fidelity between both the states \n",
    "    pqc_fidelity_probs = n/trials\n",
    "    expressibility = entropy(pqc_fidelity_probs, haar_fid)\n",
    "    print(\"Expressibility of the pqc using Hellinger fidelity: {}\".format(hellinger(pqc_fidelity_probs, haar_fid)))\n",
    "    print(\"Expressibility of the pqc using KL divergence: {}\".format(expressibility))\n",
    "    return expressibility, fidelities, r1, r2"
   ]
  },
  {
   "cell_type": "markdown",
   "metadata": {},
   "source": [
    "## PQC Test"
   ]
  },
  {
   "cell_type": "code",
   "execution_count": 135,
   "metadata": {},
   "outputs": [],
   "source": [
    "def pqc_test(num_qubits=1, reps=1):\n",
    "    \"\"\" Creating the Circuit B from Fig.1(a) to cross check the probability distribution \"\"\"\n",
    "    num_qubits = num_qubits            \n",
    "    reps = reps\n",
    "    num_params = int(2*num_qubits*reps)\n",
    "    x = ParameterVector('z', length=num_params)  # creating a list of Parameters\n",
    "    qr = QuantumRegister(num_qubits)\n",
    "    variational_form = QuantumCircuit(qr)\n",
    "\n",
    "    num = -1\n",
    "    # defining our parametric form\n",
    "    for _ in range(reps):\n",
    "        for i in range(num_qubits):\n",
    "            num = num + 1\n",
    "            variational_form.h(i)\n",
    "            variational_form.rz(x[num], i)\n",
    "        \n",
    "        for i in range(num_qubits):\n",
    "            num = num + 1\n",
    "            variational_form.rx(x[num], i)\n",
    "    return variational_form, qr"
   ]
  },
  {
   "cell_type": "code",
   "execution_count": 87,
   "metadata": {},
   "outputs": [
    {
     "data": {
      "text/html": [
       "<pre style=\"word-wrap: normal;white-space: pre;background: #fff0;line-height: 1.1;font-family: &quot;Courier New&quot;,Courier,monospace\">      ┌───┐┌──────────┐┌──────────┐\n",
       "q5_0: ┤ H ├┤ RZ(z[0]) ├┤ RX(z[1]) ├\n",
       "      └───┘└──────────┘└──────────┘</pre>"
      ],
      "text/plain": [
       "      ┌───┐┌──────────┐┌──────────┐\n",
       "q5_0: ┤ H ├┤ RZ(z[0]) ├┤ RX(z[1]) ├\n",
       "      └───┘└──────────┘└──────────┘"
      ]
     },
     "execution_count": 87,
     "metadata": {},
     "output_type": "execute_result"
    }
   ],
   "source": [
    "qc, _ = pqc_test()\n",
    "qc.draw()"
   ]
  },
  {
   "cell_type": "code",
   "execution_count": 140,
   "metadata": {},
   "outputs": [],
   "source": [
    "def c3(num_qubits=4, reps=1):\n",
    "    num_qubits = num_qubits            \n",
    "    reps = reps\n",
    "    num_params = int(((2*num_qubits) + num_qubits-1)*reps)\n",
    "    x = ParameterVector('b', length=num_params)  # creating a list of Parameters\n",
    "    qr = QuantumRegister(num_qubits)\n",
    "    variational_form = QuantumCircuit(qr)\n",
    "\n",
    "    num = -1\n",
    "    # defining our parametric form\n",
    "    for _ in range(reps):\n",
    "        for i in range(num_qubits):\n",
    "            num = num + 1\n",
    "            variational_form.rx(x[num], i)\n",
    "        \n",
    "        for i in range(num_qubits):\n",
    "            num = num + 1\n",
    "            variational_form.rz(x[num], i)\n",
    "            \n",
    "        for i in range(num_qubits-1):\n",
    "            num = num + 1\n",
    "            variational_form.crz(x[num], num_qubits-i-1, num_qubits-i-2)\n",
    "            \n",
    "    return variational_form, qr"
   ]
  },
  {
   "cell_type": "code",
   "execution_count": 142,
   "metadata": {},
   "outputs": [
    {
     "data": {
      "text/html": [
       "<pre style=\"word-wrap: normal;white-space: pre;background: #fff0;line-height: 1.1;font-family: &quot;Courier New&quot;,Courier,monospace\">      ┌──────────┐┌──────────┐                        ┌───────────┐\n",
       "q8_0: ┤ RX(b[0]) ├┤ RZ(b[4]) ├────────────────────────┤ RZ(b[10]) ├\n",
       "      ├──────────┤├──────────┤            ┌──────────┐└─────┬─────┘\n",
       "q8_1: ┤ RX(b[1]) ├┤ RZ(b[5]) ├────────────┤ RZ(b[9]) ├──────■──────\n",
       "      ├──────────┤├──────────┤┌──────────┐└────┬─────┘             \n",
       "q8_2: ┤ RX(b[2]) ├┤ RZ(b[6]) ├┤ RZ(b[8]) ├─────■───────────────────\n",
       "      ├──────────┤├──────────┤└────┬─────┘                         \n",
       "q8_3: ┤ RX(b[3]) ├┤ RZ(b[7]) ├─────■───────────────────────────────\n",
       "      └──────────┘└──────────┘                                     </pre>"
      ],
      "text/plain": [
       "      ┌──────────┐┌──────────┐                        ┌───────────┐\n",
       "q8_0: ┤ RX(b[0]) ├┤ RZ(b[4]) ├────────────────────────┤ RZ(b[10]) ├\n",
       "      ├──────────┤├──────────┤            ┌──────────┐└─────┬─────┘\n",
       "q8_1: ┤ RX(b[1]) ├┤ RZ(b[5]) ├────────────┤ RZ(b[9]) ├──────■──────\n",
       "      ├──────────┤├──────────┤┌──────────┐└────┬─────┘             \n",
       "q8_2: ┤ RX(b[2]) ├┤ RZ(b[6]) ├┤ RZ(b[8]) ├─────■───────────────────\n",
       "      ├──────────┤├──────────┤└────┬─────┘                         \n",
       "q8_3: ┤ RX(b[3]) ├┤ RZ(b[7]) ├─────■───────────────────────────────\n",
       "      └──────────┘└──────────┘                                     "
      ]
     },
     "execution_count": 142,
     "metadata": {},
     "output_type": "execute_result"
    }
   ],
   "source": [
    "c3()[0].draw()"
   ]
  },
  {
   "cell_type": "code",
   "execution_count": 144,
   "metadata": {},
   "outputs": [
    {
     "data": {
      "text/plain": [
       "QuantumRegister(4, 'q9')"
      ]
     },
     "execution_count": 144,
     "metadata": {},
     "output_type": "execute_result"
    }
   ],
   "source": [
    "c3()[1]"
   ]
  },
  {
   "cell_type": "code",
   "execution_count": 9,
   "metadata": {},
   "outputs": [
    {
     "name": "stdout",
     "output_type": "stream",
     "text": [
      "z = [0.41984818504095733, 0.605726340023129]\n"
     ]
    }
   ],
   "source": [
    "temp = []\n",
    "for r in range(2):\n",
    "    temp.append(np.random.rand())\n",
    "print(\"z = [{}, {}]\".format(temp[0], temp[1]))"
   ]
  },
  {
   "cell_type": "code",
   "execution_count": 10,
   "metadata": {},
   "outputs": [
    {
     "name": "stdout",
     "output_type": "stream",
     "text": [
      "<class 'set'>\n"
     ]
    }
   ],
   "source": [
    "set_ = qc.parameters\n",
    "print(type(set_))"
   ]
  },
  {
   "cell_type": "code",
   "execution_count": 11,
   "metadata": {},
   "outputs": [],
   "source": [
    "r1 = {}\n",
    "r2 = {}\n",
    "for k in set_:\n",
    "    # Creating two sets of random parameter values, each value ranging from 0 to 2*pi. \n",
    "    r1[k] = 2*np.pi*np.random.rand()\n",
    "    r2[k] = 2*np.pi*np.random.rand()"
   ]
  },
  {
   "cell_type": "code",
   "execution_count": 12,
   "metadata": {},
   "outputs": [
    {
     "data": {
      "text/plain": [
       "{Parameter(z[0]): 3.03386414897261, Parameter(z[1]): 3.3301963140855504}"
      ]
     },
     "execution_count": 12,
     "metadata": {},
     "output_type": "execute_result"
    }
   ],
   "source": [
    "r1"
   ]
  },
  {
   "cell_type": "code",
   "execution_count": 13,
   "metadata": {},
   "outputs": [
    {
     "data": {
      "text/plain": [
       "{Parameter(z[0]): 3.601884247793598, Parameter(z[1]): 6.136619894907062}"
      ]
     },
     "execution_count": 13,
     "metadata": {},
     "output_type": "execute_result"
    }
   ],
   "source": [
    "r2"
   ]
  },
  {
   "cell_type": "code",
   "execution_count": 16,
   "metadata": {},
   "outputs": [
    {
     "name": "stdout",
     "output_type": "stream",
     "text": [
      "3.601884247793598\n",
      "6.136619894907062\n"
     ]
    }
   ],
   "source": [
    "for i in r2.values():\n",
    "    print(i)"
   ]
  },
  {
   "cell_type": "code",
   "execution_count": 17,
   "metadata": {},
   "outputs": [
    {
     "name": "stdout",
     "output_type": "stream",
     "text": [
      "z = [3.601884247793598, 6.136619894907062]\n"
     ]
    }
   ],
   "source": [
    "print(\"z = [3.601884247793598, 6.136619894907062]\")"
   ]
  },
  {
   "cell_type": "code",
   "execution_count": 21,
   "metadata": {},
   "outputs": [
    {
     "data": {
      "text/html": [
       "<pre style=\"word-wrap: normal;white-space: pre;background: #fff0;line-height: 1.1;font-family: &quot;Courier New&quot;,Courier,monospace\">     ┌───┐┌────────────┐┌────────────┐\n",
       "q_0: ┤ H ├┤ RZ(3.0339) ├┤ RX(3.3302) ├\n",
       "     └───┘└────────────┘└────────────┘</pre>"
      ],
      "text/plain": [
       "     ┌───┐┌────────────┐┌────────────┐\n",
       "q_0: ┤ H ├┤ RZ(3.0339) ├┤ RX(3.3302) ├\n",
       "     └───┘└────────────┘└────────────┘"
      ]
     },
     "execution_count": 21,
     "metadata": {},
     "output_type": "execute_result"
    }
   ],
   "source": [
    "circ_1 = qc.bind_parameters(r1)\n",
    "circ_1.draw()"
   ]
  },
  {
   "cell_type": "code",
   "execution_count": 22,
   "metadata": {},
   "outputs": [
    {
     "data": {
      "text/html": [
       "<pre style=\"word-wrap: normal;white-space: pre;background: #fff0;line-height: 1.1;font-family: &quot;Courier New&quot;,Courier,monospace\">     ┌───┐┌────────────┐┌────────────┐\n",
       "q_0: ┤ H ├┤ RZ(3.6019) ├┤ RX(6.1366) ├\n",
       "     └───┘└────────────┘└────────────┘</pre>"
      ],
      "text/plain": [
       "     ┌───┐┌────────────┐┌────────────┐\n",
       "q_0: ┤ H ├┤ RZ(3.6019) ├┤ RX(6.1366) ├\n",
       "     └───┘└────────────┘└────────────┘"
      ]
     },
     "execution_count": 22,
     "metadata": {},
     "output_type": "execute_result"
    }
   ],
   "source": [
    "circ_2 = qc.bind_parameters(r2)\n",
    "circ_2.draw()"
   ]
  },
  {
   "cell_type": "code",
   "execution_count": 23,
   "metadata": {},
   "outputs": [],
   "source": [
    "backend = Aer.get_backend('statevector_simulator')\n",
    "job1 = execute(circ_1, backend)\n",
    "job2 = execute(circ_2, backend)\n",
    "v1 = job1.result().get_statevector()\n",
    "v2 = job2.result().get_statevector()"
   ]
  },
  {
   "cell_type": "code",
   "execution_count": 24,
   "metadata": {},
   "outputs": [
    {
     "data": {
      "text/plain": [
       "array([0.00910782+0.69988406j, 0.06619669-0.711124j  ])"
      ]
     },
     "execution_count": 24,
     "metadata": {},
     "output_type": "execute_result"
    }
   ],
   "source": [
    "v1"
   ]
  },
  {
   "cell_type": "code",
   "execution_count": 25,
   "metadata": {},
   "outputs": [
    {
     "data": {
      "text/plain": [
       "array([-0.72820668+0.04638402j,  0.6318129 +0.26148808j])"
      ]
     },
     "execution_count": 25,
     "metadata": {},
     "output_type": "execute_result"
    }
   ],
   "source": [
    "v2"
   ]
  },
  {
   "cell_type": "code",
   "execution_count": 26,
   "metadata": {},
   "outputs": [
    {
     "data": {
      "text/plain": [
       "0.9679165238556401"
      ]
     },
     "execution_count": 26,
     "metadata": {},
     "output_type": "execute_result"
    }
   ],
   "source": [
    "state_fidelity(v1, v2)"
   ]
  },
  {
   "cell_type": "markdown",
   "metadata": {},
   "source": [
    "## Testing without noise "
   ]
  },
  {
   "cell_type": "code",
   "execution_count": 138,
   "metadata": {},
   "outputs": [],
   "source": [
    "from qiskit.ignis.verification.tomography import state_tomography_circuits, StateTomographyFitter\n",
    "from qiskit.ignis.verification.tomography import process_tomography_circuits, ProcessTomographyFitter\n",
    "from qiskit.ignis.verification.tomography import gateset_tomography_circuits, GatesetTomographyFitter\n",
    "import qiskit.ignis.mitigation.measurement as mc\n",
    "from qiskit import quantum_info as qi"
   ]
  },
  {
   "cell_type": "code",
   "execution_count": 30,
   "metadata": {},
   "outputs": [
    {
     "data": {
      "text/html": [
       "<pre style=\"word-wrap: normal;white-space: pre;background: #fff0;line-height: 1.1;font-family: &quot;Courier New&quot;,Courier,monospace\">      ┌───┐┌──────────┐┌──────────┐\n",
       "q0_0: ┤ H ├┤ RZ(z[0]) ├┤ RX(z[1]) ├\n",
       "      └───┘└──────────┘└──────────┘</pre>"
      ],
      "text/plain": [
       "      ┌───┐┌──────────┐┌──────────┐\n",
       "q0_0: ┤ H ├┤ RZ(z[0]) ├┤ RX(z[1]) ├\n",
       "      └───┘└──────────┘└──────────┘"
      ]
     },
     "execution_count": 30,
     "metadata": {},
     "output_type": "execute_result"
    }
   ],
   "source": [
    "qc.draw()"
   ]
  },
  {
   "cell_type": "code",
   "execution_count": 32,
   "metadata": {},
   "outputs": [
    {
     "data": {
      "text/html": [
       "<pre style=\"word-wrap: normal;white-space: pre;background: #fff0;line-height: 1.1;font-family: &quot;Courier New&quot;,Courier,monospace\">      ┌───┐\n",
       "q2_0: ┤ H ├\n",
       "      └───┘</pre>"
      ],
      "text/plain": [
       "      ┌───┐\n",
       "q2_0: ┤ H ├\n",
       "      └───┘"
      ]
     },
     "execution_count": 32,
     "metadata": {},
     "output_type": "execute_result"
    }
   ],
   "source": [
    "qr2 = QuantumRegister(1)\n",
    "qc2 = QuantumCircuit(qr2)\n",
    "qc2.h(0)\n",
    "qc2.draw()"
   ]
  },
  {
   "cell_type": "code",
   "execution_count": 36,
   "metadata": {},
   "outputs": [
    {
     "data": {
      "text/html": [
       "<pre style=\"word-wrap: normal;white-space: pre;background: #fff0;line-height: 1.1;font-family: &quot;Courier New&quot;,Courier,monospace\">      ┌───┐ ░ ┌───┐┌─┐\n",
       "q2_0: ┤ H ├─░─┤ H ├┤M├\n",
       "      └───┘ ░ └───┘└╥┘\n",
       "c2_0: ══════════════╩═\n",
       "                      </pre>"
      ],
      "text/plain": [
       "      ┌───┐ ░ ┌───┐┌─┐\n",
       "q2_0: ┤ H ├─░─┤ H ├┤M├\n",
       "      └───┘ ░ └───┘└╥┘\n",
       "c2_0: ══════════════╩═\n",
       "                      "
      ]
     },
     "execution_count": 36,
     "metadata": {},
     "output_type": "execute_result"
    }
   ],
   "source": [
    "qc_tomo_circuits = state_tomography_circuits(qc2, qr2)\n",
    "qc_tomo_circuits[0].draw()\n",
    "# print(len(qc_tomo_circuits))"
   ]
  },
  {
   "cell_type": "code",
   "execution_count": 46,
   "metadata": {},
   "outputs": [],
   "source": [
    "job = execute(qc_tomo_circuits, Aer.get_backend('qasm_simulator'), optimization_level=0, shots=5000)"
   ]
  },
  {
   "cell_type": "code",
   "execution_count": 57,
   "metadata": {},
   "outputs": [
    {
     "name": "stdout",
     "output_type": "stream",
     "text": [
      "<class 'qiskit.result.result.Result'>\n"
     ]
    }
   ],
   "source": [
    "print(type(job.result()))"
   ]
  },
  {
   "cell_type": "code",
   "execution_count": 106,
   "metadata": {},
   "outputs": [],
   "source": [
    "density = StateTomographyFitter(job.result(),qc_tomo_circuits).fit(method='lstsq')"
   ]
  },
  {
   "cell_type": "code",
   "execution_count": 107,
   "metadata": {},
   "outputs": [
    {
     "data": {
      "text/plain": [
       "array([[0.50259993+0.j        , 0.49998648-0.00259993j],\n",
       "       [0.49998648+0.00259993j, 0.49740007+0.j        ]])"
      ]
     },
     "execution_count": 107,
     "metadata": {},
     "output_type": "execute_result"
    }
   ],
   "source": [
    "density"
   ]
  },
  {
   "cell_type": "code",
   "execution_count": 108,
   "metadata": {},
   "outputs": [
    {
     "data": {
      "text/plain": [
       "array([1.00000000e+00+0.j, 7.87084648e-17+0.j])"
      ]
     },
     "execution_count": 108,
     "metadata": {},
     "output_type": "execute_result"
    }
   ],
   "source": [
    "np.linalg.eigvals(density)"
   ]
  },
  {
   "cell_type": "markdown",
   "metadata": {},
   "source": [
    "## Testing with noise "
   ]
  },
  {
   "cell_type": "code",
   "execution_count": 50,
   "metadata": {},
   "outputs": [],
   "source": [
    "from qiskit import IBMQ"
   ]
  },
  {
   "cell_type": "code",
   "execution_count": 51,
   "metadata": {},
   "outputs": [
    {
     "name": "stderr",
     "output_type": "stream",
     "text": [
      "/Library/Frameworks/Python.framework/Versions/3.8/lib/python3.8/site-packages/qiskit/providers/aer/noise/device/basic_device_model.py:111: DeprecationWarning: This function is been deprecated and moved to a method of the`NoiseModel` class. For equivalent functionality use `NoiseModel.from_backend(properties, **kwargs).\n",
      "  warnings.warn(\n"
     ]
    },
    {
     "name": "stdout",
     "output_type": "stream",
     "text": [
      "Backend Noise Model of Bogota being used\n"
     ]
    }
   ],
   "source": [
    "from qiskit.providers.aer import noise\n",
    "IBMQ.load_account()\n",
    "provider = IBMQ.get_provider(hub='ibm-q-internal', group='deployed', project='default')\n",
    "noisy_backend = provider.get_backend('ibmq_bogota')\n",
    "backend_noise = noise.device.basic_device_noise_model(noisy_backend.properties())\n",
    "print (\"Backend Noise Model of Bogota being used\")"
   ]
  },
  {
   "cell_type": "code",
   "execution_count": 150,
   "metadata": {},
   "outputs": [],
   "source": [
    "shots = 1000\n",
    "backend = Aer.get_backend('qasm_simulator')\n",
    "quantum_instance = QuantumInstance(backend=backend, shots=shots, \n",
    "                                   skip_qobj_validation=False,optimization_level=0,\n",
    "                                   noise_model=backend_noise)"
   ]
  },
  {
   "cell_type": "code",
   "execution_count": 53,
   "metadata": {},
   "outputs": [],
   "source": [
    "results_with_noise = quantum_instance.execute(qc_tomo_circuits)"
   ]
  },
  {
   "cell_type": "code",
   "execution_count": 58,
   "metadata": {},
   "outputs": [
    {
     "name": "stdout",
     "output_type": "stream",
     "text": [
      "<class 'qiskit.result.result.Result'>\n"
     ]
    }
   ],
   "source": [
    "print(type(results_with_noise))"
   ]
  },
  {
   "cell_type": "code",
   "execution_count": 116,
   "metadata": {},
   "outputs": [],
   "source": [
    "density_noisy = StateTomographyFitter(results_with_noise, qc_tomo_circuits).fit(method=\"lstsq\")"
   ]
  },
  {
   "cell_type": "code",
   "execution_count": 117,
   "metadata": {},
   "outputs": [
    {
     "data": {
      "text/plain": [
       "array([[0.521 +0.j    , 0.4862-0.0214j],\n",
       "       [0.4862+0.0214j, 0.479 +0.j    ]])"
      ]
     },
     "execution_count": 117,
     "metadata": {},
     "output_type": "execute_result"
    }
   ],
   "source": [
    "density_noisy"
   ]
  },
  {
   "cell_type": "code",
   "execution_count": 118,
   "metadata": {},
   "outputs": [
    {
     "data": {
      "text/plain": [
       "array([0.9871236-1.73311074e-18j, 0.0128764+1.73311074e-18j])"
      ]
     },
     "execution_count": 118,
     "metadata": {},
     "output_type": "execute_result"
    }
   ],
   "source": [
    "np.linalg.eigvals(density_noisy)"
   ]
  },
  {
   "cell_type": "code",
   "execution_count": 83,
   "metadata": {},
   "outputs": [],
   "source": [
    "from qiskit.quantum_info import state_fidelity, DensityMatrix, Statevector"
   ]
  },
  {
   "cell_type": "code",
   "execution_count": 119,
   "metadata": {},
   "outputs": [
    {
     "data": {
      "text/plain": [
       "0.9864073291382163"
      ]
     },
     "execution_count": 119,
     "metadata": {},
     "output_type": "execute_result"
    }
   ],
   "source": [
    "state_fidelity(DensityMatrix(density), DensityMatrix(density_noisy))"
   ]
  },
  {
   "cell_type": "code",
   "execution_count": 84,
   "metadata": {},
   "outputs": [
    {
     "data": {
      "text/plain": [
       "0.9999999999999998"
      ]
     },
     "execution_count": 84,
     "metadata": {},
     "output_type": "execute_result"
    }
   ],
   "source": [
    "state_fidelity(DensityMatrix([[0.5, 0.5], [0.5, 0.5]]), Statevector([1/np.sqrt(2), 1/np.sqrt(2)]))"
   ]
  },
  {
   "cell_type": "code",
   "execution_count": 72,
   "metadata": {},
   "outputs": [],
   "source": [
    "def is_pos_def(x):\n",
    "    return np.all(np.linalg.eigvals(x) > 0)"
   ]
  },
  {
   "cell_type": "code",
   "execution_count": 82,
   "metadata": {},
   "outputs": [
    {
     "data": {
      "text/plain": [
       "array([ 1.00001492e+00+6.07029933e-18j, -1.47821783e-05-5.63661846e-18j])"
      ]
     },
     "execution_count": 82,
     "metadata": {},
     "output_type": "execute_result"
    }
   ],
   "source": [
    "np.linalg.eigvals(density)"
   ]
  },
  {
   "cell_type": "code",
   "execution_count": 81,
   "metadata": {},
   "outputs": [
    {
     "name": "stdout",
     "output_type": "stream",
     "text": [
      "False\n"
     ]
    }
   ],
   "source": [
    "print(a)"
   ]
  },
  {
   "cell_type": "code",
   "execution_count": 74,
   "metadata": {},
   "outputs": [
    {
     "name": "stdout",
     "output_type": "stream",
     "text": [
      "                \n",
      "q3_0: ──────────\n",
      "                \n",
      "q3_1: ──────────\n",
      "                \n",
      "q3_2: ──────────\n",
      "      ┌───┐     \n",
      "q3_3: ┤ H ├──■──\n",
      "      └───┘  │  \n",
      "q3_4: ───────┼──\n",
      "           ┌─┴─┐\n",
      "q3_5: ─────┤ X ├\n",
      "           └───┘\n",
      "Time taken: 9.621612071990967\n"
     ]
    }
   ],
   "source": [
    "q2 = QuantumRegister(6)\n",
    "bell = QuantumCircuit(q2)\n",
    "bell.h(q2[3])\n",
    "bell.cx(q2[3], q2[5])\n",
    "print(bell)\n",
    "\n",
    "t = time.time()\n",
    "\n",
    "# Generate the state tomography circuits.\n",
    "qst_bell = state_tomography_circuits(bell, [q2[3], q2[5]])\n",
    "\n",
    "# Execute\n",
    "job_ = qiskit.execute(qst_bell, Aer.get_backend('qasm_simulator'), shots=5000)\n",
    "print('Time taken:', time.time() - t)\n",
    "\n",
    "# Fit result\n",
    "tomo_fitter_bell = StateTomographyFitter(job_.result(), qst_bell)\n",
    "\n",
    "# Perform the tomography fit\n",
    "# which outputs a density matrix\n",
    "rho_fit_bell = tomo_fitter_bell.fit(method='lstsq')\n",
    "# F_bell = qi.state_fidelity(rho_fit_bell, target_state_bell)\n",
    "# print('State Fidelity: F = {:.5f}'.format(F_bell))"
   ]
  },
  {
   "cell_type": "code",
   "execution_count": 75,
   "metadata": {},
   "outputs": [
    {
     "data": {
      "text/plain": [
       "array([[ 5.02612326e-01+0.00000000e+00j,  4.72320242e-04-3.74641289e-03j,\n",
       "         4.69903144e-04+7.56640834e-05j,  4.97149578e-01-5.44303814e-03j],\n",
       "       [ 4.72320242e-04+3.74641289e-03j,  2.20690550e-03+0.00000000e+00j,\n",
       "        -5.16100685e-04+2.13026847e-03j, -5.00501105e-04+2.45668276e-03j],\n",
       "       [ 4.69903144e-04-7.56640834e-05j, -5.16100685e-04-2.13026847e-03j,\n",
       "         2.19874510e-03+0.00000000e+00j, -5.11517009e-04+1.19894829e-03j],\n",
       "       [ 4.97149578e-01+5.44303814e-03j, -5.00501105e-04-2.45668276e-03j,\n",
       "        -5.11517009e-04-1.19894829e-03j,  4.92982023e-01+0.00000000e+00j]])"
      ]
     },
     "execution_count": 75,
     "metadata": {},
     "output_type": "execute_result"
    }
   ],
   "source": [
    "rho_fit_bell"
   ]
  },
  {
   "cell_type": "code",
   "execution_count": 78,
   "metadata": {},
   "outputs": [
    {
     "data": {
      "text/plain": [
       "True"
      ]
     },
     "execution_count": 78,
     "metadata": {},
     "output_type": "execute_result"
    }
   ],
   "source": [
    "np.trace(rho_fit_bell) == 1"
   ]
  },
  {
   "cell_type": "markdown",
   "metadata": {},
   "source": [
    "## Testing with Noise "
   ]
  },
  {
   "cell_type": "code",
   "execution_count": 124,
   "metadata": {},
   "outputs": [
    {
     "data": {
      "text/html": [
       "<pre style=\"word-wrap: normal;white-space: pre;background: #fff0;line-height: 1.1;font-family: &quot;Courier New&quot;,Courier,monospace\">      ┌───┐┌──────────┐┌──────────┐\n",
       "q6_0: ┤ H ├┤ RZ(z[0]) ├┤ RX(z[1]) ├\n",
       "      └───┘└──────────┘└──────────┘</pre>"
      ],
      "text/plain": [
       "      ┌───┐┌──────────┐┌──────────┐\n",
       "q6_0: ┤ H ├┤ RZ(z[0]) ├┤ RX(z[1]) ├\n",
       "      └───┘└──────────┘└──────────┘"
      ]
     },
     "execution_count": 124,
     "metadata": {},
     "output_type": "execute_result"
    }
   ],
   "source": [
    "qc_, qr_ = pqc_test(num_qubits=1, reps=1)\n",
    "qc_.draw()"
   ]
  },
  {
   "cell_type": "code",
   "execution_count": 130,
   "metadata": {},
   "outputs": [
    {
     "data": {
      "image/png": "[encoded data removed]",
      "text/plain": [
       "<Figure size 432x288 with 1 Axes>"
      ]
     },
     "metadata": {
      "needs_background": "light"
     },
     "output_type": "display_data"
    },
    {
     "name": "stdout",
     "output_type": "stream",
     "text": [
      "Expressibility of the pqc using Hellinger fidelity: 0.20322422957905584\n",
      "Expressibility of the pqc using KL divergence: 2.014903020542264\n"
     ]
    }
   ],
   "source": [
    "exp_test_1, results_test_1, _, _ = expressibility(pqc=qc_, qr=qr_, trials=10, \n",
    "                                                  bin_num=75, quantum_instance=quantum_instance, draw=True)"
   ]
  },
  {
   "cell_type": "markdown",
   "metadata": {},
   "source": [
    "## Trying with circuit 3, 1000 trails, 1 reps "
   ]
  },
  {
   "cell_type": "code",
   "execution_count": 145,
   "metadata": {},
   "outputs": [],
   "source": [
    "qc_3, qr_3 = c3()"
   ]
  },
  {
   "cell_type": "code",
   "execution_count": 146,
   "metadata": {},
   "outputs": [
    {
     "data": {
      "text/html": [
       "<pre style=\"word-wrap: normal;white-space: pre;background: #fff0;line-height: 1.1;font-family: &quot;Courier New&quot;,Courier,monospace\">       ┌──────────┐┌──────────┐                        ┌───────────┐\n",
       "q10_0: ┤ RX(b[0]) ├┤ RZ(b[4]) ├────────────────────────┤ RZ(b[10]) ├\n",
       "       ├──────────┤├──────────┤            ┌──────────┐└─────┬─────┘\n",
       "q10_1: ┤ RX(b[1]) ├┤ RZ(b[5]) ├────────────┤ RZ(b[9]) ├──────■──────\n",
       "       ├──────────┤├──────────┤┌──────────┐└────┬─────┘             \n",
       "q10_2: ┤ RX(b[2]) ├┤ RZ(b[6]) ├┤ RZ(b[8]) ├─────■───────────────────\n",
       "       ├──────────┤├──────────┤└────┬─────┘                         \n",
       "q10_3: ┤ RX(b[3]) ├┤ RZ(b[7]) ├─────■───────────────────────────────\n",
       "       └──────────┘└──────────┘                                     </pre>"
      ],
      "text/plain": [
       "       ┌──────────┐┌──────────┐                        ┌───────────┐\n",
       "q10_0: ┤ RX(b[0]) ├┤ RZ(b[4]) ├────────────────────────┤ RZ(b[10]) ├\n",
       "       ├──────────┤├──────────┤            ┌──────────┐└─────┬─────┘\n",
       "q10_1: ┤ RX(b[1]) ├┤ RZ(b[5]) ├────────────┤ RZ(b[9]) ├──────■──────\n",
       "       ├──────────┤├──────────┤┌──────────┐└────┬─────┘             \n",
       "q10_2: ┤ RX(b[2]) ├┤ RZ(b[6]) ├┤ RZ(b[8]) ├─────■───────────────────\n",
       "       ├──────────┤├──────────┤└────┬─────┘                         \n",
       "q10_3: ┤ RX(b[3]) ├┤ RZ(b[7]) ├─────■───────────────────────────────\n",
       "       └──────────┘└──────────┘                                     "
      ]
     },
     "execution_count": 146,
     "metadata": {},
     "output_type": "execute_result"
    }
   ],
   "source": [
    "qc_3.draw()"
   ]
  },
  {
   "cell_type": "code",
   "execution_count": 147,
   "metadata": {},
   "outputs": [
    {
     "data": {
      "text/plain": [
       "QuantumRegister(4, 'q10')"
      ]
     },
     "execution_count": 147,
     "metadata": {},
     "output_type": "execute_result"
    }
   ],
   "source": [
    "qr_3"
   ]
  },
  {
   "cell_type": "code",
   "execution_count": 148,
   "metadata": {},
   "outputs": [
    {
     "data": {
      "image/png": "[encoded data removed]",
      "text/plain": [
       "<Figure size 432x288 with 1 Axes>"
      ]
     },
     "metadata": {
      "needs_background": "light"
     },
     "output_type": "display_data"
    },
    {
     "name": "stdout",
     "output_type": "stream",
     "text": [
      "Expressibility of the pqc using Hellinger fidelity: 0.6134907509794789\n",
      "Expressibility of the pqc using KL divergence: 0.5368887133501901\n",
      "Time taken: 21011.074267864227\n"
     ]
    }
   ],
   "source": [
    "t = time.time()\n",
    "exp_test_1, results_test_1, _, _ = expressibility(pqc=qc_3, qr=qr_3, trials=1000, \n",
    "                                                  bin_num=75, quantum_instance=quantum_instance, draw=True)\n",
    "print('Time taken:', time.time() - t)"
   ]
  },
  {
   "cell_type": "code",
   "execution_count": 151,
   "metadata": {},
   "outputs": [
    {
     "data": {
      "image/png": "[encoded data removed]",
      "text/plain": [
       "<Figure size 432x288 with 1 Axes>"
      ]
     },
     "metadata": {
      "needs_background": "light"
     },
     "output_type": "display_data"
    },
    {
     "name": "stdout",
     "output_type": "stream",
     "text": [
      "Expressibility of the pqc using Hellinger fidelity: 0.41696003792875846\n",
      "Expressibility of the pqc using KL divergence: 1.1759232929154124\n",
      "Time taken: 20744.96845293045\n"
     ]
    }
   ],
   "source": [
    "qc_3_2, qr_3_2 = c3(num_qubits=4, reps=2)\n",
    "\n",
    "t_ = time.time()\n",
    "exp_test_1_2, results_test_1_2, _, _ = expressibility(pqc=qc_3_2, qr=qr_3_2, trials=1000, \n",
    "                                                  bin_num=75, quantum_instance=quantum_instance, draw=True)\n",
    "print('Time taken:', time.time() - t_)"
   ]
  },
  {
   "cell_type": "code",
   "execution_count": 158,
   "metadata": {},
   "outputs": [
    {
     "data": {
      "text/plain": [
       "array([  0,  -3,  -8, -15, -24])"
      ]
     },
     "execution_count": 158,
     "metadata": {},
     "output_type": "execute_result"
    }
   ],
   "source": [
    "1 - np.array([1, 2, 3, 4, 5])**2"
   ]
  },
  {
   "cell_type": "code",
   "execution_count": 161,
   "metadata": {},
   "outputs": [
    {
     "data": {
      "image/png": "[encoded data removed]",
      "text/plain": [
       "<Figure size 432x288 with 1 Axes>"
      ]
     },
     "metadata": {
      "needs_background": "light"
     },
     "output_type": "display_data"
    }
   ],
   "source": [
    "plt.hist(results_test_1_2, bins=np.linspace(0,1, 76))\n",
    "x = np.linspace(0,1, 76)\n",
    "plt.plot(x,15*((1-x)**(14)),'r--')\n",
    "plt.show()"
   ]
  },
  {
   "cell_type": "markdown",
   "metadata": {},
   "source": [
    "## Testing without noise to compare results"
   ]
  },
  {
   "cell_type": "code",
   "execution_count": null,
   "metadata": {},
   "outputs": [],
   "source": []
  }
 ],
 "metadata": {
  "kernelspec": {
   "display_name": "Python 3",
   "language": "python",
   "name": "python3"
  },
  "language_info": {
   "codemirror_mode": {
    "name": "ipython",
    "version": 3
   },
   "file_extension": ".py",
   "mimetype": "text/x-python",
   "name": "python",
   "nbconvert_exporter": "python",
   "pygments_lexer": "ipython3",
   "version": "3.8.2"
  }
 },
 "nbformat": 4,
 "nbformat_minor": 4
}
